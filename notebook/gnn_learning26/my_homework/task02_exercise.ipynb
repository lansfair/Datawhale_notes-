{
 "cells": [
  {
   "cell_type": "markdown",
   "metadata": {
    "collapsed": true
   },
   "source": [
    "# Task02 消息传递范式"
   ]
  },
  {
   "cell_type": "markdown",
   "metadata": {},
   "source": [
    "## 1 知识梳理"
   ]
  },
  {
   "cell_type": "markdown",
   "metadata": {},
   "source": [
    "### 1.1 消息传递范式介绍\n",
    "- 概念：一种聚合邻接节点信息来更新中心节点信息的范式\n",
    "- 过程：通过邻接节点信息经过变换后聚合，在所有节点上进行一遍，多次更新后的节点信息就作为**节点表征**\n",
    "- 消息传递图神经网络：$$ \\mathbf{x}_i^{(k)} = \\gamma^{(k)} \\left( \\mathbf{x}_i^{(k-1)}, \\square_{j \\in \\mathcal{N}(i)} \\, \\phi^{(k)}\\left(\\mathbf{x}_i^{(k-1)}, \\mathbf{x}_j^{(k-1)},\\mathbf{e}_{j,i}\\right) \\right)$$\n",
    "- 节点嵌入：神经网络生成节点表征的操作"
   ]
  },
  {
   "cell_type": "markdown",
   "metadata": {},
   "source": [
    "### 1.2 `MessagePassing`基类\n",
    "- 作用：封装了消息传递的运行流程\n",
    "- `aggr`：聚合方案，`flow`：消息传递的流向，`node_dim`：传播的具体维度\n",
    "- `MessagePassing.propagate()`：开始传递消息的起始调用\n",
    "- `MessagePassing.message()`：实现$\\phi$函数\n",
    "- `MessagePassing.aggregate()`：从源节点传递过来的消息聚合在目标节点上的函数，使用`sum`,`mean`和`max`\n",
    "- `MessagePassing.update()`：实现$\\gamma$函数"
   ]
  },
  {
   "cell_type": "markdown",
   "metadata": {},
   "source": [
    "### 1.3 GCNConv示例\n",
    "- 数学公式：$$\\mathbf{x}_i^{(k)} = \\sum_{j \\in \\mathcal{N}(i) \\cup \\{ i \\}} \\frac{1}{\\sqrt{\\deg(i)} \\cdot \\sqrt{\\deg(j)}} \\cdot \\left( \\mathbf{\\Theta} \\cdot \\mathbf{x}_j^{(k-1)} \\right)$$\n",
    "- 矩阵形式：$$\\mathbf{X}' = \\mathbf{\\hat{D}}^{-1/2} \\mathbf{\\hat{A}} \\mathbf{\\hat{D}}^{-1/2}\\mathbf{X}\\Theta$$\n",
    "- 步骤：\n",
    "  1. 向邻接矩阵添加自循环边：构建$\\mathbf{\\hat{A}}$\n",
    "  2. 对节点表征进行线性变换：计算$\\mathbf{X}\\Theta$\n",
    "  3. 计算归一化系数：计算$\\mathbf{\\hat{D}}^{-1/2}$\n",
    "  4. 将相邻节点表征相加（`add`聚合）：得到一个对称且归一化的矩阵"
   ]
  },
  {
   "cell_type": "code",
   "execution_count": 1,
   "metadata": {},
   "outputs": [],
   "source": [
    "import torch\n",
    "from torch_geometric.nn import MessagePassing\n",
    "from torch_geometric.utils import add_self_loops, degree\n",
    "\n",
    "\n",
    "class GCNConv(MessagePassing):\n",
    "    def __init__(self, in_channels, out_channels):\n",
    "        super(GCNConv, self).__init__(aggr='add', flow='source_to_target')\n",
    "        # 使用add聚合函数\n",
    "        # 根据公式j<-N(i)，表示消息从源节点`i`传播到目标节点`j`，flow='source_to_target'\n",
    "        # 定义线性变换\n",
    "        self.lin = torch.nn.Linear(in_channels, out_channels)\n",
    "\n",
    "    def forward(self, x, edge_index):\n",
    "        # x的维度是[N, in_channels]\n",
    "        # 邻接矩阵的维度是[2, E]\n",
    "\n",
    "        # Step 1: 添加自循环边，构建A\n",
    "        edge_index, _ = add_self_loops(edge_index, num_nodes=x.size(0))\n",
    "\n",
    "        # Step 2: 对节点进行线性变换\n",
    "        x = self.lin(x)\n",
    "\n",
    "        # Step 3: 计算归一化系数\n",
    "        row, col = edge_index\n",
    "        deg = degree(col, x.size(0), dtype=x.dtype)\n",
    "        deg_inv_sqrt = deg.pow(-0.5)\n",
    "        norm = deg_inv_sqrt[row] * deg_inv_sqrt[col]\n",
    "\n",
    "        # Step 4-5: 调用propagate函数，开启消息传递\n",
    "        return self.propagate(edge_index, x=x, norm=norm)\n",
    "\n",
    "    def message(self, x_j, norm):\n",
    "        # x_j的维度是[E, out_channels]\n",
    "        # Step 4: 将x_j进行归一化\n",
    "        return norm.view(-1, 1) * x_j"
   ]
  },
  {
   "cell_type": "code",
   "execution_count": 2,
   "metadata": {},
   "outputs": [
    {
     "name": "stdout",
     "output_type": "stream",
     "text": [
      "tensor([[0.4728],\n",
      "        [0.9206],\n",
      "        [1.0365]], grad_fn=<ScatterAddBackward>)\n",
      "Parameter containing:\n",
      "tensor([[-0.0053,  0.3793]], requires_grad=True)\n"
     ]
    }
   ],
   "source": [
    "# 随机种子\n",
    "torch.manual_seed(0)\n",
    "\n",
    "# 定义边\n",
    "edge_index = torch.tensor([[0, 1, 1, 2],\n",
    "                           [1, 0, 2, 1]], dtype=torch.long)\n",
    "\n",
    "# 定义节点特征，每个节点特征维度是2\n",
    "x = torch.tensor([[-1, 2], [0, 4], [1, 5]], dtype=torch.float)\n",
    "\n",
    "# 创建一层GCN层，并把特征维度从2维降到1维\n",
    "conv = GCNConv(2, 1)\n",
    "\n",
    "# 前向传播\n",
    "x = conv(x, edge_index)\n",
    "print(x)\n",
    "print(conv.lin.weight)"
   ]
  },
  {
   "cell_type": "markdown",
   "metadata": {},
   "source": [
    "## 2 实战练习"
   ]
  },
  {
   "cell_type": "markdown",
   "metadata": {},
   "source": [
    "### 2.1 习题1 \n",
    "请总结`MessagePassing`基类的运行流程"
   ]
  },
  {
   "cell_type": "markdown",
   "metadata": {},
   "source": [
    "**解答：**"
   ]
  },
  {
   "cell_type": "markdown",
   "metadata": {},
   "source": [
    "`MessagePassing`基类的运行流程：\n",
    "1. 初始化参数聚合函数`aggr`，消息传递流向`flow`，传播维度`node_dim`\n",
    "2. 初始化自实现函数中用到的自定义参数`__user_args__`，`__fused_user_args__`\n",
    "3. 基于`Module`基类，调用`forward`函数，用于数据或参数的初始化\n",
    "4. `propagate`函数：  \n",
    "  （1）检查`edge_index`和`size`参数是否符合要求，并返回`size`  \n",
    "  （2）判断`edge_index`是否为`SparseTensor`，如果满足，则执行`message_and_aggregate`，再执行`update`方法  \n",
    "  （3）如果不满足，就先执行`message`方法，再执行`aggregate`和`update`方法  "
   ]
  },
  {
   "cell_type": "markdown",
   "metadata": {},
   "source": [
    "### 2.2 习题2\n",
    "请复现一个一层的图神经网络的构造，总结通过继承`MessagePassing`基类来构造自己的图神经网络类的规范。"
   ]
  },
  {
   "cell_type": "markdown",
   "metadata": {},
   "source": [
    "**解答：**  \n",
    "自定义一层图神经网络的数学公式如下：\n",
    "$$\\mathbf{x}^{\\prime}_i = \\mathbf{x}_i \\cdot \\mathbf{\\Theta}_1 +\n",
    "        \\sum_{j \\in \\mathcal{N}(i)} e_{j,i} \\cdot\n",
    "        (\\mathbf{\\Theta}_2 \\mathbf{x}_i - \\mathbf{\\Theta}_3 \\mathbf{x}_j)$$"
   ]
  },
  {
   "cell_type": "code",
   "execution_count": 3,
   "metadata": {},
   "outputs": [],
   "source": [
    "import torch\n",
    "from torch.nn import functional as F\n",
    "from torch_geometric.nn import MessagePassing\n",
    "from torch_geometric.datasets import Planetoid\n",
    "\n",
    "\n",
    "class MyGNN(MessagePassing):\n",
    "    \"\"\"\n",
    "    .. math::\n",
    "        \\mathbf{x}^{\\prime}_i = \\mathbf{x}_i \\cdot \\mathbf{\\Theta}_1 +\n",
    "        \\sum_{j \\in \\mathcal{N}(i)} e_{j,i} \\cdot\n",
    "        (\\mathbf{\\Theta}_2 \\mathbf{x}_i - \\mathbf{\\Theta}_3 \\mathbf{x}_j)\n",
    "    \"\"\"\n",
    "\n",
    "    def __init__(self, in_channels, out_channels, device):\n",
    "        super(MyGNN, self).__init__(aggr='add')\n",
    "        self.in_channels = in_channels\n",
    "        self.out_channels = out_channels\n",
    "\n",
    "        self.lin1 = torch.nn.Linear(in_channels, out_channels).to(device)\n",
    "        self.lin2 = torch.nn.Linear(in_channels, out_channels).to(device)\n",
    "        self.lin3 = torch.nn.Linear(in_channels, out_channels).to(device)\n",
    "\n",
    "    def forward(self, x, edge_index):\n",
    "        a = self.lin1(x)\n",
    "        b = self.lin2(x)\n",
    "        out = self.propagate(edge_index, a=a, b=b)\n",
    "        return self.lin3(x) + out\n",
    "\n",
    "    def message(self, a_i, b_j):\n",
    "        out = a_i - b_j\n",
    "        return out\n",
    "\n",
    "    def __repr__(self):\n",
    "        return '{}({}, {})'.format(self.__class__.__name__, self.in_channels,\n",
    "                                   self.out_channels)"
   ]
  },
  {
   "cell_type": "code",
   "execution_count": 4,
   "metadata": {
    "scrolled": false
   },
   "outputs": [
    {
     "name": "stdout",
     "output_type": "stream",
     "text": [
      "MyGNN(1433, 7)\n",
      "Train Epoch:   0 Accuracy: 11.80%\n",
      "Train Epoch:  10 Accuracy: 57.80%\n",
      "Train Epoch:  20 Accuracy: 59.00%\n",
      "Train Epoch:  30 Accuracy: 59.40%\n",
      "Train Epoch:  40 Accuracy: 59.20%\n",
      "Train Epoch:  50 Accuracy: 59.10%\n",
      "Train Epoch:  60 Accuracy: 59.20%\n",
      "Train Epoch:  70 Accuracy: 59.50%\n",
      "Train Epoch:  80 Accuracy: 59.70%\n",
      "Train Epoch:  90 Accuracy: 59.80%\n",
      "Train Epoch: 100 Accuracy: 59.90%\n",
      "Train Epoch: 110 Accuracy: 59.90%\n",
      "Train Epoch: 120 Accuracy: 59.90%\n",
      "Train Epoch: 130 Accuracy: 59.90%\n",
      "Train Epoch: 140 Accuracy: 59.90%\n",
      "Train Epoch: 150 Accuracy: 59.80%\n",
      "Train Epoch: 160 Accuracy: 59.90%\n",
      "Train Epoch: 170 Accuracy: 60.00%\n",
      "Train Epoch: 180 Accuracy: 59.90%\n",
      "Train Epoch: 190 Accuracy: 59.90%\n"
     ]
    }
   ],
   "source": [
    "device = torch.device('cuda:0')\n",
    "\n",
    "dataset = Planetoid(root='dataset/Cora', name='Cora')\n",
    "model = MyGNN(in_channels=dataset.num_features, out_channels=dataset.num_classes, device=device)\n",
    "print(model)\n",
    "\n",
    "data = dataset[0].to(device)\n",
    "optimizer = torch.optim.Adam(model.parameters(), lr=0.01, weight_decay=5e-4)\n",
    "\n",
    "model.train()\n",
    "for epoch in range(200):\n",
    "    optimizer.zero_grad()\n",
    "    out = model(data.x, data.edge_index).to(device)\n",
    "    pred = out.argmax(dim=1)\n",
    "    accuracy = int((pred[data.test_mask] == data.y[data.test_mask]).sum()) / data.test_mask.sum()\n",
    "    loss = F.nll_loss(out[data.train_mask], data.y[data.train_mask])\n",
    "    loss.backward()\n",
    "    optimizer.step()\n",
    "    \n",
    "    if epoch % 10 == 0:\n",
    "        print(\"Train Epoch: {:3} Accuracy: {:.2f}%\".format(epoch, accuracy.item() * 100.0))"
   ]
  },
  {
   "cell_type": "markdown",
   "metadata": {},
   "source": [
    "## 3 参考文章\n",
    "\n",
    "【1】理解GCN的整个算法流程：https://blog.csdn.net/qq_41987033/article/details/103377561"
   ]
  }
 ],
 "metadata": {
  "kernelspec": {
   "display_name": "Python 3",
   "language": "python",
   "name": "python3"
  },
  "language_info": {
   "codemirror_mode": {
    "name": "ipython",
    "version": 3
   },
   "file_extension": ".py",
   "mimetype": "text/x-python",
   "name": "python",
   "nbconvert_exporter": "python",
   "pygments_lexer": "ipython3",
   "version": "3.7.9"
  },
  "toc": {
   "base_numbering": 1,
   "nav_menu": {},
   "number_sections": false,
   "sideBar": true,
   "skip_h1_title": false,
   "title_cell": "Table of Contents",
   "title_sidebar": "Contents",
   "toc_cell": false,
   "toc_position": {},
   "toc_section_display": true,
   "toc_window_display": false
  }
 },
 "nbformat": 4,
 "nbformat_minor": 1
}
