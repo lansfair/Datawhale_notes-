{
 "cells": [
  {
   "cell_type": "markdown",
   "metadata": {},
   "source": [
    "# Task01 简单图论、环境配置与PyG库"
   ]
  },
  {
   "cell_type": "markdown",
   "metadata": {},
   "source": [
    "## 1 知识梳理"
   ]
  },
  {
   "cell_type": "markdown",
   "metadata": {},
   "source": [
    "### 1.1 图深度学习\n",
    "- 数据类型：矩阵、张量、序列和时间序列\n",
    "- 图机器学习：构建节点表征，包含节点自身的信息和节点邻接信息\n",
    "- 挑战：图是不规则的，构造信息复杂"
   ]
  },
  {
   "cell_type": "markdown",
   "metadata": {},
   "source": [
    "### 1.2 图的表示\n",
    "- 节点表示实体，边表示实体间的关系\n",
    "- 类别型的信息为标签，数值型的信息为属性\n",
    "- 邻接矩阵：表示节点之间边的信息，分为有权和无权，权重用$w$表示"
   ]
  },
  {
   "cell_type": "markdown",
   "metadata": {},
   "source": [
    "### 1.3 图的属性\n",
    "- 节点的度：入度$d_{in}(v)$和出度$d_{out}(v)$\n",
    "- 邻接节点：$N(v_i)$\n",
    "- 行走：从起点出发，经过边和节点到达终点\n",
    "- 最短路径：$p_{\\mathrm{s} t}^{\\mathrm{sp}}=\\arg \\min _{p \\in \\mathcal{P}_{\\mathrm{st}}}|p|$\n",
    "- 直径：$\\text{diameter}(\\mathcal{G})=\\max _{v_{s}, v_{t} \\in \\mathcal{V}} \\min _{p \\in \\mathcal{P}_{s t}}|p|$"
   ]
  },
  {
   "cell_type": "markdown",
   "metadata": {},
   "source": [
    "### 1.4 应用于图结构数据的机器学习\n",
    "- 节点预测：预测节点的类别或某类属性的取值\n",
    "- 边预测：预测两个节点间是否存在链接\n",
    "- 图预测：对不同的图进行分类或预测图的属性\n",
    "- 节点聚类：检测节点是否形成一个类"
   ]
  },
  {
   "cell_type": "markdown",
   "metadata": {},
   "source": [
    "### 1.5 Data类的创建\n",
    "- x：节点属性矩阵，主要存放节点的相关属性（数据）\n",
    "- edge_index：边索引矩阵，节点按照x中的编号排序，并通过编号表示节点关系，第1行为尾节点，第2行为头节点，表示头节点指向尾节点\n",
    "- edge_attr：边属性矩阵，表示边的权重\n",
    "- y：节点的类型\n",
    "- Data对象类型转换：`from_dict()`、`to_dict()`"
   ]
  },
  {
   "cell_type": "markdown",
   "metadata": {},
   "source": [
    "### 1.6 Dataset类\n",
    "- 创建数据集对象：使用内置数据集类\n",
    "- 分析数据集样本：通过`train_mask`、`val_mask`、`test_mask`得到训练/验证/测试数据集\n",
    "- 使用数据集：使用数据集训练模型"
   ]
  },
  {
   "cell_type": "markdown",
   "metadata": {},
   "source": [
    "## 2 实战练习"
   ]
  },
  {
   "cell_type": "markdown",
   "metadata": {},
   "source": [
    "**习题：**  \n",
    "&emsp;&emsp;请通过继承Data类实现一个类，专门用于表示“机构-作者-论文”的网络。该网络包含“机构“、”作者“和”论文”三类节点，以及“作者-机构“和 “作者-论文“两类边。对要实现的类的要求：  \n",
    "1. 用不同的属性存储不同节点的属性；  \n",
    "2. 用不同的属性存储不同的边（边没有属性）；  \n",
    "3. 逐一实现获取不同节点数量的方法。  "
   ]
  },
  {
   "cell_type": "markdown",
   "metadata": {},
   "source": [
    "**解答思路：**\n",
    "1. 定义枚举类，用于表示节点的类别：机构-0、作者-1、论文-2\n",
    "2. 继承Data类，传入参数类型为dataframe\n",
    "3. 根据Data类初始化，提供x，edge_index，y参数，用于创建Data类\n",
    "4. 编写create_datasets函数，用于得到Data类初始化用到的参数（x,edge_index,y）\n",
    "5. 遍历dataframe，按行取出数据：  \n",
    "  （1）添加节点，由于节点可能有重复，需要进行去重判断  \n",
    "  （2）构建类型为元组tuple的list，表示(node, label)  \n",
    "  （3）构建作者与机构、作者与论文的关系，使用np.hstack进行数据合并，得到edge_index  \n",
    "  （4）从list中得到x, y  \n",
    "  （5）返回x,edge_index,y\n",
    "6. 编写测试用例，测试MyDataset是否具备题目要求"
   ]
  },
  {
   "cell_type": "code",
   "execution_count": 1,
   "metadata": {},
   "outputs": [],
   "source": [
    "from enum import Enum, unique\n",
    "\n",
    "import numpy as np\n",
    "import pandas as pd\n",
    "import torch\n",
    "from torch_geometric.data import Data\n",
    "\n",
    "\n",
    "@unique\n",
    "class MyLabel(Enum):\n",
    "    dept = 0\n",
    "    paper = 1\n",
    "    author = 2\n",
    "\n",
    "\n",
    "class MyDataset(Data):\n",
    "    def __init__(self, input_data, **kwargs):\n",
    "        self.data = input_data\n",
    "        # 构建数据集需要的参数\n",
    "        x, edge_index, y, author_dept_edge_index, author_paper_edge_index = self.__create_datasets()\n",
    "        self.author_dept_edge_index = author_paper_edge_index\n",
    "        self.author_paper_edge_index = author_paper_edge_index\n",
    "        super().__init__(x=x, edge_index=edge_index, y=y, **kwargs)\n",
    "\n",
    "    def __add_node(self, node_label_list, node, label):\n",
    "        if node_label_list.count((node, label)) == 0:\n",
    "            # 添加节点\n",
    "            node_label_list.append((node, label))\n",
    "\n",
    "        node_index = node_label_list.index((node, label))\n",
    "\n",
    "        # 返回节点集，节点索引\n",
    "        return node_label_list, node_index\n",
    "\n",
    "    def __create_datasets(self):\n",
    "        node_label_list = []\n",
    "        edge_index = None\n",
    "        author_dept_edge_index = None\n",
    "        author_paper_edge_index = None\n",
    "\n",
    "        for row in self.data.values.tolist():\n",
    "            # 取出三个节点数据\n",
    "            dept = row[0]\n",
    "            paper = row[1]\n",
    "            author = row[2]\n",
    "\n",
    "            # 添加节点，得到节点索引\n",
    "            node_label_list, dept_index = self.__add_node(\n",
    "                node_label_list, dept, MyLabel.dept.value)\n",
    "            node_label_list, paper_index = self.__add_node(\n",
    "                node_label_list, paper, MyLabel.paper.value)\n",
    "            node_label_list, author_index = self.__add_node(\n",
    "                node_label_list, author, MyLabel.author.value)\n",
    "\n",
    "            # 构建作者与机构的关系\n",
    "            author_dept_index = np.array([[author_index, dept_index],\n",
    "                                          [dept_index, author_index]])\n",
    "\n",
    "            author_dept_edge_index = np.hstack((author_dept_edge_index, author_dept_index)) \\\n",
    "                if author_dept_edge_index is not None else author_dept_index\n",
    "            # 构建作者与论文的关系\n",
    "            author_paper_index = np.array([[author_index, paper_index],\n",
    "                                           [paper_index, author_index]])\n",
    "\n",
    "            author_paper_edge_index = np.hstack((author_paper_edge_index, author_paper_index)) \\\n",
    "                if author_paper_edge_index is not None else author_paper_index\n",
    "\n",
    "            # 添加边的索引\n",
    "            edge_index = np.hstack(\n",
    "                (edge_index, author_dept_index)) if edge_index is not None else author_dept_index\n",
    "            edge_index = np.hstack((edge_index, author_paper_index))\n",
    "\n",
    "        nodes = [[node] for node, label in node_label_list]\n",
    "        labels = [[label] for node, label in node_label_list]\n",
    "\n",
    "        x = torch.tensor(nodes)\n",
    "        edge_index = torch.tensor(edge_index, dtype=torch.long)\n",
    "        y = torch.tensor(labels)\n",
    "        return x, edge_index, y, author_dept_edge_index, author_paper_edge_index\n",
    "\n",
    "    @property\n",
    "    def dept_nums(self):\n",
    "        return self.data['dept'].nunique()\n",
    "\n",
    "    @property\n",
    "    def author_nums(self):\n",
    "        return self.data['author'].nunique()\n",
    "\n",
    "    @property\n",
    "    def paper_nums(self):\n",
    "        return self.data['paper'].nunique()"
   ]
  },
  {
   "cell_type": "code",
   "execution_count": 2,
   "metadata": {},
   "outputs": [
    {
     "name": "stdout",
     "output_type": "stream",
     "text": [
      "有2个作者，分别写了2个论文，来自同一个机构\n",
      "Number of dept nodes: 1\n",
      "Number of author nodes: 2\n",
      "Number of paper nodes: 2\n",
      "Number of nodes: 5\n",
      "Number of edges: 8\n",
      "Contains isolated nodes: False\n",
      "Contains self-loops: False\n",
      "Is undirected: True\n"
     ]
    }
   ],
   "source": [
    "print(\"有2个作者，分别写了2个论文，来自同一个机构\")\n",
    "# 有2个作者，分别写了2个论文，来自同一个机构\n",
    "input_data = pd.DataFrame([[1, 1, 1], [1, 2, 2]], columns=[\n",
    "    'dept', 'paper', 'author'])\n",
    "\n",
    "data = MyDataset(input_data)\n",
    "print(\"Number of dept nodes:\", data.dept_nums)\n",
    "print(\"Number of author nodes:\", data.author_nums)\n",
    "print(\"Number of paper nodes:\", data.paper_nums)\n",
    "# 节点数量\n",
    "print(\"Number of nodes:\", data.num_nodes)\n",
    "# 边数量\n",
    "print(\"Number of edges:\", data.num_edges)\n",
    "# 此图是否包含孤立的节点\n",
    "print(\"Contains isolated nodes:\", data.contains_isolated_nodes())\n",
    "# 此图是否包含自环的边\n",
    "print(\"Contains self-loops:\", data.contains_self_loops())\n",
    "# 此图是否是无向图\n",
    "print(\"Is undirected:\", data.is_undirected())"
   ]
  }
 ],
 "metadata": {
  "kernelspec": {
   "display_name": "Python 3",
   "language": "python",
   "name": "python3"
  },
  "language_info": {
   "codemirror_mode": {
    "name": "ipython",
    "version": 3
   },
   "file_extension": ".py",
   "mimetype": "text/x-python",
   "name": "python",
   "nbconvert_exporter": "python",
   "pygments_lexer": "ipython3",
   "version": "3.7.9"
  },
  "toc": {
   "base_numbering": 1,
   "nav_menu": {},
   "number_sections": false,
   "sideBar": true,
   "skip_h1_title": false,
   "title_cell": "Table of Contents",
   "title_sidebar": "Contents",
   "toc_cell": false,
   "toc_position": {},
   "toc_section_display": true,
   "toc_window_display": false
  }
 },
 "nbformat": 4,
 "nbformat_minor": 4
}
