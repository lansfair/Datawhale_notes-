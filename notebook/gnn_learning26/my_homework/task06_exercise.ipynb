{
 "cells": [
  {
   "cell_type": "markdown",
   "metadata": {},
   "source": [
    "# Task06 基于图神经网络的图表征学习方法"
   ]
  },
  {
   "cell_type": "markdown",
   "metadata": {},
   "source": [
    "## 1 知识梳理"
   ]
  },
  {
   "cell_type": "markdown",
   "metadata": {},
   "source": [
    "### 1.1 基于图同构网络(GIN)的图表征网络的实现\n",
    "- 基本思路：计算节点表征，对图上各个节点的表征做图池化，得到图的表征\n",
    "- 图表征模块(GINGraphReprModule)：\n",
    "  1. 对图上每一个节点进行节点嵌入，得到节点表征\n",
    "  2. 对节点表征做图池化，得到图表征\n",
    "  3. 用一层线性变换对图表征转换为对图的预测\n",
    "- 节点嵌入模块(GINNodeEmbeddingModule)：\n",
    "  1. 用AtomEcoder进行嵌入，得到第0层节点表征\n",
    "  2. 逐层计算节点表征\n",
    "  3. 感受野越大，节点i的表征最后能捕获到节点i的距离为num_layers的邻接节点的信息\n",
    "- 图同构卷积层(GINConv)：\n",
    "  1. 数学定义：$ \\displaystyle \\mathbf{x}^{\\prime}_i = h_{\\mathbf{\\Theta}} \\left( (1 + \\epsilon) \\cdot \\mathbf{x}_i + \\sum_{j \\in \\mathcal{N}(i)} \\mathbf{x}_j \\right)$\n",
    "  2. 将类别型边属性转换为边表征\n",
    "  3. 消息传递、消息聚合、消息更新\n",
    "- AtomEncoder和BondEncoder：将节点属性和边属性分布映射到一个新空间，再对节点和边进行信息融合。"
   ]
  },
  {
   "cell_type": "markdown",
   "metadata": {},
   "source": [
    "### 1.2 WL Test\n",
    "- 图同构性测试：\n",
    "  1. 迭代聚合节点及其邻接节点的标签\n",
    "  2. 将聚合标签散列成新的标签，数学公式：$\\displaystyle L^{h}_{u} \\leftarrow \\operatorname{hash}\\left(L^{h-1}_{u} + \\sum_{v \\in \\mathcal{N}(U)} L^{h-1}_{v}\\right)$\n",
    "- WL子树核衡量图之间相似性：使用不同迭代中的节点标签计数作为图的表征向量\n",
    "- 详细步骤：\n",
    "  1. 聚合自身与邻接节点的标签，得到一串字符串\n",
    "  2. 标签散列，将较长的字符串映射到一个简短的标签\n",
    "  3. 给节点重新打上标签\n",
    "- 图相似性评估：\n",
    "  1. WL Subtree Kernel方法：用WL Test算法得到节点多层标签，统计图中各类标签出现的次数，使用向量表示，作为图的表征\n",
    "  2. 两个图的表征向量内积，作为两个图的相似性估计\n",
    "- 判断图同构性的必要条件：两个节点自身标签一样且它们的邻接节点一样，将两个节点映射到相同的表征"
   ]
  },
  {
   "cell_type": "markdown",
   "metadata": {},
   "source": [
    "## 2 实战练习"
   ]
  },
  {
   "cell_type": "code",
   "execution_count": 11,
   "metadata": {},
   "outputs": [],
   "source": [
    "import torch\n",
    "from torch import nn\n",
    "from torch_geometric.nn import global_add_pool, global_mean_pool, global_max_pool, GlobalAttention, Set2Set\n",
    "import torch.nn.functional as F\n",
    "from torch_geometric.nn import MessagePassing\n",
    "from ogb.graphproppred.mol_encoder import BondEncoder\n",
    "from ogb.utils.features import get_atom_feature_dims, get_bond_feature_dims"
   ]
  },
  {
   "cell_type": "markdown",
   "metadata": {},
   "source": [
    "### 2.1 GIN的图表征模块"
   ]
  },
  {
   "cell_type": "code",
   "execution_count": 6,
   "metadata": {},
   "outputs": [],
   "source": [
    "class GINGraphPooling(nn.Module):\n",
    "\n",
    "    def __init__(self, num_tasks=1, num_layers=5, emb_dim=300, residual=False, drop_ratio=0, JK=\"last\", graph_pooling=\"sum\"):\n",
    "        \"\"\"GIN Graph Pooling Module\n",
    "\n",
    "        此模块首先采用GINNodeEmbedding模块对图上每一个节点做嵌入，然后对节点嵌入做池化得到图的嵌入，最后用一层线性变换得到图的最终的表示（graph representation）。\n",
    "\n",
    "        Args:\n",
    "            num_tasks (int, optional): number of labels to be predicted. Defaults to 1 (控制了图表示的维度，dimension of graph representation).\n",
    "            num_layers (int, optional): number of GINConv layers. Defaults to 5.\n",
    "            emb_dim (int, optional): dimension of node embedding. Defaults to 300.\n",
    "            residual (bool, optional): adding residual connection or not. Defaults to False.\n",
    "            drop_ratio (float, optional): dropout rate. Defaults to 0.\n",
    "            JK (str, optional): 可选的值为\"last\"和\"sum\"。选\"last\"，只取最后一层的结点的嵌入，选\"sum\"对各层的结点的嵌入求和。Defaults to \"last\".\n",
    "            graph_pooling (str, optional): pooling method of node embedding. 可选的值为\"sum\"，\"mean\"，\"max\"，\"attention\"和\"set2set\"。 Defaults to \"sum\".\n",
    "\n",
    "        Out:\n",
    "            graph representation\n",
    "        \"\"\"\n",
    "        super(GINGraphPooling, self).__init__()\n",
    "\n",
    "        self.num_layers = num_layers\n",
    "        self.drop_ratio = drop_ratio\n",
    "        self.JK = JK\n",
    "        self.emb_dim = emb_dim\n",
    "        self.num_tasks = num_tasks\n",
    "\n",
    "        if self.num_layers < 2:\n",
    "            raise ValueError(\"Number of GNN layers must be greater than 1.\")\n",
    "        \n",
    "        # 对图上的每个节点进行节点嵌入\n",
    "        self.gnn_node = GINNodeEmbedding(\n",
    "            num_layers, emb_dim, JK=JK, drop_ratio=drop_ratio, residual=residual)\n",
    "\n",
    "        # Pooling function to generate whole-graph embeddings\n",
    "        if graph_pooling == \"sum\":\n",
    "            self.pool = global_add_pool\n",
    "        elif graph_pooling == \"mean\":\n",
    "            self.pool = global_mean_pool\n",
    "        elif graph_pooling == \"max\":\n",
    "            self.pool = global_max_pool\n",
    "        elif graph_pooling == \"attention\":\n",
    "            self.pool = GlobalAttention(gate_nn=nn.Sequential(\n",
    "                nn.Linear(emb_dim, emb_dim), nn.BatchNorm1d(emb_dim), nn.ReLU(), nn.Linear(emb_dim, 1)))\n",
    "        elif graph_pooling == \"set2set\":\n",
    "            self.pool = Set2Set(emb_dim, processing_steps=2)\n",
    "        else:\n",
    "            raise ValueError(\"Invalid graph pooling type.\")\n",
    "\n",
    "        if graph_pooling == \"set2set\":\n",
    "            self.graph_pred_linear = nn.Linear(2*self.emb_dim, self.num_tasks)\n",
    "        else:\n",
    "            self.graph_pred_linear = nn.Linear(self.emb_dim, self.num_tasks)\n",
    "\n",
    "    def forward(self, batched_data):\n",
    "        h_node = self.gnn_node(batched_data)\n",
    "\n",
    "        h_graph = self.pool(h_node, batched_data.batch)\n",
    "        # 一层线性变换，对图表征转换为对图的预测\n",
    "        output = self.graph_pred_linear(h_graph)\n",
    "\n",
    "        if self.training:\n",
    "            return output\n",
    "        else:\n",
    "            # At inference time, relu is applied to output to ensure positivity\n",
    "            return torch.clamp(output, min=0, max=50)"
   ]
  },
  {
   "cell_type": "markdown",
   "metadata": {},
   "source": [
    "### 2.2 节点嵌入模块"
   ]
  },
  {
   "cell_type": "code",
   "execution_count": 7,
   "metadata": {},
   "outputs": [],
   "source": [
    "class GINNodeEmbedding(torch.nn.Module):\n",
    "    \"\"\"\n",
    "    Output:\n",
    "        node representations\n",
    "    \"\"\"\n",
    "\n",
    "    def __init__(self, num_layers, emb_dim, drop_ratio=0.5, JK=\"last\", residual=False):\n",
    "        \"\"\"GIN Node Embedding Module\n",
    "        采用多层GINConv实现图上结点的嵌入。\n",
    "        \"\"\"\n",
    "\n",
    "        super(GINNodeEmbedding, self).__init__()\n",
    "        self.num_layers = num_layers\n",
    "        self.drop_ratio = drop_ratio\n",
    "        self.JK = JK\n",
    "        # add residual connection or not\n",
    "        self.residual = residual\n",
    "\n",
    "        if self.num_layers < 2:\n",
    "            raise ValueError(\"Number of GNN layers must be greater than 1.\")\n",
    "        \n",
    "        self.atom_encoder = AtomEncoder(emb_dim)\n",
    "\n",
    "        # List of GNNs\n",
    "        self.convs = torch.nn.ModuleList()\n",
    "        self.batch_norms = torch.nn.ModuleList()\n",
    "\n",
    "        for layer in range(num_layers):\n",
    "            self.convs.append(GINConv(emb_dim))\n",
    "            self.batch_norms.append(torch.nn.BatchNorm1d(emb_dim))\n",
    "\n",
    "    def forward(self, batched_data):\n",
    "        x, edge_index, edge_attr = batched_data.x, batched_data.edge_index, batched_data.edge_attr\n",
    "\n",
    "        # computing input node embedding\n",
    "        # 先将类别型原子属性转化为原子嵌入，得到第0层节点表征\n",
    "        h_list = [self.atom_encoder(x)]  \n",
    "        # 逐层计算节点表征\n",
    "        for layer in range(self.num_layers):\n",
    "            h = self.convs[layer](h_list[layer], edge_index, edge_attr)\n",
    "            h = self.batch_norms[layer](h)\n",
    "            if layer == self.num_layers - 1:\n",
    "                # remove relu for the last layer\n",
    "                h = F.dropout(h, self.drop_ratio, training=self.training)\n",
    "            else:\n",
    "                h = F.dropout(F.relu(h), self.drop_ratio, training=self.training)\n",
    "\n",
    "            if self.residual:\n",
    "                h += h_list[layer]\n",
    "            \n",
    "            # 得到全部节点表征\n",
    "            h_list.append(h)\n",
    "\n",
    "        # Different implementations of Jk-concat\n",
    "        if self.JK == \"last\":\n",
    "            node_representation = h_list[-1]\n",
    "        elif self.JK == \"sum\":\n",
    "            node_representation = 0\n",
    "            for layer in range(self.num_layers + 1):\n",
    "                node_representation += h_list[layer]\n",
    "\n",
    "        return node_representation"
   ]
  },
  {
   "cell_type": "markdown",
   "metadata": {},
   "source": [
    "### 2.3 图同构卷积层"
   ]
  },
  {
   "cell_type": "code",
   "execution_count": 10,
   "metadata": {},
   "outputs": [],
   "source": [
    "class GINConv(MessagePassing):\n",
    "    def __init__(self, emb_dim):\n",
    "        '''\n",
    "            emb_dim (int): node embedding dimensionality\n",
    "        '''\n",
    "\n",
    "        super(GINConv, self).__init__(aggr=\"add\")\n",
    "\n",
    "        self.mlp = nn.Sequential(nn.Linear(emb_dim, emb_dim), nn.BatchNorm1d(\n",
    "            emb_dim), nn.ReLU(), nn.Linear(emb_dim, emb_dim))\n",
    "        self.eps = nn.Parameter(torch.Tensor([0]))\n",
    "        self.bond_encoder = BondEncoder(emb_dim=emb_dim)\n",
    "\n",
    "    def forward(self, x, edge_index, edge_attr):\n",
    "        edge_embedding = self.bond_encoder(edge_attr)  # 先将类别型边属性转换为边嵌入\n",
    "        out = self.mlp((1 + self.eps) * x +\n",
    "                       self.propagate(edge_index, x=x, edge_attr=edge_embedding))\n",
    "        return out\n",
    "\n",
    "    def message(self, x_j, edge_attr):\n",
    "        return F.relu(x_j + edge_attr)\n",
    "\n",
    "    def update(self, aggr_out):\n",
    "        return aggr_out"
   ]
  },
  {
   "cell_type": "markdown",
   "metadata": {},
   "source": [
    "### 2.4 AtomEncoder与BondEncoder"
   ]
  },
  {
   "cell_type": "code",
   "execution_count": 13,
   "metadata": {},
   "outputs": [],
   "source": [
    "full_atom_feature_dims = get_atom_feature_dims()\n",
    "full_bond_feature_dims = get_bond_feature_dims()\n",
    "\n",
    "\n",
    "class AtomEncoder(torch.nn.Module):\n",
    "    \"\"\"该类用于对原子属性做嵌入。\n",
    "    记`N`为原子属性的维度，则原子属性表示为`[x1, x2, ..., xi, xN]`，其中任意的一维度`xi`都是类别型数据。full_atom_feature_dims[i]存储了原子属性`xi`的类别数量。\n",
    "    该类将任意的原子属性`[x1, x2, ..., xi, xN]`转换为原子的嵌入`x_embedding`（维度为emb_dim）。\n",
    "    \"\"\"\n",
    "\n",
    "    def __init__(self, emb_dim):\n",
    "        super(AtomEncoder, self).__init__()\n",
    "\n",
    "        self.atom_embedding_list = torch.nn.ModuleList()\n",
    "\n",
    "        for i, dim in enumerate(full_atom_feature_dims):\n",
    "            emb = torch.nn.Embedding(dim, emb_dim)  # 不同维度的属性用不同的Embedding方法\n",
    "            torch.nn.init.xavier_uniform_(emb.weight.data)\n",
    "            self.atom_embedding_list.append(emb)\n",
    "\n",
    "    def forward(self, x):\n",
    "        x_embedding = 0\n",
    "        # 节点的不同属性融合\n",
    "        for i in range(x.shape[1]):\n",
    "            x_embedding += self.atom_embedding_list[i](x[:, i])\n",
    "\n",
    "        return x_embedding\n",
    "\n",
    "\n",
    "class BondEncoder(torch.nn.Module):\n",
    "\n",
    "    def __init__(self, emb_dim):\n",
    "        super(BondEncoder, self).__init__()\n",
    "\n",
    "        self.bond_embedding_list = torch.nn.ModuleList()\n",
    "\n",
    "        for i, dim in enumerate(full_bond_feature_dims):\n",
    "            emb = torch.nn.Embedding(dim, emb_dim)\n",
    "            torch.nn.init.xavier_uniform_(emb.weight.data)\n",
    "            self.bond_embedding_list.append(emb)\n",
    "\n",
    "    def forward(self, edge_attr):\n",
    "        bond_embedding = 0\n",
    "         # 边的不同属性融合\n",
    "        for i in range(edge_attr.shape[1]):\n",
    "            bond_embedding += self.bond_embedding_list[i](edge_attr[:, i])\n",
    "\n",
    "        return bond_embedding"
   ]
  }
 ],
 "metadata": {
  "kernelspec": {
   "display_name": "Python 3",
   "language": "python",
   "name": "python3"
  },
  "language_info": {
   "codemirror_mode": {
    "name": "ipython",
    "version": 3
   },
   "file_extension": ".py",
   "mimetype": "text/x-python",
   "name": "python",
   "nbconvert_exporter": "python",
   "pygments_lexer": "ipython3",
   "version": "3.7.9"
  },
  "pycharm": {
   "stem_cell": {
    "cell_type": "raw",
    "metadata": {
     "collapsed": false
    },
    "source": [
     "\n"
    ]
   }
  },
  "toc": {
   "base_numbering": 1,
   "nav_menu": {},
   "number_sections": false,
   "sideBar": true,
   "skip_h1_title": false,
   "title_cell": "Table of Contents",
   "title_sidebar": "Contents",
   "toc_cell": false,
   "toc_position": {},
   "toc_section_display": true,
   "toc_window_display": false
  }
 },
 "nbformat": 4,
 "nbformat_minor": 1
}
