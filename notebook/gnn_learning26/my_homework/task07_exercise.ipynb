{
 "cells": [
  {
   "cell_type": "markdown",
   "metadata": {
    "collapsed": true
   },
   "source": [
    "# Task07 图预测任务实践"
   ]
  },
  {
   "cell_type": "markdown",
   "metadata": {},
   "source": [
    "## 1 知识梳理"
   ]
  },
  {
   "cell_type": "markdown",
   "metadata": {},
   "source": [
    "### 1.1 Dataset基类\n",
    "- 继承时需实现的方法：`raw_file_names()`、`processed_file_names()`、`download()`、`process()`\n",
    "- 额外需要实现的方法：`len()`获取数据集中样本数量，`get()`实现加载单个图的操作"
   ]
  },
  {
   "cell_type": "markdown",
   "metadata": {},
   "source": [
    "### 1.2 图样本封装成batch和DataLoader类\n",
    "- 基本思路：将小图的邻接矩阵存储在大图邻接矩阵的对角线上\n",
    "- 优势：\n",
    "  1. 不需要修改GNN算法\n",
    "  2. 没有额外计算或内存开销"
   ]
  },
  {
   "cell_type": "markdown",
   "metadata": {},
   "source": [
    "### 1.3 小图的属性增值与拼接\n",
    "- 节点序号增值：修改`__inc__()`和`__cat_dim__()`函数\n",
    "- 图的匹配：使用一个Data对象存储多个图，并使用follow_batch参数指定要维护batch信息的属性\n",
    "- 二部图：不同类型的节点数量不一致，edge_index边的源节点与目标节点进行增值操作不同\n",
    "- 新维度的拼接：图级别属性或预测目标，通过`__cat_dim__()`返回`None`的连接维度实现"
   ]
  },
  {
   "cell_type": "markdown",
   "metadata": {},
   "source": [
    "## 2 实战练习"
   ]
  },
  {
   "cell_type": "code",
   "execution_count": 50,
   "metadata": {},
   "outputs": [],
   "source": [
    "import torch\n",
    "from torch_geometric.data import Data, DataLoader\n",
    "\n",
    "import logging  \n",
    "logger = logging.getLogger()\n",
    "logger.setLevel(logging.ERROR) "
   ]
  },
  {
   "cell_type": "markdown",
   "metadata": {},
   "source": [
    "### 2.1 图的匹配"
   ]
  },
  {
   "cell_type": "code",
   "execution_count": 51,
   "metadata": {},
   "outputs": [],
   "source": [
    "class PairData(Data):\n",
    "    def __init__(self, edge_index_s, x_s, edge_index_t, x_t):\n",
    "        super(PairData, self).__init__()\n",
    "        self.edge_index_s = edge_index_s\n",
    "        self.x_s = x_s\n",
    "        self.edge_index_t = edge_index_t\n",
    "        self.x_t = x_t\n",
    "\n",
    "    def __inc__(self, key, value):\n",
    "        if key == 'edge_index_s':\n",
    "            return self.x_s.size(0)\n",
    "        if key == 'edge_index_t':\n",
    "            return self.x_t.size(0)\n",
    "        else:\n",
    "            return super().__inc__(key, value)"
   ]
  },
  {
   "cell_type": "code",
   "execution_count": 52,
   "metadata": {},
   "outputs": [
    {
     "name": "stdout",
     "output_type": "stream",
     "text": [
      "Batch(edge_index_s=[2, 8], edge_index_t=[2, 6], x_s=[10, 16], x_t=[8, 16])\n",
      "tensor([[0, 0, 0, 0, 5, 5, 5, 5],\n",
      "        [1, 2, 3, 4, 6, 7, 8, 9]])\n",
      "tensor([[0, 0, 0, 4, 4, 4],\n",
      "        [1, 2, 3, 5, 6, 7]])\n"
     ]
    }
   ],
   "source": [
    "edge_index_s = torch.tensor([\n",
    "    [0, 0, 0, 0],\n",
    "    [1, 2, 3, 4],\n",
    "])\n",
    "x_s = torch.randn(5, 16)  # 5 nodes.\n",
    "edge_index_t = torch.tensor([\n",
    "    [0, 0, 0],\n",
    "    [1, 2, 3],\n",
    "])\n",
    "x_t = torch.randn(4, 16)  # 4 nodes.\n",
    "\n",
    "data = PairData(edge_index_s, x_s, edge_index_t, x_t)\n",
    "data_list = [data, data]\n",
    "loader = DataLoader(data_list, batch_size=2)\n",
    "batch = next(iter(loader))\n",
    "\n",
    "print(batch)\n",
    "print(batch.edge_index_s)\n",
    "print(batch.edge_index_t)"
   ]
  },
  {
   "cell_type": "code",
   "execution_count": 53,
   "metadata": {},
   "outputs": [
    {
     "name": "stdout",
     "output_type": "stream",
     "text": [
      "Batch(edge_index_s=[2, 8], edge_index_t=[2, 6], x_s=[10, 16], x_s_batch=[10], x_t=[8, 16], x_t_batch=[8])\n",
      "tensor([0, 0, 0, 0, 0, 1, 1, 1, 1, 1])\n",
      "tensor([0, 0, 0, 0, 1, 1, 1, 1])\n"
     ]
    }
   ],
   "source": [
    "# 为节点特征x_s和x_t创建了batch对象\n",
    "loader = DataLoader(data_list, batch_size=2, follow_batch=['x_s', 'x_t'])\n",
    "batch = next(iter(loader))\n",
    "\n",
    "print(batch)\n",
    "print(batch.x_s_batch)\n",
    "print(batch.x_t_batch)"
   ]
  },
  {
   "cell_type": "markdown",
   "metadata": {},
   "source": [
    "### 2.2 二部图"
   ]
  },
  {
   "cell_type": "code",
   "execution_count": 54,
   "metadata": {},
   "outputs": [],
   "source": [
    "class BipartiteData(Data):\n",
    "    def __init__(self, edge_index, x_s, x_t):\n",
    "        super(BipartiteData, self).__init__()\n",
    "        self.edge_index = edge_index\n",
    "        self.x_s = x_s\n",
    "        self.x_t = x_t\n",
    "        \n",
    "    def __inc__(self, key, value):\n",
    "        if key == 'edge_index':\n",
    "            return torch.tensor([[self.x_s.size(0)], [self.x_t.size(0)]])\n",
    "        else:\n",
    "            return super().__inc__(key, value)"
   ]
  },
  {
   "cell_type": "code",
   "execution_count": 55,
   "metadata": {},
   "outputs": [
    {
     "name": "stdout",
     "output_type": "stream",
     "text": [
      "Batch(batch=[6], edge_index=[2, 8], ptr=[3], x_s=[4, 16], x_t=[6, 16])\n",
      "tensor([[0, 0, 1, 1, 2, 2, 3, 3],\n",
      "        [0, 1, 1, 2, 3, 4, 4, 5]])\n"
     ]
    }
   ],
   "source": [
    "edge_index = torch.tensor([\n",
    "    [0, 0, 1, 1],\n",
    "    [0, 1, 1, 2],\n",
    "])\n",
    "x_s = torch.randn(2, 16)  # 2 nodes.\n",
    "x_t = torch.randn(3, 16)  # 3 nodes.\n",
    "\n",
    "data = BipartiteData(edge_index, x_s, x_t)\n",
    "data_list = [data, data]\n",
    "loader = DataLoader(data_list, batch_size=2)\n",
    "batch = next(iter(loader))\n",
    "\n",
    "print(batch)\n",
    "print(batch.edge_index)"
   ]
  },
  {
   "cell_type": "markdown",
   "metadata": {},
   "source": [
    "### 2.3 在新维度进行拼接"
   ]
  },
  {
   "cell_type": "code",
   "execution_count": 56,
   "metadata": {},
   "outputs": [
    {
     "name": "stdout",
     "output_type": "stream",
     "text": [
      "Batch(batch=[6], edge_index=[2, 8], foo=[2, 16], ptr=[3])\n"
     ]
    }
   ],
   "source": [
    "class MyData(Data):\n",
    "    def __cat_dim__(self, key, item):\n",
    "        if key == 'foo':\n",
    "            return None\n",
    "        else:\n",
    "            return super().__cat_dim__(key, item)\n",
    "\n",
    "edge_index = torch.tensor([\n",
    "   [0, 1, 1, 2],\n",
    "   [1, 0, 2, 1],\n",
    "])\n",
    "foo = torch.randn(16)\n",
    "\n",
    "data = MyData(edge_index=edge_index, foo=foo)\n",
    "data_list = [data, data]\n",
    "loader = DataLoader(data_list, batch_size=2)\n",
    "batch = next(iter(loader))\n",
    "\n",
    "print(batch)"
   ]
  },
  {
   "cell_type": "markdown",
   "metadata": {},
   "source": [
    "### 2.4 创建超大规模数据集类"
   ]
  },
  {
   "cell_type": "code",
   "execution_count": 58,
   "metadata": {},
   "outputs": [],
   "source": [
    "import os\n",
    "import os.path as osp\n",
    "\n",
    "import pandas as pd\n",
    "import torch\n",
    "from ogb.utils import smiles2graph\n",
    "from ogb.utils.torch_util import replace_numpy_with_torchtensor\n",
    "from ogb.utils.url import download_url, extract_zip\n",
    "from rdkit import RDLogger\n",
    "from torch_geometric.data import Data, Dataset\n",
    "import shutil\n",
    "\n",
    "RDLogger.DisableLog('rdApp.*')\n",
    "\n",
    "\n",
    "class MyPCQM4MDataset(Dataset):\n",
    "\n",
    "    def __init__(self, root):\n",
    "        self.url = 'https://dgl-data.s3-accelerate.amazonaws.com/dataset/OGB-LSC/pcqm4m_kddcup2021.zip'\n",
    "        super(MyPCQM4MDataset, self).__init__(root)\n",
    "\n",
    "        filepath = osp.join(root, 'raw/data.csv.gz')\n",
    "        data_df = pd.read_csv(filepath)\n",
    "        self.smiles_list = data_df['smiles']\n",
    "        self.homolumogap_list = data_df['homolumogap']\n",
    "\n",
    "    @property\n",
    "    def raw_file_names(self):\n",
    "        return 'data.csv.gz'\n",
    "\n",
    "    def download(self):\n",
    "        path = download_url(self.url, self.root)\n",
    "        extract_zip(path, self.root)\n",
    "        os.unlink(path)\n",
    "        shutil.move(osp.join(self.root, 'pcqm4m_kddcup2021/raw/data.csv.gz'),\n",
    "                    osp.join(self.root, 'raw/data.csv.gz'))\n",
    "\n",
    "    def len(self):\n",
    "        return len(self.smiles_list)\n",
    "\n",
    "    def get(self, idx):\n",
    "        smiles, homolumogap = self.smiles_list[idx], self.homolumogap_list[idx]\n",
    "        graph = smiles2graph(smiles)\n",
    "        assert (len(graph['edge_feat']) == graph['edge_index'].shape[1])\n",
    "        assert (len(graph['node_feat']) == graph['num_nodes'])\n",
    "\n",
    "        x = torch.from_numpy(graph['node_feat']).to(torch.int64)\n",
    "        edge_index = torch.from_numpy(graph['edge_index']).to(torch.int64)\n",
    "        edge_attr = torch.from_numpy(graph['edge_feat']).to(torch.int64)\n",
    "        y = torch.Tensor([homolumogap])\n",
    "        num_nodes = int(graph['num_nodes'])\n",
    "        data = Data(x, edge_index, edge_attr, y, num_nodes=num_nodes)\n",
    "        return data\n",
    "\n",
    "    def get_idx_split(self):\n",
    "        split_dict = replace_numpy_with_torchtensor(torch.load(\n",
    "            osp.join(self.root, 'pcqm4m_kddcup2021/split_dict.pt')))\n",
    "        return split_dict"
   ]
  },
  {
   "cell_type": "code",
   "execution_count": 68,
   "metadata": {},
   "outputs": [],
   "source": [
    "dataset = MyPCQM4MDataset('dataset')\n",
    "from torch_geometric.data import DataLoader\n",
    "from tqdm import tqdm\n",
    "\n",
    "dataloader = DataLoader(dataset, batch_size=256, shuffle=True, num_workers=16)\n",
    "# for batch in tqdm(dataloader):\n",
    "#     pass"
   ]
  },
  {
   "cell_type": "markdown",
   "metadata": {},
   "source": [
    "![png](images/task07_pcqm4m_data_result.png)"
   ]
  },
  {
   "cell_type": "markdown",
   "metadata": {},
   "source": [
    "### 2.5 图预测任务实践"
   ]
  },
  {
   "cell_type": "markdown",
   "metadata": {},
   "source": [
    "![png](images/task07_gin_regression_result.png)"
   ]
  },
  {
   "cell_type": "markdown",
   "metadata": {},
   "source": [
    "使用教程中的代码需要注意：\n",
    "1. 虚拟内存需要128G，需要GPU运行\n",
    "2. 使用教程中的参数，需要运行49个epoch，16个num_workders，每个epoch运行时间大概为3~4分钟，整体运行需要至少5个小时左右\n",
    "3. 运行结果可使用tensorboard查看\n",
    "运行命令：tensorboard --logdir=GINGraphPooling\n",
    "4. 完整代码见`task06_gin_regression.py`"
   ]
  }
 ],
 "metadata": {
  "kernelspec": {
   "display_name": "Python 3",
   "language": "python",
   "name": "python3"
  },
  "language_info": {
   "codemirror_mode": {
    "name": "ipython",
    "version": 3
   },
   "file_extension": ".py",
   "mimetype": "text/x-python",
   "name": "python",
   "nbconvert_exporter": "python",
   "pygments_lexer": "ipython3",
   "version": "3.7.9"
  },
  "toc": {
   "base_numbering": 1,
   "nav_menu": {},
   "number_sections": false,
   "sideBar": true,
   "skip_h1_title": false,
   "title_cell": "Table of Contents",
   "title_sidebar": "Contents",
   "toc_cell": false,
   "toc_position": {},
   "toc_section_display": true,
   "toc_window_display": false
  }
 },
 "nbformat": 4,
 "nbformat_minor": 1
}
