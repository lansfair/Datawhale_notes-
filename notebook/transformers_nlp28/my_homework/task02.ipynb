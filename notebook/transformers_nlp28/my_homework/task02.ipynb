{
 "cells": [
  {
   "cell_type": "markdown",
   "metadata": {
    "collapsed": true
   },
   "source": [
    "# Task02 学习Attention和Transformer"
   ]
  },
  {
   "cell_type": "markdown",
   "metadata": {},
   "source": [
    "## 1 知识梳理"
   ]
  },
  {
   "cell_type": "markdown",
   "metadata": {},
   "source": [
    "### 1.1 seq2seq模型\n",
    "\n",
    "- 定义：  \n",
    "&emsp;&emsp;一个序列到一个序列（seq2seq）模型，接收的输入是一个（单词、字母、图像特征）序列，输出的是另一个序列；在神经机器翻译中，一个序列是指一连串的单词。\n",
    "\n",
    "\n",
    "- 模型结构：由编码器和解码器组成\n",
    "  1. 编码器：用于处理输入序列中的每个元素，把这些信息转换为一个上下文向量，处理完成后，输出到解码器；\n",
    "  2. 解码器：用于逐项生成输出序列中的元素。\n",
    "  \n",
    "  \n",
    "- 原始模型：\n",
    "  1. 编码器和解码器使用循环神经网络（RNN）；\n",
    "  2. 上下文向量的长度基于编码器RNN的隐藏层神经元的数量；\n",
    "  3. RNN在每个时间步接受2个输入：输入序列中的一个元素、一个隐藏层状态(hidden state)。\n",
    "  \n",
    "  \n",
    "- 处理过程：  \n",
    "&emsp;&emsp;编解码器处理过程：编码器和解码器在每个时间步处理输入得到输出，RNN根据当前时间步的输入和前一个时间步的隐藏层状态，更新当前时间步的隐藏层状态。"
   ]
  },
  {
   "cell_type": "markdown",
   "metadata": {},
   "source": [
    "### 1.2 Attention\n",
    "- 效果：  \n",
    "&emsp;&emsp;在机器翻译场景，产生英语翻译之前，提供从输入序列放大相关信号的能力，使得模型产生更好的结果。\n",
    "\n",
    "\n",
    "- Attention与seq2seq模型的区别：\n",
    "  1. Attention中，编码器把所有时间步的隐藏层状态传递给解码器；而seq2seq中，只将最后一个隐藏层传递给解码器；\n",
    "  2. Attention的解码器在产生输出序列之前，做了一些处理：\n",
    "      - 查看所有接收到编码器的hidden state\n",
    "      - 给每个hidden state一个分数\n",
    "      - 将每个hidden state乘以经过softmax的对应分数，高分对应的hidden state被放大，低分的则被缩小\n",
    "  \n",
    "  \n",
    "- Attention处理过程：\n",
    "  1. 解码器RNN的输入：一个embedding向量、一个初始化的解码器hidden state\n",
    "  2. 处理上述输入，产生一个输出和一个新的hidden state（h4向量）\n",
    "  3. 使用编码器的hidden state和上述产生的hidden state（h4向量）计算当前时间步的上下文向量（C4向量）\n",
    "  4. 将h4和C4进行拼接，得到一个向量\n",
    "  5. 将上述向量输入到一个前馈神经网络\n",
    "  6. 前馈神经网络的输出表示这个时间步输出的单词\n",
    "  7. 下一个时间步重复上述步骤（从第1步到第6步）"
   ]
  },
  {
   "cell_type": "markdown",
   "metadata": {},
   "source": [
    "### 1.3 Transformer\n",
    "- 主要组成部分：\n",
    "  1. 由编码部分和解码部分组成\n",
    "  2. 编码部分由多层编码器组成（6层），解码部分由多层解码器组成（6层）\n",
    "  3. 编码器由Self-Attention Layer 和 Feed Forward Neural Network（前馈神经网络，FFNN）组成\n",
    "  4. 解码器由Self-Attention Layer、Encoder-Decoder Attention、FFNN组成，其中Encoder-Decoder Attention用于帮助解码器聚焦于输入句子的相关部分"
   ]
  },
  {
   "cell_type": "markdown",
   "metadata": {},
   "source": [
    "- Transformer输入  \n",
    "&emsp;&emsp;使用词嵌入算法，将每个词转换为一个词向量，向量列表的长度为训练集中的句子最大长度。"
   ]
  },
  {
   "cell_type": "markdown",
   "metadata": {},
   "source": [
    "- Encoder（编码器）  \n",
    "输入：一个向量列表，上一个编码器的输出  \n",
    "输出：同样大小的向量列表，连接到下一个编码器  \n",
    "数据流：\n",
    "  1. 每个单词转换成一个向量后，输入到self-attention层\n",
    "  2. 每个位置的单词得到新向量，输入到FFNN"
   ]
  },
  {
   "cell_type": "markdown",
   "metadata": {},
   "source": [
    "- Self-Attention  \n",
    "&emsp;&emsp;直观理解，Self-Attention机制使模型不仅能够关注这个位置的词，而且能够关注句子中其他位置的词，作为辅助线索，更好地编码当前位置的词。"
   ]
  },
  {
   "cell_type": "markdown",
   "metadata": {},
   "source": [
    "- 残差连接：  \n",
    "&emsp;&emsp;在编解码器的每个子层，都有一个残差连接、一个层标准化（layer-normalization）"
   ]
  },
  {
   "cell_type": "markdown",
   "metadata": {},
   "source": [
    "- Decoder（解码器）  \n",
    "  1. 解码阶段的每一个时间步都输出一个翻译后的单词\n",
    "  2. 将解码器的输入向量，加上位置编码向量，用于指示每个词的位置\n",
    "  3. Self-Attention层：只允许关注到输出序列中早于当前位置之前的单词，在Self-Attention分数经过Softmax层之前，屏蔽当前位置之后的位置\n",
    "  4. Encoder-Decoder Attention层：和多头注意力机制类似，但是使用前一层的输出构造Query矩阵，而Key矩阵和Value矩阵来自于解码器最终的输出。"
   ]
  },
  {
   "cell_type": "markdown",
   "metadata": {},
   "source": [
    "- 最后的线性层和Softmax层\n",
    "  1. 线性层：把解码器输出的向量，映射到一个更长的向量(logist向量)，和模型的输出词汇表长度一致\n",
    "  2. Softmax层：把logist向量中的数，转换为概率，取概率最高的那个数字对应的词，就是输出的单词"
   ]
  },
  {
   "cell_type": "markdown",
   "metadata": {},
   "source": [
    "### 1.4 Self-Attention\n",
    "\n",
    "- Self-Attention输出的计算步骤：\n",
    "  1. 对输入编码器的每个词向量，通过乘以三个参数矩阵，创建3个向量（Query向量、Key向量、Value向量）\n",
    "  2. 计算Attention Score分数：计算某个词的对句子中其他位置的词放置的注意力程度，通过该词对应的Query向量与每个词的Key向量点积计算得到。\n",
    "  3. 将每个分数除以$\\sqrt{d_{key}}$，$d_{key}$是Key向量的长度\n",
    "  4. 这些分数经过一个Softmax，进行归一化\n",
    "  5. 将归一化的分数乘以每个Value向量\n",
    "  6. 对上步的值进行相加，得到该词在Self-Attention层的输出"
   ]
  },
  {
   "cell_type": "markdown",
   "metadata": {},
   "source": [
    "- Self-Attention的矩阵形式计算  \n",
    "假设所有词向量组成矩阵$X$，权重矩阵$W^Q,W^K,W^V$\n",
    "  1. 根据第1步，可得\n",
    "$$\n",
    "Q = X \\cdot W^Q \\\\\n",
    "K = X \\cdot W^K \\\\\n",
    "V = X \\cdot W^V\n",
    "$$\n",
    "  2. 根据第2~6步，可得Self-Attention的输出\n",
    "$$\n",
    "Z = \\text{softmax}\\left( \\frac{Q \\cdot K^T}{\\sqrt{d_{K}}} \\right) \\cdot V\n",
    "$$"
   ]
  },
  {
   "cell_type": "markdown",
   "metadata": {},
   "source": [
    "### 1.5 多头注意力机制（multi-head attention）\n",
    "- 作用：增强Attention层\n",
    "  1. 扩展了模型关注不同位置的能力\n",
    "  2. 赋予Attention层多个“子表示空间”\n",
    "\n",
    "\n",
    "- 处理过程：\n",
    "  1. 随机初始化8组$W^Q,W^K,W^V$\n",
    "  2. 根据矩阵计算的第1步，词向量矩阵$X$和每组$W^Q,W^K,W^V$相乘，得到8组$Q,K,V$矩阵\n",
    "  3. 根据矩阵计算的第2步，得到8个$Z$矩阵\n",
    "  4. 将8个$Z$矩阵横向拼接，并乘以另一个权重矩阵$W^O$，得到一个矩阵$Z$"
   ]
  },
  {
   "cell_type": "markdown",
   "metadata": {},
   "source": [
    "### 1.6 使用位置编码表示序列中单词的顺序\n",
    "- 目的：通过对每个输入的向量，添加一个遵循特定模式向量，用于确定每个单词的我i之，或者句子中不同单词之间的距离。\n",
    "- 特定模式向量：向量的左半部分值由sine函数产生，右半部分的值由cosine函数产生，然后拼接，得到每个位置编码向量。\n",
    "- 优点：扩展到需要翻译句子的序列长度"
   ]
  },
  {
   "cell_type": "markdown",
   "metadata": {},
   "source": [
    "### 1.7 损失函数\n",
    "- 目的：由于模型的参数是随机初始化的，每个词输出的概率分布与正确的输出概率分布比较，使用反向传播调整模型权重\n",
    "- 贪婪解码：由于模型每个时间步只产生一个输出，模型是从概率分布中选择概率最大的词，并丢弃其他词\n",
    "- 集束搜索：每个时间步保留beam_size个概率最高的输出词，然后在下一个时间步，根据第1个词计算第2个位置的词的概率分布，对于后续位置，重复上述过程。\n",
    "  - beam_size：用于在所有时间步保留最高频率的词的个数\n",
    "  - top_beams：用于表示最终返回翻译结果的个数"
   ]
  },
  {
   "cell_type": "markdown",
   "metadata": {},
   "source": [
    "## 2 实战练习"
   ]
  },
  {
   "cell_type": "markdown",
   "metadata": {},
   "source": [
    "### 2.1 使用PyTorch的MultiheadAttention来实现Attention的计算"
   ]
  },
  {
   "cell_type": "markdown",
   "metadata": {},
   "source": [
    "torch.nn.MultiheadAttention(embed_dim, num_heads, dropout=0.0, bias=True, add_bias_kv=False, add_zero_attn=False, kdim=None, vdim=None)\n",
    "\n",
    "参数说明如下：\n",
    "  - embed_dim：最终输出的 K、Q、V 矩阵的维度，这个维度需要和词向量的维度一样\n",
    "  - num_heads：设置多头注意力的数量。如果设置为 1，那么只使用一组注意力。如果设置为其他数值，那么 num_heads 的值需要能够被 embed_dim 整除\n",
    "  - dropout：这个 dropout 加在 attention score 后面"
   ]
  },
  {
   "cell_type": "markdown",
   "metadata": {},
   "source": [
    "forward(query, key, value, key_padding_mask=None, need_weights=True, attn_mask=None)\n",
    "\n",
    "参数说明如下：\n",
    "  - query：对应于 Key 矩阵，形状是 (L,N,E) 。其中 L 是输出序列长度，N 是 batch size，E 是词向量的维度\n",
    "  - key：对应于 Key 矩阵，形状是 (S,N,E) 。其中 S 是输入序列长度，N 是 batch size，E 是词向量的维度\n",
    "  - value：对应于 Value 矩阵，形状是 (S,N,E) 。其中 S 是输入序列长度，N 是 batch size，E 是词向量的维度\n",
    "  - key_padding_mask：如果提供了这个参数，那么计算 attention score 时，忽略 Key 矩阵中某些 padding 元素，不参与计算 attention。形状是 (N,S)。其中 N 是 batch size，S 是输入序列长度。\n",
    "    - 如果 key_padding_mask 是 ByteTensor，那么非 0 元素对应的位置会被忽略\n",
    "    - 如果 key_padding_mask 是 BoolTensor，那么  True 对应的位置会被忽略\n",
    "  - attn_mask：计算输出时，忽略某些位置。形状可以是 2D  (L,S)，或者 3D (N∗numheads,L,S)。其中 L 是输出序列长度，S 是输入序列长度，N 是 batch size。\n",
    "    - 如果 attn_mask 是 ByteTensor，那么非 0 元素对应的位置会被忽略\n",
    "    - 如果 attn_mask 是 BoolTensor，那么  True 对应的位置会被忽略 "
   ]
  },
  {
   "cell_type": "code",
   "execution_count": 17,
   "metadata": {},
   "outputs": [
    {
     "name": "stdout",
     "output_type": "stream",
     "text": [
      "torch.Size([12, 64, 300])\n"
     ]
    }
   ],
   "source": [
    "import torch\n",
    "from torch import nn\n",
    "\n",
    "# nn.MultiheadAttention 输入第0维为length\n",
    "# batch_size 为 64，有 12 个词，每个词的 Query 向量是 300 维\n",
    "query = torch.rand(12, 64, 300)\n",
    "# batch_size 为 64，有 10 个词，每个词的 Key 向量是 300 维\n",
    "key = torch.rand(10, 64, 300)\n",
    "# batch_size 为 64，有 10 个词，每个词的 Value 向量是 300 维\n",
    "value = torch.rand(10, 64, 300)\n",
    "\n",
    "embed_dim = 300\n",
    "num_heads = 10\n",
    "# 输出是 (attn_output, attn_output_weights)\n",
    "multihead_attn = nn.MultiheadAttention(embed_dim, num_heads)\n",
    "attn_output, attn_output_weights = multihead_attn.forward(query, key, value)\n",
    "# output: torch.Size([12, 64, 300])\n",
    "# batch_size 为 64，有 12 个词，每个词的向量是 300 维\n",
    "print(attn_output.shape)"
   ]
  },
  {
   "cell_type": "markdown",
   "metadata": {},
   "source": [
    "### 2.2 使用自编程实现Attention的计算"
   ]
  },
  {
   "cell_type": "code",
   "execution_count": 18,
   "metadata": {},
   "outputs": [],
   "source": [
    "import torch\n",
    "from torch import nn\n",
    "\n",
    "\n",
    "class MultiheadAttention(nn.Module):\n",
    "\n",
    "    def __init__(self, hid_dim, n_heads, dropout):\n",
    "        super(MultiheadAttention, self).__init__()\n",
    "        # 每个词输出的向量维度\n",
    "        self.hid_dim = hid_dim\n",
    "        # 多头注意力的数量\n",
    "        self.n_heads = n_heads\n",
    "\n",
    "        # 强制 hid_dim 必须整除 n_heads\n",
    "        assert hid_dim % n_heads == 0\n",
    "        # 定义 W_q 矩阵\n",
    "        self.w_q = nn.Linear(hid_dim, hid_dim)\n",
    "        # 定义 W_k 矩阵\n",
    "        self.w_k = nn.Linear(hid_dim, hid_dim)\n",
    "        # 定义 W_v 矩阵\n",
    "        self.w_v = nn.Linear(hid_dim, hid_dim)\n",
    "        self.fc = nn.Linear(hid_dim, hid_dim)\n",
    "        self.do = nn.Dropout(dropout)\n",
    "        # 缩放\n",
    "        self.scale = torch.sqrt(torch.FloatTensor([hid_dim // n_heads]))\n",
    "\n",
    "    def forward(self, query, key, value, mask=None):\n",
    "        # K: [64,10,300], batch_size 为 64，有 12 个词，每个词的 Query 向量是 300 维\n",
    "        # V: [64,10,300], batch_size 为 64，有 10 个词，每个词的 Query 向量是 300 维\n",
    "        # Q: [64,12,300], batch_size 为 64，有 10 个词，每个词的 Query 向量是 300 维\n",
    "        bsz = query.shape[0]\n",
    "        Q = self.w_q(query)\n",
    "        K = self.w_k(key)\n",
    "        V = self.w_v(value)\n",
    "        # 这里把 K Q V 矩阵拆分为多组注意力，变成了一个 4 维的矩阵\n",
    "        # 最后一维就是是用 self.hid_dim // self.n_heads 来得到的，表示每组注意力的向量长度, 每个 head 的向量长度是：300/6=50\n",
    "        # 64 表示 batch size，6 表示有 6组注意力，10 表示有 10 词，50 表示每组注意力的词的向量长度\n",
    "        # K: [64,10,300] 拆分多组注意力 -> [64,10,6,50] 转置得到 -> [64,6,10,50]\n",
    "        # V: [64,10,300] 拆分多组注意力 -> [64,10,6,50] 转置得到 -> [64,6,10,50]\n",
    "        # Q: [64,12,300] 拆分多组注意力 -> [64,12,6,50] 转置得到 -> [64,6,12,50]\n",
    "        # 转置是为了把注意力的数量 6 放到前面，把 10 和 50 放到后面，方便下面计算\n",
    "        Q = Q.view(bsz, -1, self.n_heads, self.hid_dim //\n",
    "                   self.n_heads).permute(0, 2, 1, 3)\n",
    "        K = K.view(bsz, -1, self.n_heads, self.hid_dim //\n",
    "                   self.n_heads).permute(0, 2, 1, 3)\n",
    "        V = V.view(bsz, -1, self.n_heads, self.hid_dim //\n",
    "                   self.n_heads).permute(0, 2, 1, 3)\n",
    "\n",
    "        # 第 1 步：Q 乘以 K的转置，除以scale\n",
    "        # [64,6,12,50] * [64,6,50,10] = [64,6,12,10]\n",
    "        # attention：[64,6,12,10]\n",
    "        attention = torch.matmul(Q, K.permute(0, 1, 3, 2)) / self.scale\n",
    "\n",
    "        # 把 mask 不为空，那么就把 mask 为 0 的位置的 attention 分数设置为 -1e10\n",
    "        if mask is not None:\n",
    "            attention = attention.masked_fill(mask == 0, -1e10)\n",
    "\n",
    "        # 第 2 步：计算上一步结果的 softmax，再经过 dropout，得到 attention。\n",
    "        # 注意，这里是对最后一维做 softmax，也就是在输入序列的维度做 softmax\n",
    "        # attention: [64,6,12,10]\n",
    "        attention = self.do(torch.softmax(attention, dim=-1))\n",
    "\n",
    "        # 第三步，attention结果与V相乘，得到多头注意力的结果\n",
    "        # [64,6,12,10] * [64,6,10,50] = [64,6,12,50]\n",
    "        # Z: [64,6,12,50]\n",
    "        Z = torch.matmul(attention, V)\n",
    "\n",
    "        # 因为 query 有 12 个词，所以把 12 放到前面，把 5 和 60 放到后面，方便下面拼接多组的结果\n",
    "        # Z: [64,6,12,50] 转置-> [64,12,6,50]\n",
    "        Z = Z.permute(0, 2, 1, 3).contiguous()\n",
    "        # 这里的矩阵转换就是：把多组注意力的结果拼接起来\n",
    "        # 最终结果就是 [64,12,300]\n",
    "        # Z: [64,12,6,50] -> [64,12,300]\n",
    "        Z = Z.view(bsz, -1, self.n_heads * (self.hid_dim // self.n_heads))\n",
    "        Z = self.fc(Z)\n",
    "        return Z"
   ]
  },
  {
   "cell_type": "code",
   "execution_count": 19,
   "metadata": {},
   "outputs": [
    {
     "name": "stdout",
     "output_type": "stream",
     "text": [
      "torch.Size([64, 12, 300])\n"
     ]
    }
   ],
   "source": [
    "# batch_size 为 64，有 12 个词，每个词的 Query 向量是 300 维\n",
    "query = torch.rand(64, 12, 300)\n",
    "# batch_size 为 64，有 12 个词，每个词的 Key 向量是 300 维\n",
    "key = torch.rand(64, 10, 300)\n",
    "# batch_size 为 64，有 10 个词，每个词的 Value 向量是 300 维\n",
    "value = torch.rand(64, 10, 300)\n",
    "attention = MultiheadAttention(hid_dim=300, n_heads=6, dropout=0.1)\n",
    "output = attention(query, key, value)\n",
    "# output: torch.Size([64, 12, 300])\n",
    "print(output.shape)"
   ]
  },
  {
   "cell_type": "markdown",
   "metadata": {},
   "source": [
    "### 2.3 Transformer代码详解"
   ]
  },
  {
   "cell_type": "markdown",
   "metadata": {},
   "source": [
    "![transformer-arc](images/task02/transformer-arc.png)"
   ]
  },
  {
   "cell_type": "markdown",
   "metadata": {},
   "source": [
    "#### 2.3.1 词嵌入\n",
    "\n",
    "1. 序列预处理：进行词切分成列表，再进行索引转换，最后将文本转换成数组，batch_size个句子，每个句子长度是seq_length\n",
    "2. 词嵌入处理：将每一个词用预先训练好的向量进行映射，使用torch.nn.Embedding实现"
   ]
  },
  {
   "cell_type": "code",
   "execution_count": 21,
   "metadata": {},
   "outputs": [],
   "source": [
    "import torch\n",
    "import torch.nn as nn\n",
    "from torch.nn.parameter import Parameter\n",
    "from torch.nn.init import xavier_uniform_\n",
    "from torch.nn.init import constant_\n",
    "from torch.nn.init import xavier_normal_\n",
    "import torch.nn.functional as F\n",
    "from typing import Optional, Tuple, Any\n",
    "from typing import List, Optional, Tuple\n",
    "import math\n",
    "import warnings"
   ]
  },
  {
   "cell_type": "code",
   "execution_count": 22,
   "metadata": {},
   "outputs": [
    {
     "name": "stdout",
     "output_type": "stream",
     "text": [
      "torch.Size([2, 4, 8])\n"
     ]
    }
   ],
   "source": [
    "# 文本中有2个句子，每个句子4个词\n",
    "X = torch.zeros((2,4),dtype=torch.long)\n",
    "# 词表中有10个词，每个词的维度是8\n",
    "embed = nn.Embedding(10,8)\n",
    "# 词嵌入处理之后的维度\n",
    "print(embed(X).shape)"
   ]
  },
  {
   "cell_type": "markdown",
   "metadata": {},
   "source": [
    "#### 2.3.2 位置编码\n",
    "\n",
    "作用：用于区分不同词，以及同词不同特征之间的关系  \n",
    "代码思路：\n",
    "1. 设置Dropout层\n",
    "2. 初始化矩阵P、X_\n",
    "3. 构造特定模式的矩阵P，将sine函数生成和cosine函数生成的向量交织在一起\n",
    "4. 将输入矩阵X进行位置编码\n",
    "5. 对输入矩阵X进行Dropout"
   ]
  },
  {
   "cell_type": "code",
   "execution_count": 23,
   "metadata": {},
   "outputs": [],
   "source": [
    "Tensor = torch.Tensor\n",
    "\n",
    "\n",
    "def positional_encoding(X, num_features, dropout_p=0.1, max_len=512) -> Tensor:\n",
    "    \"\"\"\n",
    "        给输入加入位置编码\n",
    "    参数：\n",
    "        - num_features: 输入进来的维度\n",
    "        - dropout_p: dropout的概率，当其为非零时执行dropout\n",
    "        - max_len: 句子的最大长度，默认512\n",
    "\n",
    "    形状：\n",
    "        - 输入： [batch_size, seq_length, num_features]\n",
    "        - 输出： [batch_size, seq_length, num_features]\n",
    "    \"\"\"\n",
    "\n",
    "    dropout = nn.Dropout(dropout_p)\n",
    "    P = torch.zeros((1, max_len, num_features))\n",
    "    X_ = torch.arange(max_len, dtype=torch.float32).reshape(-1, 1) / torch.pow(\n",
    "        10000,\n",
    "        torch.arange(0, num_features, 2, dtype=torch.float32) / num_features)\n",
    "    P[:, :, 0::2] = torch.sin(X_)\n",
    "    P[:, :, 1::2] = torch.cos(X_)\n",
    "    X = X + P[:, :X.shape[1], :].to(X.device)\n",
    "    return dropout(X)"
   ]
  },
  {
   "cell_type": "code",
   "execution_count": 24,
   "metadata": {},
   "outputs": [
    {
     "name": "stdout",
     "output_type": "stream",
     "text": [
      "torch.Size([2, 4, 10])\n"
     ]
    }
   ],
   "source": [
    "# 位置编码例子\n",
    "X = torch.randn((2,4,10))\n",
    "X = positional_encoding(X, 10)\n",
    "print(X.shape)"
   ]
  },
  {
   "cell_type": "markdown",
   "metadata": {},
   "source": [
    "#### 2.3.3 多头注意力机制"
   ]
  },
  {
   "cell_type": "markdown",
   "metadata": {},
   "source": [
    "代码思路：\n",
    "1. 参数初始化\n",
    "2. multi_head_attention_forward\n",
    "    - query, key, value通过_in_projection_packed变换得到q,k,v\n",
    "    - mask机制\n",
    "    - 点积attention"
   ]
  },
  {
   "cell_type": "code",
   "execution_count": 26,
   "metadata": {},
   "outputs": [],
   "source": [
    "def _in_projection_packed(\n",
    "        q: Tensor,\n",
    "        k: Tensor,\n",
    "        v: Tensor,\n",
    "        w: Tensor,\n",
    "        b: Optional[Tensor] = None,\n",
    ") -> List[Tensor]:\n",
    "    \"\"\"\n",
    "    用一个大的权重参数矩阵进行线性变换\n",
    "\n",
    "    参数:\n",
    "        q, k, v: 对self-Attention来说，三者都是src；对于seq2seq模型，k和v是一致的tensor。\n",
    "                 但它们的最后一维(num_features或者叫做embed_dim)都必须保持一致。\n",
    "        w: 用以线性变换的大矩阵，按照q,k,v的顺序压在一个tensor里面。\n",
    "        b: 用以线性变换的偏置，按照q,k,v的顺序压在一个tensor里面。\n",
    "\n",
    "    形状:\n",
    "        输入:\n",
    "        - q: shape:`(..., E)`，E是词嵌入的维度（下面出现的E均为此意）。\n",
    "        - k: shape:`(..., E)`\n",
    "        - v: shape:`(..., E)`\n",
    "        - w: shape:`(E * 3, E)`\n",
    "        - b: shape:`E * 3`\n",
    "\n",
    "        输出:\n",
    "        - 输出列表 :`[q', k', v']`，q,k,v经过线性变换前后的形状都一致。\n",
    "    \"\"\"\n",
    "    # 得到q的最后一个维度\n",
    "    E = q.size()[-1]\n",
    "    # 若为自注意，则q = k = v = src，因此它们的引用变量都是src\n",
    "    # 即k is v和q is k结果均为True\n",
    "    # 若为seq2seq，k = v，因而k is v的结果是True\n",
    "    if k is v:\n",
    "        if q is k:\n",
    "            return F.linear(q, w, b).chunk(3, dim=-1)\n",
    "        else:\n",
    "            # seq2seq模型\n",
    "            w_q, w_kv = w.split([E, E * 2])\n",
    "            if b is None:\n",
    "                b_q = b_kv = None\n",
    "            else:\n",
    "                b_q, b_kv = b.split([E, E * 2])\n",
    "            return (F.linear(q, w_q, b_q),) + F.linear(k, w_kv, b_kv).chunk(2, dim=-1)\n",
    "    else:\n",
    "        w_q, w_k, w_v = w.chunk(3)\n",
    "        if b is None:\n",
    "            b_q = b_k = b_v = None\n",
    "        else:\n",
    "            b_q, b_k, b_v = b.chunk(3)\n",
    "        return F.linear(q, w_q, b_q), F.linear(k, w_k, b_k), F.linear(v, w_v, b_v)"
   ]
  },
  {
   "cell_type": "code",
   "execution_count": 27,
   "metadata": {},
   "outputs": [],
   "source": [
    "def _scaled_dot_product_attention(\n",
    "        q: Tensor,\n",
    "        k: Tensor,\n",
    "        v: Tensor,\n",
    "        attn_mask: Optional[Tensor] = None,\n",
    "        dropout_p: float = 0.0,\n",
    ") -> Tuple[Tensor, Tensor]:\n",
    "    \"\"\"\n",
    "    在query, key, value上计算点积注意力，若有注意力遮盖则使用，并且应用一个概率为dropout_p的dropout\n",
    "\n",
    "    参数：\n",
    "        - q: shape:`(B, Nt, E)` B代表batch size， Nt是目标语言序列长度，E是嵌入后的特征维度\n",
    "        - key: shape:`(B, Ns, E)` Ns是源语言序列长度\n",
    "        - value: shape:`(B, Ns, E)`与key形状一样\n",
    "        - attn_mask: 要么是3D的tensor，形状为:`(B, Nt, Ns)`或者2D的tensor，形状如:`(Nt, Ns)`\n",
    "\n",
    "        - Output: attention values: shape:`(B, Nt, E)`，与q的形状一致;attention weights: shape:`(B, Nt, Ns)`\n",
    "    \"\"\"\n",
    "    B, Nt, E = q.shape\n",
    "    q = q / math.sqrt(E)\n",
    "    # (B, Nt, E) x (B, E, Ns) -> (B, Nt, Ns)\n",
    "    attn = torch.bmm(q, k.transpose(-2, -1))\n",
    "    if attn_mask is not None:\n",
    "        attn += attn_mask\n",
    "        # attn意味着目标序列的每个词对源语言序列做注意力\n",
    "    attn = F.softmax(attn, dim=-1)\n",
    "    if dropout_p:\n",
    "        attn = F.dropout(attn, p=dropout_p)\n",
    "    # (B, Nt, Ns) x (B, Ns, E) -> (B, Nt, E)\n",
    "    output = torch.bmm(attn, v)\n",
    "    return output, attn"
   ]
  },
  {
   "cell_type": "code",
   "execution_count": 28,
   "metadata": {},
   "outputs": [],
   "source": [
    "def multi_head_attention_forward(\n",
    "        query: Tensor,\n",
    "        key: Tensor,\n",
    "        value: Tensor,\n",
    "        num_heads: int,\n",
    "        in_proj_weight: Tensor,\n",
    "        in_proj_bias: Optional[Tensor],\n",
    "        dropout_p: float,\n",
    "        out_proj_weight: Tensor,\n",
    "        out_proj_bias: Optional[Tensor],\n",
    "        training: bool = True,\n",
    "        key_padding_mask: Optional[Tensor] = None,\n",
    "        need_weights: bool = True,\n",
    "        attn_mask: Optional[Tensor] = None\n",
    ") -> Tuple[Tensor, Optional[Tensor]]:\n",
    "    \"\"\"\n",
    "    形状：\n",
    "        输入：\n",
    "        - query：`(L, N, E)`\n",
    "        - key: `(S, N, E)`\n",
    "        - value: `(S, N, E)`\n",
    "        - key_padding_mask: `(N, S)`\n",
    "        - attn_mask: `(L, S)` or `(N * num_heads, L, S)`\n",
    "        输出：\n",
    "        - attn_output:`(L, N, E)`\n",
    "        - attn_output_weights:`(N, L, S)`\n",
    "    \"\"\"\n",
    "    tgt_len, bsz, embed_dim = query.shape\n",
    "    src_len, _, _ = key.shape\n",
    "    head_dim = embed_dim // num_heads\n",
    "    # query ,key, value变换得到q, k, v\n",
    "    q, k, v = _in_projection_packed(query, key, value, in_proj_weight, in_proj_bias)\n",
    "\n",
    "    if attn_mask is not None:\n",
    "        if attn_mask.dtype == torch.uint8:\n",
    "            warnings.warn(\"Byte tensor for attn_mask in nn.MultiheadAttention is deprecated. Use bool tensor instead.\")\n",
    "            attn_mask = attn_mask.to(torch.bool)\n",
    "        else:\n",
    "            assert attn_mask.is_floating_point() or attn_mask.dtype == torch.bool, \\\n",
    "                f\"Only float, byte, and bool types are supported for attn_mask, not {attn_mask.dtype}\"\n",
    "\n",
    "        # 对不同维度的形状判定\n",
    "        if attn_mask.dim() == 2:\n",
    "            correct_2d_size = (tgt_len, src_len)\n",
    "            if attn_mask.shape != correct_2d_size:\n",
    "                raise RuntimeError(\n",
    "                    f\"The shape of the 2D attn_mask is {attn_mask.shape}, but should be {correct_2d_size}.\")\n",
    "            attn_mask = attn_mask.unsqueeze(0)\n",
    "        elif attn_mask.dim() == 3:\n",
    "            correct_3d_size = (bsz * num_heads, tgt_len, src_len)\n",
    "            if attn_mask.shape != correct_3d_size:\n",
    "                raise RuntimeError(\n",
    "                    f\"The shape of the 3D attn_mask is {attn_mask.shape}, but should be {correct_3d_size}.\")\n",
    "        else:\n",
    "            raise RuntimeError(f\"attn_mask's dimension {attn_mask.dim()} is not supported\")\n",
    "\n",
    "    if key_padding_mask is not None and key_padding_mask.dtype == torch.uint8:\n",
    "        warnings.warn(\n",
    "            \"Byte tensor for key_padding_mask in nn.MultiheadAttention is deprecated. Use bool tensor instead.\")\n",
    "        key_padding_mask = key_padding_mask.to(torch.bool)\n",
    "\n",
    "    # reshape q,k,v将Batch放在第一维以适合点积注意力\n",
    "    # 同时为多头机制，将不同的头拼在一起组成一层\n",
    "    q = q.contiguous().view(tgt_len, bsz * num_heads, head_dim).transpose(0, 1)\n",
    "    k = k.contiguous().view(-1, bsz * num_heads, head_dim).transpose(0, 1)\n",
    "    v = v.contiguous().view(-1, bsz * num_heads, head_dim).transpose(0, 1)\n",
    "    if key_padding_mask is not None:\n",
    "        assert key_padding_mask.shape == (bsz, src_len), \\\n",
    "            f\"expecting key_padding_mask shape of {(bsz, src_len)}, but got {key_padding_mask.shape}\"\n",
    "        key_padding_mask = key_padding_mask.view(bsz, 1, 1, src_len). \\\n",
    "            expand(-1, num_heads, -1, -1).reshape(bsz * num_heads, 1, src_len)\n",
    "        if attn_mask is None:\n",
    "            # 若attn_mask为空，直接用key_padding_mask\n",
    "            attn_mask = key_padding_mask\n",
    "        elif attn_mask.dtype == torch.bool:\n",
    "            attn_mask = attn_mask.logical_or(key_padding_mask)\n",
    "        else:\n",
    "            attn_mask = attn_mask.masked_fill(key_padding_mask, float(\"-inf\"))\n",
    "    # 若attn_mask值是布尔值，则将mask转换为float\n",
    "    if attn_mask is not None and attn_mask.dtype == torch.bool:\n",
    "        new_attn_mask = torch.zeros_like(attn_mask, dtype=torch.float)\n",
    "        new_attn_mask.masked_fill_(attn_mask, float(\"-inf\"))\n",
    "        attn_mask = new_attn_mask\n",
    "\n",
    "    # 若training为True时才应用dropout\n",
    "    if not training:\n",
    "        dropout_p = 0.0\n",
    "    attn_output, attn_output_weights = _scaled_dot_product_attention(q, k, v, attn_mask, dropout_p)\n",
    "    attn_output = attn_output.transpose(0, 1).contiguous().view(tgt_len, bsz, embed_dim)\n",
    "    attn_output = nn.functional.linear(attn_output, out_proj_weight, out_proj_bias)\n",
    "    if need_weights:\n",
    "        # average attention weights over heads\n",
    "        attn_output_weights = attn_output_weights.view(bsz, num_heads, tgt_len, src_len)\n",
    "        return attn_output, attn_output_weights.sum(dim=1) / num_heads\n",
    "    else:\n",
    "        return attn_output, None"
   ]
  },
  {
   "cell_type": "code",
   "execution_count": 29,
   "metadata": {},
   "outputs": [],
   "source": [
    "class MultiheadAttention(nn.Module):\n",
    "    \"\"\"\n",
    "    参数：\n",
    "        embed_dim: 词嵌入的维度\n",
    "        num_heads: 平行头的数量\n",
    "        batch_first: 若`True`，则为(batch, seq, feture)，若为`False`，则为(seq, batch, feature)\n",
    "    \"\"\"\n",
    "\n",
    "    def __init__(self, embed_dim, num_heads, dropout=0., bias=True,\n",
    "                 kdim=None, vdim=None, batch_first=False) -> None:\n",
    "        # factory_kwargs = {'device': device, 'dtype': dtype}\n",
    "        super(MultiheadAttention, self).__init__()\n",
    "        self.embed_dim = embed_dim\n",
    "        self.kdim = kdim if kdim is not None else embed_dim\n",
    "        self.vdim = vdim if vdim is not None else embed_dim\n",
    "        self._qkv_same_embed_dim = self.kdim == embed_dim and self.vdim == embed_dim\n",
    "\n",
    "        self.num_heads = num_heads\n",
    "        self.dropout = dropout\n",
    "        self.batch_first = batch_first\n",
    "        self.head_dim = embed_dim // num_heads\n",
    "        assert self.head_dim * num_heads == self.embed_dim, \"embed_dim must be divisible by num_heads\"\n",
    "\n",
    "        if self._qkv_same_embed_dim is False:\n",
    "            # 初始化前后形状维持不变\n",
    "            # (seq_length x embed_dim) x (embed_dim x embed_dim) ==> (seq_length x embed_dim)\n",
    "            self.q_proj_weight = Parameter(torch.empty((embed_dim, embed_dim)))\n",
    "            self.k_proj_weight = Parameter(torch.empty((embed_dim, self.kdim)))\n",
    "            self.v_proj_weight = Parameter(torch.empty((embed_dim, self.vdim)))\n",
    "            self.register_parameter('in_proj_weight', None)\n",
    "        else:\n",
    "            # 如果q,k,v的最后一维是一致的，则组成一个大的权重矩阵\n",
    "            self.in_proj_weight = Parameter(torch.empty((3 * embed_dim, embed_dim)))\n",
    "            self.register_parameter('q_proj_weight', None)\n",
    "            self.register_parameter('k_proj_weight', None)\n",
    "            self.register_parameter('v_proj_weight', None)\n",
    "\n",
    "        if bias:\n",
    "            self.in_proj_bias = Parameter(torch.empty(3 * embed_dim))\n",
    "        else:\n",
    "            self.register_parameter('in_proj_bias', None)\n",
    "\n",
    "        # 之后会将所有的头注意力拼接在一起，然后乘上权重矩阵输出\n",
    "        # out_proj是为了后期准备的\n",
    "        self.out_proj = nn.Linear(embed_dim, embed_dim, bias=bias)\n",
    "\n",
    "        self._reset_parameters()\n",
    "\n",
    "    def _reset_parameters(self):\n",
    "        if self._qkv_same_embed_dim:\n",
    "            # 从连续型均匀分布里面随机取样作为初始值\n",
    "            xavier_uniform_(self.in_proj_weight)\n",
    "        else:\n",
    "            xavier_uniform_(self.q_proj_weight)\n",
    "            xavier_uniform_(self.k_proj_weight)\n",
    "            xavier_uniform_(self.v_proj_weight)\n",
    "\n",
    "        if self.in_proj_bias is not None:\n",
    "            # 进行全零向量初始化\n",
    "            constant_(self.in_proj_bias, 0.)\n",
    "            constant_(self.out_proj.bias, 0.)\n",
    "\n",
    "    def forward(self, query: Tensor, key: Tensor, value: Tensor, key_padding_mask: Optional[Tensor] = None,\n",
    "                need_weights: bool = True, attn_mask: Optional[Tensor] = None) -> Tuple[Tensor, Optional[Tensor]]:\n",
    "        if self.batch_first:\n",
    "            query, key, value = [x.transpose(1, 0) for x in (query, key, value)]\n",
    "\n",
    "        if not self._qkv_same_embed_dim:\n",
    "            attn_output, attn_output_weights = multi_head_attention_forward(\n",
    "                query, key, value, self.num_heads,\n",
    "                self.in_proj_weight, self.in_proj_bias,\n",
    "                self.dropout, self.out_proj.weight, self.out_proj.bias,\n",
    "                training=self.training,\n",
    "                key_padding_mask=key_padding_mask, need_weights=need_weights,\n",
    "                attn_mask=attn_mask,\n",
    "                q_proj_weight=self.q_proj_weight, k_proj_weight=self.k_proj_weight,\n",
    "                v_proj_weight=self.v_proj_weight)\n",
    "        else:\n",
    "            attn_output, attn_output_weights = multi_head_attention_forward(\n",
    "                query, key, value, self.num_heads,\n",
    "                self.in_proj_weight, self.in_proj_bias,\n",
    "                self.dropout, self.out_proj.weight, self.out_proj.bias,\n",
    "                training=self.training,\n",
    "                key_padding_mask=key_padding_mask, need_weights=need_weights,\n",
    "                attn_mask=attn_mask)\n",
    "        if self.batch_first:\n",
    "            return attn_output.transpose(1, 0), attn_output_weights\n",
    "        else:\n",
    "            return attn_output, attn_output_weights"
   ]
  },
  {
   "cell_type": "code",
   "execution_count": 30,
   "metadata": {},
   "outputs": [
    {
     "name": "stdout",
     "output_type": "stream",
     "text": [
      "torch.Size([2, 4, 100])\n",
      "torch.Size([2, 4, 100]) torch.Size([4, 2, 2])\n"
     ]
    }
   ],
   "source": [
    "src = torch.randn((2,4,100))\n",
    "src = positional_encoding(src,100,0.1)\n",
    "print(src.shape)\n",
    "multihead_attn = MultiheadAttention(100, 4, 0.1)\n",
    "attn_output, attn_output_weights = multihead_attn(src,src,src)\n",
    "print(attn_output.shape, attn_output_weights.shape)"
   ]
  },
  {
   "cell_type": "markdown",
   "metadata": {},
   "source": [
    "#### 2.3.4 TransformerEncoderLayer"
   ]
  },
  {
   "cell_type": "code",
   "execution_count": 31,
   "metadata": {},
   "outputs": [],
   "source": [
    "class TransformerEncoderLayer(nn.Module):\n",
    "    \"\"\"\n",
    "    参数：\n",
    "        d_model: 词嵌入的维度（必备）\n",
    "        nhead: 多头注意力中平行头的数目（必备）\n",
    "        dim_feedforward: 全连接层的神经元的数目，又称经过此层输入的维度（Default = 2048）\n",
    "        dropout: dropout的概率（Default = 0.1）\n",
    "        activation: 两个线性层中间的激活函数，默认relu或gelu\n",
    "        lay_norm_eps: layer normalization中的微小量，防止分母为0（Default = 1e-5）\n",
    "        batch_first: 若`True`，则为(batch, seq, feture)，若为`False`，则为(seq, batch, feature)（Default：False）\n",
    "    \"\"\"\n",
    "\n",
    "    def __init__(self, d_model, n_head, dim_feedforward=2048, dropout=0.1, activation=F.relu,\n",
    "                 layer_norm_eps=1e-5, batch_first=False) -> None:\n",
    "        super(TransformerEncoderLayer, self).__init__()\n",
    "        self.self_attn = MultiheadAttention(d_model, n_head, dropout=dropout, batch_first=batch_first)\n",
    "        self.linear1 = nn.Linear(d_model, dim_feedforward)\n",
    "        self.dropout = nn.Dropout(dropout)\n",
    "        self.linear2 = nn.Linear(dim_feedforward, d_model)\n",
    "\n",
    "        self.norm1 = nn.LayerNorm(d_model, eps=layer_norm_eps)\n",
    "        self.norm2 = nn.LayerNorm(d_model, eps=layer_norm_eps)\n",
    "        self.dropout1 = nn.Dropout(dropout)\n",
    "        self.dropout2 = nn.Dropout(dropout)\n",
    "        self.activation = activation\n",
    "\n",
    "    def forward(self, src: Tensor, src_mask: Optional[Tensor] = None,\n",
    "                src_key_padding_mask: Optional[Tensor] = None) -> Tensor:\n",
    "        src = positional_encoding(src, src.shape[-1])\n",
    "        src2 = self.self_attn(src, src, src, attn_mask=src_mask,\n",
    "                              key_padding_mask=src_key_padding_mask)[0]\n",
    "        # 残差连接\n",
    "        src = src + self.dropout1(src2)\n",
    "        src = self.norm1(src)\n",
    "        src2 = self.linear2(self.dropout(self.activation(self.linear1(src))))\n",
    "        src = src + self.dropout(src2)\n",
    "        src = self.norm2(src)\n",
    "        return src"
   ]
  },
  {
   "cell_type": "code",
   "execution_count": 34,
   "metadata": {},
   "outputs": [
    {
     "name": "stdout",
     "output_type": "stream",
     "text": [
      "torch.Size([32, 10, 512])\n"
     ]
    }
   ],
   "source": [
    "encoder_layer = TransformerEncoderLayer(d_model=512, n_head=8)\n",
    "src = torch.randn((32, 10, 512))\n",
    "out = encoder_layer(src)\n",
    "print(out.shape)"
   ]
  },
  {
   "cell_type": "markdown",
   "metadata": {},
   "source": [
    "#### 2.3.5 Transformer Layer组成Encoder"
   ]
  },
  {
   "cell_type": "code",
   "execution_count": 32,
   "metadata": {},
   "outputs": [],
   "source": [
    "class TransformerEncoder(nn.Module):\n",
    "    \"\"\"\n",
    "    参数：\n",
    "        encoder_layer（必备）\n",
    "        num_layers： encoder_layer的层数（必备）\n",
    "        norm: 归一化的选择（可选）\n",
    "    \"\"\"\n",
    "\n",
    "    def __init__(self, encoder_layer, num_layers, norm=None):\n",
    "        super(TransformerEncoder, self).__init__()\n",
    "        self.layer = encoder_layer\n",
    "        self.num_layers = num_layers\n",
    "        self.norm = norm\n",
    "\n",
    "    def forward(self, src: Tensor, mask: Optional[Tensor] = None,\n",
    "                src_key_padding_mask: Optional[Tensor] = None) -> Tensor:\n",
    "        output = positional_encoding(src, src.shape[-1])\n",
    "        for _ in range(self.num_layers):\n",
    "            output = self.layer(output, src_mask=mask, src_key_padding_mask=src_key_padding_mask)\n",
    "\n",
    "        if self.norm is not None:\n",
    "            output = self.norm(output)\n",
    "\n",
    "        return output"
   ]
  },
  {
   "cell_type": "code",
   "execution_count": 35,
   "metadata": {},
   "outputs": [
    {
     "name": "stdout",
     "output_type": "stream",
     "text": [
      "torch.Size([10, 32, 512])\n"
     ]
    }
   ],
   "source": [
    "encoder_layer = TransformerEncoderLayer(d_model=512, n_head=8)\n",
    "transformer_encoder = TransformerEncoder(encoder_layer, num_layers=6)\n",
    "src = torch.randn((10, 32, 512))\n",
    "out = transformer_encoder(src)\n",
    "print(out.shape)"
   ]
  },
  {
   "cell_type": "markdown",
   "metadata": {},
   "source": [
    "#### 2.3.6 Decoder Layer"
   ]
  },
  {
   "cell_type": "code",
   "execution_count": 36,
   "metadata": {},
   "outputs": [],
   "source": [
    "class TransformerDecoderLayer(nn.Module):\n",
    "    \"\"\"\n",
    "    参数：\n",
    "        d_model: 词嵌入的维度（必备）\n",
    "        nhead: 多头注意力中平行头的数目（必备）\n",
    "        dim_feedforward: 全连接层的神经元的数目，又称经过此层输入的维度（Default = 2048）\n",
    "        dropout: dropout的概率（Default = 0.1）\n",
    "        activation: 两个线性层中间的激活函数，默认relu或gelu\n",
    "        lay_norm_eps: layer normalization中的微小量，防止分母为0（Default = 1e-5）\n",
    "        batch_first: 若`True`，则为(batch, seq, feture)，若为`False`，则为(seq, batch, feature)（Default：False）\n",
    "    \"\"\"\n",
    "\n",
    "    def __init__(self, d_model, n_head, dim_feedforward=2048, dropout=0.1, activation=F.relu,\n",
    "                 layer_norm_eps=1e-5, batch_first=False) -> None:\n",
    "        super(TransformerDecoderLayer, self).__init__()\n",
    "        self.self_attn = MultiheadAttention(d_model, n_head, dropout=dropout, batch_first=batch_first)\n",
    "        self.multihead_attn = MultiheadAttention(d_model, n_head, dropout=dropout, batch_first=batch_first)\n",
    "\n",
    "        self.linear1 = nn.Linear(d_model, dim_feedforward)\n",
    "        self.dropout = nn.Dropout(dropout)\n",
    "        self.linear2 = nn.Linear(dim_feedforward, d_model)\n",
    "\n",
    "        self.norm1 = nn.LayerNorm(d_model, eps=layer_norm_eps)\n",
    "        self.norm2 = nn.LayerNorm(d_model, eps=layer_norm_eps)\n",
    "        self.norm3 = nn.LayerNorm(d_model, eps=layer_norm_eps)\n",
    "        self.dropout1 = nn.Dropout(dropout)\n",
    "        self.dropout2 = nn.Dropout(dropout)\n",
    "        self.dropout3 = nn.Dropout(dropout)\n",
    "\n",
    "        self.activation = activation\n",
    "\n",
    "    def forward(self, tgt: Tensor, memory: Tensor, tgt_mask: Optional[Tensor] = None,\n",
    "                memory_mask: Optional[Tensor] = None, tgt_key_padding_mask: Optional[Tensor] = None,\n",
    "                memory_key_padding_mask: Optional[Tensor] = None) -> Tensor:\n",
    "        \"\"\"\n",
    "        参数：\n",
    "            tgt: 目标语言序列（必备）\n",
    "            memory: 从最后一个encoder_layer跑出的句子（必备）\n",
    "            tgt_mask: 目标语言序列的mask（可选）\n",
    "            memory_mask（可选）\n",
    "            tgt_key_padding_mask（可选）\n",
    "            memory_key_padding_mask（可选）\n",
    "        \"\"\"\n",
    "        tgt2 = self.self_attn(tgt, tgt, tgt, attn_mask=tgt_mask,\n",
    "                              key_padding_mask=tgt_key_padding_mask)[0]\n",
    "        # 残差连接\n",
    "        tgt = tgt + self.dropout1(tgt2)\n",
    "        tgt = self.norm1(tgt)\n",
    "        tgt2 = self.multihead_attn(tgt, memory, memory, attn_mask=memory_mask,\n",
    "                                   key_padding_mask=memory_key_padding_mask)[0]\n",
    "        tgt = tgt + self.dropout2(tgt2)\n",
    "        tgt = self.norm2(tgt)\n",
    "        tgt2 = self.linear2(self.dropout(self.activation(self.linear1(tgt))))\n",
    "        tgt = tgt + self.dropout3(tgt2)\n",
    "        tgt = self.norm3(tgt)\n",
    "        return tgt"
   ]
  },
  {
   "cell_type": "code",
   "execution_count": 37,
   "metadata": {},
   "outputs": [
    {
     "name": "stdout",
     "output_type": "stream",
     "text": [
      "torch.Size([20, 32, 512])\n"
     ]
    }
   ],
   "source": [
    "decoder_layer = TransformerDecoderLayer(d_model=512, n_head=8)\n",
    "memory = torch.randn((10, 32, 512))\n",
    "tgt = torch.randn((20, 32, 512))\n",
    "out = decoder_layer(tgt, memory)\n",
    "print(out.shape)"
   ]
  },
  {
   "cell_type": "markdown",
   "metadata": {},
   "source": [
    "#### 2.3.7 Decoder"
   ]
  },
  {
   "cell_type": "code",
   "execution_count": 38,
   "metadata": {},
   "outputs": [],
   "source": [
    "class TransformerDecoder(nn.Module):\n",
    "    r\"\"\"\n",
    "    参数：\n",
    "        decoder_layer（必备）\n",
    "        num_layers: decoder_layer的层数（必备）\n",
    "        norm: 归一化选择\n",
    "    \"\"\"\n",
    "    def __init__(self, decoder_layer, num_layers, norm=None):\n",
    "        super(TransformerDecoder, self).__init__()\n",
    "        self.layer = decoder_layer\n",
    "        self.num_layers = num_layers\n",
    "        self.norm = norm\n",
    "\n",
    "    def forward(self, tgt: Tensor, memory: Tensor, tgt_mask: Optional[Tensor] = None,\n",
    "                memory_mask: Optional[Tensor] = None, tgt_key_padding_mask: Optional[Tensor] = None,\n",
    "                memory_key_padding_mask: Optional[Tensor] = None) -> Tensor:\n",
    "        output = tgt\n",
    "        for _ in range(self.num_layers):\n",
    "            output = self.layer(output, memory, tgt_mask=tgt_mask,\n",
    "                                memory_mask=memory_mask,\n",
    "                                tgt_key_padding_mask=tgt_key_padding_mask,\n",
    "                                memory_key_padding_mask=memory_key_padding_mask)\n",
    "        if self.norm is not None:\n",
    "            output = self.norm(output)\n",
    "\n",
    "        return output"
   ]
  },
  {
   "cell_type": "code",
   "execution_count": 39,
   "metadata": {},
   "outputs": [
    {
     "name": "stdout",
     "output_type": "stream",
     "text": [
      "torch.Size([20, 32, 512])\n"
     ]
    }
   ],
   "source": [
    "decoder_layer =TransformerDecoderLayer(d_model=512, n_head=8)\n",
    "transformer_decoder = TransformerDecoder(decoder_layer, num_layers=6)\n",
    "memory = torch.rand(10, 32, 512)\n",
    "tgt = torch.rand(20, 32, 512)\n",
    "out = transformer_decoder(tgt, memory)\n",
    "print(out.shape)"
   ]
  },
  {
   "cell_type": "markdown",
   "metadata": {},
   "source": [
    "#### 2.3.8 Transformer"
   ]
  },
  {
   "cell_type": "code",
   "execution_count": 40,
   "metadata": {},
   "outputs": [],
   "source": [
    "class Transformer(nn.Module):\n",
    "    \"\"\"\n",
    "    参数：\n",
    "        d_model: 词嵌入的维度（必备）（Default=512）\n",
    "        nhead: （必备）（Default=8）\n",
    "        num_encoder_layers:编码层层数（Default=8）\n",
    "        num_decoder_layers:解码层层数（Default=8）\n",
    "        dim_feedforward: 全连接层的神经元的数目，又称经过此层输入的维度（Default = 2048）\n",
    "        dropout: dropout的概率（Default = 0.1）\n",
    "        activation: 两个线性层中间的激活函数，默认relu或gelu\n",
    "        custom_encoder: 自定义encoder（Default=None）\n",
    "        custom_decoder: 自定义decoder（Default=None）\n",
    "        lay_norm_eps: layer normalization中的微小量，防止分母为0（Default = 1e-5）\n",
    "        batch_first: 若`True`，则为(batch, seq, feture)，若为`False`，则为(seq, batch, feature)（Default：False）\n",
    "    \"\"\"\n",
    "\n",
    "    def __init__(self, d_model: int = 512, n_head: int = 8, num_encoder_layers: int = 6,\n",
    "                 num_decoder_layers: int = 6, dim_feedforward: int = 2048, dropout: float = 0.1,\n",
    "                 activation=F.relu, custom_encoder: Optional[Any] = None, custom_decoder: Optional[Any] = None,\n",
    "                 layer_norm_eps: float = 1e-5, batch_first: bool = False) -> None:\n",
    "        super(Transformer, self).__init__()\n",
    "        if custom_encoder is not None:\n",
    "            self.encoder = custom_encoder\n",
    "        else:\n",
    "            encoder_layer = TransformerEncoderLayer(d_model, n_head, dim_feedforward, dropout,\n",
    "                                                    activation, layer_norm_eps, batch_first)\n",
    "            encoder_norm = nn.LayerNorm(d_model, eps=layer_norm_eps)\n",
    "            self.encoder = TransformerEncoder(encoder_layer, num_encoder_layers, encoder_norm)\n",
    "\n",
    "        if custom_decoder is not None:\n",
    "            self.decoder = custom_decoder\n",
    "        else:\n",
    "            decoder_layer = TransformerDecoderLayer(d_model, n_head, dim_feedforward, dropout,\n",
    "                                                    activation, layer_norm_eps, batch_first)\n",
    "            decoder_norm = nn.LayerNorm(d_model, eps=layer_norm_eps)\n",
    "            self.decoder = TransformerDecoder(decoder_layer, num_decoder_layers, decoder_norm)\n",
    "\n",
    "        self._reset_parameters()\n",
    "\n",
    "        self.d_model = d_model\n",
    "        self.n_head = n_head\n",
    "\n",
    "        self.batch_first = batch_first\n",
    "\n",
    "    def forward(self, src: Tensor, tgt: Tensor, src_mask: Optional[Tensor] = None, tgt_mask: Optional[Tensor] = None,\n",
    "                memory_mask: Optional[Tensor] = None, src_key_padding_mask: Optional[Tensor] = None,\n",
    "                tgt_key_padding_mask: Optional[Tensor] = None,\n",
    "                memory_key_padding_mask: Optional[Tensor] = None) -> Tensor:\n",
    "        \"\"\"\n",
    "        参数：\n",
    "            src: 源语言序列（送入Encoder）（必备）\n",
    "            tgt: 目标语言序列（送入Decoder）（必备）\n",
    "            src_mask: （可选)\n",
    "            tgt_mask: （可选）\n",
    "            memory_mask: （可选）\n",
    "            src_key_padding_mask: （可选）\n",
    "            tgt_key_padding_mask: （可选）\n",
    "            memory_key_padding_mask: （可选）\n",
    "\n",
    "        形状：\n",
    "            - src: shape:`(S, N, E)`, `(N, S, E)` if batch_first.\n",
    "            - tgt: shape:`(T, N, E)`, `(N, T, E)` if batch_first.\n",
    "            - src_mask: shape:`(S, S)`.\n",
    "            - tgt_mask: shape:`(T, T)`.\n",
    "            - memory_mask: shape:`(T, S)`.\n",
    "            - src_key_padding_mask: shape:`(N, S)`.\n",
    "            - tgt_key_padding_mask: shape:`(N, T)`.\n",
    "            - memory_key_padding_mask: shape:`(N, S)`.\n",
    "\n",
    "            [src/tgt/memory]_mask确保有些位置不被看到，如做decode的时候，只能看该位置及其以前的，而不能看后面的。\n",
    "            若为ByteTensor，非0的位置会被忽略不做注意力；若为BoolTensor，True对应的位置会被忽略；\n",
    "            若为数值，则会直接加到attn_weights\n",
    "\n",
    "            [src/tgt/memory]_key_padding_mask 使得key里面的某些元素不参与attention计算，三种情况同上\n",
    "\n",
    "            - output: shape:`(T, N, E)`, `(N, T, E)` if batch_first.\n",
    "\n",
    "        注意：\n",
    "            src和tgt的最后一维需要等于d_model，batch的那一维需要相等\n",
    "\n",
    "        \"\"\"\n",
    "        memory = self.encoder(src, mask=src_mask, src_key_padding_mask=src_key_padding_mask)\n",
    "        output = self.decoder(tgt, memory, tgt_mask=tgt_mask, memory_mask=memory_mask,\n",
    "                              tgt_key_padding_mask=tgt_key_padding_mask,\n",
    "                              memory_key_padding_mask=memory_key_padding_mask)\n",
    "        return output\n",
    "\n",
    "    @staticmethod\n",
    "    def generate_square_subsequent_mask(sz: int) -> Tensor:\n",
    "        \"\"\"产生关于序列的mask，被遮住的区域赋值`-inf`，未被遮住的区域赋值为`0`\"\"\"\n",
    "        mask = (torch.triu(torch.ones(sz, sz)) == 1).transpose(0, 1)\n",
    "        mask = mask.float().masked_fill(mask == 0, float('-inf')).masked_fill(mask == 1, float(0.0))\n",
    "        return mask\n",
    "\n",
    "    def _reset_parameters(self):\n",
    "        \"\"\"用正态分布初始化参数\"\"\"\n",
    "        for p in self.parameters():\n",
    "            if p.dim() > 1:\n",
    "                xavier_uniform_(p)"
   ]
  },
  {
   "cell_type": "code",
   "execution_count": 41,
   "metadata": {},
   "outputs": [
    {
     "name": "stdout",
     "output_type": "stream",
     "text": [
      "torch.Size([20, 32, 512])\n"
     ]
    }
   ],
   "source": [
    "transformer_model = Transformer(n_head=16, num_encoder_layers=12)\n",
    "src = torch.rand((10, 32, 512))\n",
    "tgt = torch.rand((20, 32, 512))\n",
    "out = transformer_model(src, tgt)\n",
    "print(out.shape)"
   ]
  },
  {
   "cell_type": "markdown",
   "metadata": {},
   "source": [
    "## 3 总结"
   ]
  },
  {
   "cell_type": "markdown",
   "metadata": {},
   "source": [
    "&emsp;&emsp;本次任务，主要从seq2seq模型，到Attention模型，再到Transformer模型，并详细介绍了Transformer的各个组成部分，包括Transformer输入、Encoder编码器、Self-Attention、残差连接、Decoder解码器、最后的线性层和softmax层。根据Transformer原理，详细讲解了Transformer代码。"
   ]
  }
 ],
 "metadata": {
  "kernelspec": {
   "display_name": "Python 3",
   "language": "python",
   "name": "python3"
  },
  "language_info": {
   "codemirror_mode": {
    "name": "ipython",
    "version": 3
   },
   "file_extension": ".py",
   "mimetype": "text/x-python",
   "name": "python",
   "nbconvert_exporter": "python",
   "pygments_lexer": "ipython3",
   "version": "3.7.9"
  }
 },
 "nbformat": 4,
 "nbformat_minor": 1
}