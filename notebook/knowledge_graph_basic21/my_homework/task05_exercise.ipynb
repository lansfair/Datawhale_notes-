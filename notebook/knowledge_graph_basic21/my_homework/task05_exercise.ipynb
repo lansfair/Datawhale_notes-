{
 "cells": [
  {
   "cell_type": "markdown",
   "metadata": {
    "collapsed": true
   },
   "source": [
    "# Task05 Neo4j 图数据库查询\n",
    "\n",
    "## 1 知识梳理"
   ]
  },
  {
   "cell_type": "markdown",
   "metadata": {},
   "source": [
    "- `Neo4j`图数据库由`Java`编写，数据保存形式为节点及节点的关系，节点和边都能够包含保存值的属性\n",
    "- `Cypher`查询语言：适合在数据库中进行点对点模式（ad-hoc）查询，采用声明式，其所表达的是从图中如何查询，而不是如何去做，用户不需要去关心如何优化查询\n",
    "- 查询操作\n",
    "1. 连接`Neo4j`查看数据\n",
    "![](images\\task05\\01.png)\n",
    "![](images\\task05\\02.png)\n",
    "2. 查询症状  \n",
    "执行CQL语句：`MATCH (d:Disease)-[:HAS_SYMPTOM]->(s) WHERE d.name='糖尿病' RETURN d.name,s.name`\n",
    "![](images\\task05\\03.png)"
   ]
  },
  {
   "cell_type": "markdown",
   "metadata": {},
   "source": [
    "## 2 代码详解\n",
    "主要详解主体类`AnswerSearching`代码（search_answer.py），主要用于构造CQL语句、执行cypher查询返回结果"
   ]
  },
  {
   "cell_type": "markdown",
   "metadata": {},
   "source": [
    "### 2.1 构造CQL语句\n",
    "主要功能：根据不同的实体和意图构造CQL语句  \n",
    "整体思路：\n",
    "1. 根据不同的意图（例如“乙肝怎么治”，得到的文本分类为`{'Disease': ['乙肝'], 'intentions': ['query_cureway']}`，表示疾病为乙肝，意图是已知疾病或症状，查询治疗方法）执行对应分类的CQL语句构建\n",
    "2. 将意图转变为具体的CQL语句"
   ]
  },
  {
   "cell_type": "code",
   "execution_count": 2,
   "metadata": {},
   "outputs": [],
   "source": [
    "def question_parser(self, data):\n",
    "    \"\"\"\n",
    "    主要是根据不同的实体和意图构造cypher查询语句\n",
    "    :param data: {\"Disease\":[], \"Alias\":[], \"Symptom\":[], \"Complication\":[]}\n",
    "    :return:\n",
    "    \"\"\"\n",
    "    sqls = []\n",
    "    if data:\n",
    "        for intent in data[\"intentions\"]:\n",
    "            sql_ = dict(intention=intent)\n",
    "            sql = []\n",
    "            if data.get(\"Disease\"):\n",
    "                # 将意图转换为具体的CQL语句\n",
    "                sql = self.transfor_to_sql(\"Disease\", data[\"Disease\"], intent)\n",
    "            elif data.get(\"Alias\"):\n",
    "                sql = self.transfor_to_sql(\"Alias\", data[\"Alias\"], intent)\n",
    "            elif data.get(\"Symptom\"):\n",
    "                sql = self.transfor_to_sql(\"Symptom\", data[\"Symptom\"], intent)\n",
    "            elif data.get(\"Complication\"):\n",
    "                sql = self.transfor_to_sql(\"Complication\", data[\"Complication\"], intent)\n",
    "\n",
    "            if sql:\n",
    "                sql_['sql'] = sql\n",
    "                # 用数组存储多个CQL语句\n",
    "                sqls.append(sql_)\n",
    "    return sqls"
   ]
  },
  {
   "cell_type": "markdown",
   "metadata": {},
   "source": [
    "根据`entity_extractor.py`中定义的如下分类，进行CQL语句构建\n",
    "- 已知疾病，查询症状：`query_symptom`\n",
    "- 已知疾病或症状，查询治疗方法：`query_cureway`\n",
    "- 已知疾病或症状，查询治疗周期：`query_period`\n",
    "- 已知疾病，查询治愈率：`query_rate`\n",
    "- 已知疾病，查询检查项目：`query_checklist`\n",
    "- 查询科室：`query_department`\n",
    "- 已知症状，查询疾病：`query_disease`\n",
    "- 若没有检测到意图，且已知疾病，则返回疾病的描述：`disease_describe`\n",
    "- 若是疾病和症状同时出现，且出现了查询疾病的特征词，则意图为查询疾病：`query_disease`\n",
    "- 若没有识别出实体或意图则调用其它方法：`QA_matching`"
   ]
  },
  {
   "cell_type": "markdown",
   "metadata": {},
   "source": [
    "### 2.2 执行cypher查询返回结果\n",
    "根据不同的意图，返回不同的答案模板"
   ]
  },
  {
   "cell_type": "code",
   "execution_count": 4,
   "metadata": {},
   "outputs": [],
   "source": [
    "def searching(self, sqls):\n",
    "    \"\"\"\n",
    "    执行cypher查询，返回结果\n",
    "    :param sqls:\n",
    "    :return:str\n",
    "    \"\"\"\n",
    "    final_answers = []\n",
    "    for sql_ in sqls:\n",
    "        intent = sql_['intention']\n",
    "        queries = sql_['sql']\n",
    "        answers = []\n",
    "        for query in queries:\n",
    "            ress = self.graph.run(query).data()\n",
    "            answers += ress\n",
    "        # 将多个查询结果和意图分类生成答案\n",
    "        final_answer = self.answer_template(intent, answers)\n",
    "        if final_answer:\n",
    "            final_answers.append(final_answer)\n",
    "    return final_answers"
   ]
  },
  {
   "cell_type": "markdown",
   "metadata": {},
   "source": [
    "![](images/task05/04.png)\n",
    "![](images/task05/05.png)"
   ]
  },
  {
   "cell_type": "markdown",
   "metadata": {},
   "source": [
    "## 3 总结\n",
    "1. 通过问题查询答案结果，主要是利用上一个过程的意图识别得到的意图分类，将意图构造CQL语言，然后执行得到结果，将结果按照意图分类得到不同意图的模板答案\n",
    "2. 改进：可根据问题的形式（即描述风格，语句的断句）动态构造答案模板，而不是通过意图进行模板答案的内容填写，可支持智能化的回答形式"
   ]
  }
 ],
 "metadata": {
  "kernelspec": {
   "display_name": "Python 3",
   "language": "python",
   "name": "python3"
  },
  "language_info": {
   "codemirror_mode": {
    "name": "ipython",
    "version": 3
   },
   "file_extension": ".py",
   "mimetype": "text/x-python",
   "name": "python",
   "nbconvert_exporter": "python",
   "pygments_lexer": "ipython3",
   "version": "3.7.1"
  },
  "toc": {
   "base_numbering": 1,
   "nav_menu": {},
   "number_sections": false,
   "sideBar": true,
   "skip_h1_title": false,
   "title_cell": "Table of Contents",
   "title_sidebar": "Contents",
   "toc_cell": false,
   "toc_position": {},
   "toc_section_display": true,
   "toc_window_display": false
  }
 },
 "nbformat": 4,
 "nbformat_minor": 1
}
