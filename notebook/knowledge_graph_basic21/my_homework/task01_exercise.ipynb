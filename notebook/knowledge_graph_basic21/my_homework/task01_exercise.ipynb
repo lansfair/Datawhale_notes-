{
 "cells": [
  {
   "cell_type": "markdown",
   "metadata": {
    "collapsed": true
   },
   "source": [
    "# Task01 知识图谱介绍"
   ]
  },
  {
   "cell_type": "markdown",
   "metadata": {},
   "source": [
    "## 1 知识梳理"
   ]
  },
  {
   "cell_type": "markdown",
   "metadata": {},
   "source": [
    "### 1.1 知识图谱简介\n",
    "- 概念：知识图谱本质上是语义网络（Semantic Network）的知识库”。但这有点抽象，所以换个角度，从实际应用的角度出发其实可以简单地把知识图谱理解成多关系图（Multi-relational Graph）\n",
    "- 图：图（Graph）是由节点（Vertex）和边（Edge）来构成\n",
    "- Schema：知识图谱数据的格式（即数据模型）"
   ]
  },
  {
   "cell_type": "markdown",
   "metadata": {},
   "source": [
    "### 1.2 构建知识图谱\n",
    "- 数据来源：业务数据和来自爬取的数据\n",
    "- 信息抽取的方式：主要是自然语言处理技术\n",
    "- 具体构建技术：实体命名识别、关系抽取、实体统一、指代消解 "
   ]
  },
  {
   "cell_type": "markdown",
   "metadata": {},
   "source": [
    "### 1.3 知识图谱的存储\n",
    "- RDF存储：RDF为资源描述框架(Resource Description Framework，英文简写RDF)\n",
    "- 图数据库存储：目前采用Neo4j图数据库\n",
    "\n",
    "|RDF| 图数据库|\n",
    "|:---|:---|\n",
    "| 存储三元组 | 节点和关系可以带有属性 |\n",
    "| 标准的推理引擎 | 没有标准的推理引擎 |\n",
    "| W3C标准 | 图的遍历效率高 |\n",
    "| 易于发布数据 | 事务管理 |\n",
    "| 多数为学术界场景 | 基本为工业界场景 |"
   ]
  },
  {
   "cell_type": "markdown",
   "metadata": {},
   "source": [
    "## 2 实战练习"
   ]
  },
  {
   "cell_type": "markdown",
   "metadata": {},
   "source": [
    "### 2.1 使用`neo4j`模块执行`CQL`语句"
   ]
  },
  {
   "cell_type": "code",
   "execution_count": 1,
   "metadata": {},
   "outputs": [],
   "source": [
    "# step 1：导入 Neo4j 驱动包\n",
    "from neo4j import GraphDatabase\n",
    "# step 2：连接 Neo4j 图数据库\n",
    "user_name = 'neo4j'\n",
    "password = 'hun1988'\n",
    "driver = GraphDatabase.driver(\"bolt://localhost:7687\", auth=(user_name, password))"
   ]
  },
  {
   "cell_type": "code",
   "execution_count": 2,
   "metadata": {},
   "outputs": [],
   "source": [
    "# 添加关系\n",
    "def add_friend(tx, name, friend_name):\n",
    "    tx.run(\"MERGE (a:Person {name: $name}) \"\n",
    "           \"MERGE (a)-[:KNOWS]->(friend:Person {name: $friend_name})\",\n",
    "            name=name, friend_name=friend_name)"
   ]
  },
  {
   "cell_type": "code",
   "execution_count": 3,
   "metadata": {},
   "outputs": [],
   "source": [
    "# 定义关系\n",
    "def print_friends(tx, name):\n",
    "    for record in tx.run(\"MATCH (a:Person)-[:KNOWS]->(friend) WHERE a.name = $name \"\n",
    "                          \"RETURN friend.name ORDER BY friend.name\", name=name):\n",
    "        print(record[\"friend.name\"])"
   ]
  },
  {
   "cell_type": "code",
   "execution_count": 4,
   "metadata": {
    "scrolled": true
   },
   "outputs": [
    {
     "name": "stdout",
     "output_type": "stream",
     "text": [
      "Guinevere\n",
      "Lancelot\n",
      "Merlin\n"
     ]
    }
   ],
   "source": [
    "# step 3：运行\n",
    "with driver.session() as session:\n",
    "    session.write_transaction(add_friend, \"Arthur\", \"Guinevere\")\n",
    "    session.write_transaction(add_friend, \"Arthur\", \"Lancelot\")\n",
    "    session.write_transaction(add_friend, \"Arthur\", \"Merlin\")\n",
    "    session.read_transaction(print_friends, \"Arthur\")"
   ]
  },
  {
   "cell_type": "markdown",
   "metadata": {},
   "source": [
    "![](images/task01/ch02-01.png)"
   ]
  },
  {
   "cell_type": "markdown",
   "metadata": {},
   "source": [
    "### 2.2 使用`py2neo`模块，操作`neo4j`图数据库"
   ]
  },
  {
   "cell_type": "code",
   "execution_count": 5,
   "metadata": {},
   "outputs": [],
   "source": [
    "# step 1：导包\n",
    "from py2neo import Graph, Node, Relationship"
   ]
  },
  {
   "cell_type": "code",
   "execution_count": 6,
   "metadata": {},
   "outputs": [],
   "source": [
    "# step 2：构建图\n",
    "user_name = 'neo4j'\n",
    "password = 'hun1988'\n",
    "g = Graph(\"bolt://localhost:7687\", auth=(user_name, password))"
   ]
  },
  {
   "cell_type": "code",
   "execution_count": 7,
   "metadata": {
    "scrolled": false
   },
   "outputs": [
    {
     "data": {
      "text/plain": [
       "<Bookmark 'neo4j:bookmark:v1:tx84'>"
      ]
     },
     "execution_count": 7,
     "metadata": {},
     "output_type": "execute_result"
    }
   ],
   "source": [
    "# step 3：创建节点\n",
    "tx = g.begin()\n",
    "a = Node(\"Person\", name=\"Alice\")\n",
    "tx.create(a)\n",
    "b = Node(\"Person\", name=\"Bob\")\n",
    "# step 4：创建边\n",
    "ab = Relationship(a, \"KNOWS\", b)\n",
    "# step 5：运行\n",
    "tx.create(ab)\n",
    "tx.commit()"
   ]
  },
  {
   "cell_type": "markdown",
   "metadata": {},
   "source": [
    "![](images/task01/ch02-02.png)"
   ]
  },
  {
   "cell_type": "markdown",
   "metadata": {},
   "source": [
    "## 3 练一练\n",
    "\n",
    "使用`py2neo`模块，完成教程第5节的内容"
   ]
  },
  {
   "cell_type": "code",
   "execution_count": 8,
   "metadata": {},
   "outputs": [],
   "source": [
    "from py2neo import Graph, Node, Relationship, Subgraph\n",
    "\n",
    "# 连接图数据库\n",
    "user_name = 'neo4j'\n",
    "password = 'hun1988'\n",
    "g = Graph(\"bolt://localhost:7687\", auth=(user_name, password))"
   ]
  },
  {
   "cell_type": "code",
   "execution_count": 9,
   "metadata": {},
   "outputs": [],
   "source": [
    "# 删除数据库中以前的图\n",
    "g.delete_all()"
   ]
  },
  {
   "cell_type": "markdown",
   "metadata": {},
   "source": [
    "![](images/task01/ch03-01.png)"
   ]
  },
  {
   "cell_type": "code",
   "execution_count": 10,
   "metadata": {},
   "outputs": [
    {
     "data": {
      "text/plain": [
       "<Bookmark 'neo4j:bookmark:v1:tx86'>"
      ]
     },
     "execution_count": 10,
     "metadata": {},
     "output_type": "execute_result"
    }
   ],
   "source": [
    "# 创建人物节点\n",
    "# CREATE (n:Person {name:'John'}) RETURN n\n",
    "# CREATE (n:Person {name:'Sally'}) RETURN n\n",
    "# CREATE (n:Person {name:'Steve'}) RETURN n\n",
    "# CREATE (n:Person {name:'Mike'}) RETURN n\n",
    "# CREATE (n:Person {name:'Liz'}) RETURN n\n",
    "# CREATE (n:Person {name:'Shawn'}) RETURN n\n",
    "tx = g.begin()\n",
    "names = ['John', 'Sally', 'Steve', 'Mike', 'Liz', 'Shawn']\n",
    "for p_name in names:\n",
    "    p_node = Node(\"Person\", name=p_name)\n",
    "    tx.create(p_node)\n",
    "tx.commit()"
   ]
  },
  {
   "cell_type": "markdown",
   "metadata": {},
   "source": [
    "![](images/task01/ch03-02.png)"
   ]
  },
  {
   "cell_type": "code",
   "execution_count": 11,
   "metadata": {},
   "outputs": [
    {
     "data": {
      "text/plain": [
       "<Bookmark 'neo4j:bookmark:v1:tx87'>"
      ]
     },
     "execution_count": 11,
     "metadata": {},
     "output_type": "execute_result"
    }
   ],
   "source": [
    "# 创建地区节点\n",
    "# CREATE (n:Location {city:'Miami', state:'FL'})\n",
    "# CREATE (n:Location {city:'Boston', state:'MA'})\n",
    "# CREATE (n:Location {city:'Lynn', state:'MA'})\n",
    "# CREATE (n:Location {city:'Portland', state:'ME'})\n",
    "# CREATE (n:Location {city:'San Francisco', state:'CA'})\n",
    "tx = g.begin()\n",
    "locations = [{'city':'Miami', 'state':'FL'}, {'city':'Boston', 'state':'MA'}, {'city':'Lynn', 'state':'MA'}, \n",
    "             {'city':'Portland', 'state':'ME'}, {'city':'San Francisco', 'state':'CA'}]\n",
    "for location in locations:\n",
    "    l_node = Node(\"Location\", city=location['city'], state=location['state'])\n",
    "    tx.create(l_node)\n",
    "tx.commit()"
   ]
  },
  {
   "cell_type": "markdown",
   "metadata": {},
   "source": [
    "![](images/task01/ch03-03.png)"
   ]
  },
  {
   "cell_type": "code",
   "execution_count": 12,
   "metadata": {},
   "outputs": [
    {
     "data": {
      "text/plain": [
       "<Bookmark 'neo4j:bookmark:v1:tx88'>"
      ]
     },
     "execution_count": 12,
     "metadata": {},
     "output_type": "execute_result"
    }
   ],
   "source": [
    "# 创建朋友关系\n",
    "# MATCH (a:Person {name:'Liz'}), (b:Person {name:'Mike'})\n",
    "# MERGE (a)-[:FRIENDS]->(b)\n",
    "tx = g.begin()\n",
    "a = tx.graph.nodes.match(\"Person\", name='Liz').first()\n",
    "b = tx.graph.nodes.match(\"Person\", name='Mike').first()\n",
    "ab = Relationship(a, \"FRIENDS\", b)\n",
    "tx.create(ab)\n",
    "tx.commit()"
   ]
  },
  {
   "cell_type": "markdown",
   "metadata": {},
   "source": [
    "![](images/task01/ch03-04.png)"
   ]
  },
  {
   "cell_type": "code",
   "execution_count": 13,
   "metadata": {},
   "outputs": [
    {
     "data": {
      "text/plain": [
       "<Bookmark 'neo4j:bookmark:v1:tx89'>"
      ]
     },
     "execution_count": 13,
     "metadata": {},
     "output_type": "execute_result"
    }
   ],
   "source": [
    "# 关系增加属性\n",
    "# MATCH (a:Person {name:'Shawn'}), (b:Person {name:'Sally'})\n",
    "# MERGE (a)-[:FRIENDS {since:2001}]->(b)\n",
    "tx = g.begin()\n",
    "a = tx.graph.nodes.match(\"Person\", name='Shawn').first()\n",
    "b = tx.graph.nodes.match(\"Person\", name='Sally').first()\n",
    "ab = Relationship(a, \"FRIENDS\", b, since=2001)\n",
    "tx.create(ab)\n",
    "tx.commit()"
   ]
  },
  {
   "cell_type": "code",
   "execution_count": 14,
   "metadata": {},
   "outputs": [
    {
     "data": {
      "text/plain": [
       "<Bookmark 'neo4j:bookmark:v1:tx90'>"
      ]
     },
     "execution_count": 14,
     "metadata": {},
     "output_type": "execute_result"
    }
   ],
   "source": [
    "# 创建更多朋友关系\n",
    "# MATCH (a:Person {name:'Shawn'}), (b:Person {name:'John'}) MERGE (a)-[:FRIENDS {since:2012}]->(b)\n",
    "# MATCH (a:Person {name:'Mike'}), (b:Person {name:'Shawn'}) MERGE (a)-[:FRIENDS {since:2006}]->(b)\n",
    "# MATCH (a:Person {name:'Sally'}), (b:Person {name:'Steve'}) MERGE (a)-[:FRIENDS {since:2006}]->(b)\n",
    "# MATCH (a:Person {name:'Liz'}), (b:Person {name:'John'}) MERGE (a)-[:MARRIED {since:1998}]->(b)\n",
    "tx = g.begin()\n",
    "a = tx.graph.nodes.match(\"Person\", name='Shawn').first()\n",
    "b = tx.graph.nodes.match(\"Person\", name='John').first()\n",
    "c = tx.graph.nodes.match(\"Person\", name='Mike').first()\n",
    "d = tx.graph.nodes.match(\"Person\", name='Sally').first()\n",
    "e = tx.graph.nodes.match(\"Person\", name='Steve').first()\n",
    "f = tx.graph.nodes.match(\"Person\", name='Liz').first()\n",
    "ab = Relationship(a, \"FRIENDS\", b, since=2012)\n",
    "ca = Relationship(c, \"FRIENDS\", a, since=2006)\n",
    "de = Relationship(d, \"FRIENDS\", e, since=2006)\n",
    "fb = Relationship(f, \"MARRIED\", b, since=1998)\n",
    "A = Subgraph(relationships=[ab, ca, de, fb])   \n",
    "tx.create(A)\n",
    "tx.commit()"
   ]
  },
  {
   "cell_type": "markdown",
   "metadata": {},
   "source": [
    "![](images/task01/ch03-05.png)"
   ]
  },
  {
   "cell_type": "code",
   "execution_count": 15,
   "metadata": {},
   "outputs": [
    {
     "data": {
      "text/plain": [
       "<Bookmark 'neo4j:bookmark:v1:tx91'>"
      ]
     },
     "execution_count": 15,
     "metadata": {},
     "output_type": "execute_result"
    }
   ],
   "source": [
    "# 建立不同类型节点之间的关系-人物和地点的关系\n",
    "# MATCH (a:Person {name:'John'}), (b:Location {city:'Boston'}) MERGE (a)-[:BORN_IN {year:1978}]->(b)\n",
    "# MATCH (a:Person {name:'Liz'}), (b:Location {city:'Boston'}) MERGE (a)-[:BORN_IN {year:1981}]->(b)\n",
    "# MATCH (a:Person {name:'Mike'}), (b:Location {city:'San Francisco'}) MERGE (a)-[:BORN_IN {year:1960}]->(b)\n",
    "# MATCH (a:Person {name:'Shawn'}), (b:Location {city:'Miami'}) MERGE (a)-[:BORN_IN {year:1960}]->(b)\n",
    "# MATCH (a:Person {name:'Steve'}), (b:Location {city:'Lynn'}) MERGE (a)-[:BORN_IN{year:1970}]->(b)\n",
    "tx = g.begin()\n",
    "p_John = tx.graph.nodes.match(\"Person\", name='John').first()\n",
    "p_Liz = tx.graph.nodes.match(\"Person\", name='Liz').first()\n",
    "p_Mike = tx.graph.nodes.match(\"Person\", name='Mike').first()\n",
    "p_Shawn = tx.graph.nodes.match(\"Person\", name='Shawn').first()\n",
    "p_Steve = tx.graph.nodes.match(\"Person\", name='Steve').first()\n",
    "\n",
    "l_Boston = tx.graph.nodes.match(\"Location\", city='Boston').first()\n",
    "l_Francisco = tx.graph.nodes.match(\"Location\", city='San Francisco').first()\n",
    "l_Miami = tx.graph.nodes.match(\"Location\", city='Miami').first()\n",
    "l_Lynn = tx.graph.nodes.match(\"Location\", city='Lynn').first()\n",
    "\n",
    "p_l_1 =  Relationship(p_John, \"BORN_IN\", l_Boston, year=1978)\n",
    "p_l_2 =  Relationship(p_Liz, \"BORN_IN\", l_Boston, year=1981)\n",
    "p_l_3 =  Relationship(p_Mike, \"BORN_IN\", l_Francisco, year=1960)\n",
    "p_l_4 =  Relationship(p_Shawn, \"BORN_IN\", l_Miami, year=1960)\n",
    "p_l_5 =  Relationship(p_Steve, \"BORN_IN\", l_Lynn, year=1970)\n",
    "A = Subgraph(relationships=[p_l_1, p_l_2, p_l_3, p_l_4, p_l_5])   \n",
    "tx.create(A)\n",
    "tx.commit()"
   ]
  },
  {
   "cell_type": "markdown",
   "metadata": {},
   "source": [
    "![](images/task01/ch03-06.png)"
   ]
  },
  {
   "cell_type": "code",
   "execution_count": 16,
   "metadata": {},
   "outputs": [
    {
     "name": "stdout",
     "output_type": "stream",
     "text": [
      "[BORN_IN(Node('Person', name='Liz'), Node('Location', city='Boston', state='MA'), year=1981), BORN_IN(Node('Person', name='John'), Node('Location', city='Boston', state='MA'), year=1978)]\n"
     ]
    }
   ],
   "source": [
    "# 查询下所有在Boston出生的人物\n",
    "# MATCH (a:Person)-[:BORN_IN]->(b:Location {city:'Boston'}) RETURN a,b\n",
    "b = g.nodes.match(\"Location\", city=\"Boston\").first()\n",
    "r1 = g.relationships.match({b}, 'BORN_IN').all()\n",
    "print(r1)"
   ]
  }
 ],
 "metadata": {
  "kernelspec": {
   "display_name": "Python 3",
   "language": "python",
   "name": "python3"
  },
  "language_info": {
   "codemirror_mode": {
    "name": "ipython",
    "version": 3
   },
   "file_extension": ".py",
   "mimetype": "text/x-python",
   "name": "python",
   "nbconvert_exporter": "python",
   "pygments_lexer": "ipython3",
   "version": "3.7.1"
  },
  "toc": {
   "base_numbering": 1,
   "nav_menu": {},
   "number_sections": false,
   "sideBar": true,
   "skip_h1_title": false,
   "title_cell": "Table of Contents",
   "title_sidebar": "Contents",
   "toc_cell": false,
   "toc_position": {},
   "toc_section_display": true,
   "toc_window_display": false
  }
 },
 "nbformat": 4,
 "nbformat_minor": 1
}
