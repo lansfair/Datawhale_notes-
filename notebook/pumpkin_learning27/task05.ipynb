{
 "cells": [
  {
   "cell_type": "markdown",
   "metadata": {
    "collapsed": true
   },
   "source": [
    "# Task05 详读西瓜书+南瓜书第6章"
   ]
  },
  {
   "cell_type": "markdown",
   "metadata": {},
   "source": [
    "## 1 间隔与支持向量\n",
    "- 支持向量的概念：  \n",
    "  &emsp;&emsp;假设超平面$(w,b)$能将训练样本正确分类，即对于$(x_i,y_i) \\in D$，若$y_i=+1$，则有$w^Tx_i+b>0$，若$y_i=-1$，则有$w^Tx_i+b<0$，令：\n",
    "  $$\\left \\{ \n",
    "  \\begin{array}{ccc}\n",
    "   w^Tx_i+b \\geqslant +1, \\quad y_i=+1 \\\\\n",
    "   w^Tx_i+b \\leqslant -1, \\quad y_i=-1\n",
    "  \\end{array} \\right .$$\n",
    "  距离超平面最近的这几个训练样本点使得上式成立，则这些样本点被称为支持向量。\n",
    "- 间隔：两个异类支持向量超平面的距离之和$\\displaystyle \\gamma=\\frac{2}{\\|w\\|}$\n",
    "- 支持向量机（SVM）基本型：  \n",
    "  &emsp;&emsp;找到最大间隔的划分超平面，需要求解参数$w$和$b$使得$\\gamma$最大，目标函数如下：$$\\begin{array}{l} \\min \\limits_{w,b} & \\displaystyle \\frac{1}{2}\\|w\\|^2 \\\\ \n",
    "\\text { s.t. } & y_{i}(w^T x_i+b ) \\geqslant 1, \\quad i=1,2, \\ldots, m \\end{array}$$"
   ]
  },
  {
   "cell_type": "markdown",
   "metadata": {},
   "source": [
    "## 2 对偶问题\n",
    "- 拉格朗日函数：$\\displaystyle L(w, b, \\alpha)=\\frac{1}{2}\\|w\\|^2 + \\sum_{i=1}^m \\alpha_i\\left(1- y_i (w^T x_i+b ) \\right)$\n",
    "- 对偶问题：$$\\begin{array}{ll} \\displaystyle \\max_{\\alpha} & \\displaystyle \\sum_{i=1}^m \\alpha_i-\\frac{1}{2} \\sum_{i=1}^m \\sum_{j=1}^m \\alpha_i \\alpha_j y_i y_j x_i^T x_j \\\\ \n",
    "{\\text { s.t. }} & {\\displaystyle \\sum_{i=1}^m \\alpha_i y_i=0} \\\\ \n",
    "{} & {\\alpha_i \\geqslant 0, i=1,\\ldots, m}\n",
    "\\end{array}$$\n",
    "- KKT条件：$$\\left \\{ \\begin{array}{ll}\n",
    "\\alpha_i \\geqslant 0 \\\\\n",
    "y_i f(x_i) - 1 \\geqslant 0 \\\\\n",
    "\\alpha_i(y_i f(x_i) - 1) = 0\n",
    "\\end{array}\\right .$$\n",
    "- 支持向量机特点：训练完成后，大部分的训练样本都不需保留，最终模型仅与支持向量有关\n",
    "- SMO算法思路：\n",
    "  1. 选取一对需要更新的变量$\\alpha_i$和$\\alpha_j$\n",
    "  2. 固定$\\alpha_i$和$\\alpha_j$以外的参数，求解对偶问题，获得更新后的$\\alpha_i$和$\\alpha_j$\n",
    "  3. 重复上述2个步骤，直至收敛\n",
    "- SMO采用一个启发式：使选取的两变量所对应样本之间的间隔最大"
   ]
  },
  {
   "cell_type": "markdown",
   "metadata": {},
   "source": [
    "## 3 软间隔与正则化\n",
    "- 软间隔：允许某项样本不满足约束$y_i(w^Tx_i+b) \\geqslant 1$，在最大化间隔的同时，不满足约束的样本应该尽可能少\n",
    "- 目标函数：$$\\begin{array}{l}\n",
    "\\displaystyle \\min_{w, b} & \\displaystyle \\frac{1}{2}\\|w\\|^2+C \\sum_{i=1}^m \\ell_{0/1} \\left( y_i(w^T x_i+b) -1 \\right) \\\\ \n",
    "& {\\ell_{0/1}(z)=\\left\\{\\begin{array}{ll}\n",
    "{1,} & {\\text { if } z<0 ;} \\\\ \n",
    "{0,} & {\\text { otherwise }} \\end{array}\\right.}\n",
    "\\end{array}$$\n",
    "- 损失函数：\n",
    "  1. hinge损失：$\\ell_{hinge}(z)=\\max(0,1-z)$  \n",
    "  2. 指数损失（exponential loss）: $\\ell_{exp}(z)=\\exp (-z)$  \n",
    "  3. 对率损失（logistic loss）：$\\ell_{log}(z)=log(1+\\exp(-z))$\n",
    "- 常用的软间隔支持向量机：\n",
    "$$\\begin{array}{ll}\n",
    "\\displaystyle \\min \\limits_{w,b,\\xi} & \\displaystyle \\frac{1}{2}\\|w\\|^2 + C \\sum_{i=1}^m \\xi_i \\\\ \n",
    "\\text{s.t.} & y_i (w^T x_i+b) \\geqslant 1-\\xi_i \\\\\n",
    "& \\xi_i \\geqslant 0, \\quad i=1, \\ldots, m \n",
    "\\end{array}$$\n",
    "- 软间隔支持向量机的对偶问题：\n",
    "$$\\begin{array}{cl}\n",
    "{\\displaystyle \\max \\limits_{\\alpha}} & {\\displaystyle \\sum_{i=1}^m \\alpha_i-\\frac{1}{2} \\sum_{i=1}^m \\sum_{j=1}^m \\alpha_i \\alpha_j y_i y_j x_i^T x_j} \\\\ \n",
    "{\\text {s.t.}} & {\\displaystyle \\sum_{i=1}^m \\alpha_i y_i=0}  \\\\\n",
    "{} & {0 \\leqslant \\alpha_i \\leqslant C, i=1,2, \\ldots, m}\n",
    "\\end{array}$$\n",
    "- 软间隔支持向量机的KKT条件：\n",
    "$$\\left \\{ \\begin{array}{l}\n",
    "\\alpha_i \\geqslant 0, \\quad \\mu_i \\geqslant 0 \\\\\n",
    "y_i f(x_i) - 1 + \\xi_i \\geqslant 0 \\\\\n",
    "\\alpha_i (y_i f(x_i) - 1 + \\xi_i) = 0 \\\\\n",
    "\\xi_i \\geqslant 0, \\quad \\mu_i \\xi_i = 0\n",
    "\\end{array}\\right .$$\n",
    "- 软间隔支持向量机的最终模型仅与支持向量有关，即通过采用hinge损失函数仍保持了稀疏性\n",
    "- 正则化问题：$$\\min \\limits_{f} \\Omega(f) + C \\sum_{i=1}^m \\ell(f(x_i), y_i)$$在该式中，$\\Omega(f)$称为正则化项，$C$称为正则化参数\n",
    "  1. $L_p$范数使常用的正则化项\n",
    "  2. $L_2$范数$\\|w\\|_2$倾向于$w$的分量取值尽量均衡，即非零分量个数尽量稠密\n",
    "  3. $L_0$范数$\\|w\\|_0$和$L_1$范数$\\|w\\|_1$倾向于$w$的分量尽量系数，即非零分量个数尽量少"
   ]
  },
  {
   "cell_type": "markdown",
   "metadata": {},
   "source": [
    "## 4 支持向量回归\n",
    "- 损失计算规则：以$f(x)$为中心，构建一个宽度为$2\\epsilon$的间隔带，若训练样本落入此间隔带，则不计算损失，认为是被预测正确\n",
    "- SVR目标函数：$$\\begin{array}{l}\n",
    "\\displaystyle \\min_{w, b, \\xi_i,\\hat{\\xi}_i} & \\displaystyle \\frac{1}{2}\\|w\\|^2 + C \\sum_{i=1}^m (\\xi_i + \\hat{\\xi}_i) \\\\ \n",
    "\\text{s.t.} & f(x_i) - y_i \\leqslant \\epsilon + \\xi_i \\\\\n",
    "& y_i - f(x_i) \\leqslant \\epsilon + \\hat{\\xi}_i \\\\\n",
    "& \\xi_i \\geqslant 0, \\hat{\\xi}_i \\geqslant 0, i=1,2,\\ldots,m\n",
    "\\end{array}$$\n",
    "- SVR对偶问题：\n",
    "$$\\begin{array}{l}\n",
    "\\max \\limits_{\\alpha, \\hat{\\alpha}} &\\displaystyle \\sum_{i=1}^{m} y_{i}(\\hat{\\alpha}_{i}-\\alpha_{i})-\\epsilon(\\hat{\\alpha}_{i}+\\alpha_{i}) -\\frac{1}{2} \\sum_{i=1}^{m} \\sum_{j=1}^{m} (\\hat{\\alpha}_{i}-\\alpha_{i})(\\hat{\\alpha}_{j}-\\alpha_{j}) x_i^T x_j \\\\\n",
    "\\text { s.t. } &\\displaystyle \\sum_{i=1}^{m} (\\hat{\\alpha}_{i}-\\alpha_{i})=0 \\\\\n",
    "& 0 \\leqslant \\alpha_{i}, \\hat{\\alpha}_{i} \\leqslant C\n",
    "\\end{array}$$\n",
    "- SVR的KKT条件：\n",
    "$$\\left\\{\\begin{array}{l}\n",
    "\\alpha_i (f(x_i) - y_i - \\epsilon - \\xi_i)=0 \\\\\n",
    "\\hat{\\alpha}_i (y_i -f(x_i) - \\epsilon - \\hat{\\xi}_i)=0 \\\\\n",
    "\\alpha_i \\hat{\\alpha}_i=0, \\quad \\xi_i \\hat{\\xi}_i=0 \\\\\n",
    "(C-\\alpha_i ) \\xi_i=0, \\quad (C-\\hat{\\alpha}_i) \\hat{\\xi}_i=0\n",
    "\\end{array}\\right.$$\n",
    "- SVR的解：$$f(x)=\\sum_{i=1}^m (\\hat{\\alpha}_i - \\alpha_i) x_i^T x + b\n",
    "$$其中：$$b = y_i + \\epsilon - \\sum_{i=1}^m (\\hat{\\alpha}_i - \\alpha_i) x_i^T x \\\\\n",
    "w = \\sum_{i=1}^m (\\hat{\\alpha}_i - \\alpha_i ) \\phi (x_i)$$"
   ]
  }
 ],
 "metadata": {
  "kernelspec": {
   "display_name": "Python 3",
   "language": "python",
   "name": "python3"
  },
  "language_info": {
   "codemirror_mode": {
    "name": "ipython",
    "version": 3
   },
   "file_extension": ".py",
   "mimetype": "text/x-python",
   "name": "python",
   "nbconvert_exporter": "python",
   "pygments_lexer": "ipython3",
   "version": "3.7.9"
  }
 },
 "nbformat": 4,
 "nbformat_minor": 1
}
