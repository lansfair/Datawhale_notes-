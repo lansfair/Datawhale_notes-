{
 "cells": [
  {
   "cell_type": "markdown",
   "metadata": {
    "collapsed": true
   },
   "source": [
    "# Task08 Bagging的原理和案例分析"
   ]
  },
  {
   "cell_type": "markdown",
   "metadata": {},
   "source": [
    "## 1 知识梳理\n",
    "\n",
    "### 1.1 Bagging的思路\n",
    "- 集成模型最后的预测结果\n",
    "- 采用一定策略影响基模型训练，保证基模型服从一定的假设条件\n",
    "- 通过不同的采样增加模型的差异性"
   ]
  },
  {
   "cell_type": "markdown",
   "metadata": {},
   "source": [
    "### 1.2 Bagging的原理分析\n",
    "- 核心：自助采样，即有放回抽样\n",
    "- 基本流程：得到含有K次自助采样的T个样本集合，使用基模型对每个集合进行训练，得到基学习器，再进行融合即可\n",
    "- 预测结果：\n",
    "  - 对于回归问题的预测：预测结果是所有模型的预测结果取平均值\n",
    "  - 对于分类问题的预测：预测结果是所有模型中出现最多的预测结果\n",
    "- 适用性：\n",
    "  - 降低方差的技术\n",
    "  - 适用于高维小样本的数据集，可采用列采样的Bagging"
   ]
  },
  {
   "cell_type": "markdown",
   "metadata": {},
   "source": [
    "## 2 实战练习"
   ]
  },
  {
   "cell_type": "markdown",
   "metadata": {},
   "source": [
    "&emsp;&emsp;使用`sklearn.ensemble.BaggingRegressor`和`sklearn.ensemble.BaggingClassifier`，默认的基模型是树模型"
   ]
  },
  {
   "cell_type": "markdown",
   "metadata": {},
   "source": [
    "### 2.1 决策树的建立过程\n",
    "- 树的每个非叶子节点表示特征的判断；分支表示对样本的划分\n",
    "- 节点划分使用的指标主要是信息增益和`Gini`指数"
   ]
  },
  {
   "cell_type": "markdown",
   "metadata": {},
   "source": [
    "#### 2.1.1 信息增益(IG)\n",
    "- 概念：划分前后信息不确定性程度的减小\n",
    "- 信息不确定程度：使用信息熵来度量$\\displaystyle H(Y)=-\\sum p_i \\log p_i$，其中$i$表示样本的类别，$p$表示该类样本出现的概率\n",
    "- 对样本划分之后的条件熵：$\\displaystyle H(Y|X)=\\sum_{x \\in X}p(X=x)H(Y|X=x)$\n",
    "- 信息增益：信息熵与条件熵之差，$IG = H(Y) - H(Y|X)$\n",
    "- 信息增益`IG`越大，该特征划分的数据信息量变化越大，样本的“纯度”越高"
   ]
  },
  {
   "cell_type": "markdown",
   "metadata": {},
   "source": [
    "#### 2.1.2 `Gini`指数\n",
    "- `Gini`指数用于衡量数据的“不纯度”：$\\displaystyle Gini=1-\\sum p_i^2$\n",
    "- 对样本划分之后的`Gini`指数：$\\displaystyle Gini_x = \\sum_{x \\in X} p(X=x)\\left( 1-\\sum p_i^2 \\right)$\n",
    "- `Gini`指数越小，该特征划分的数据信息量变化越大，样本的“纯度”越高"
   ]
  },
  {
   "cell_type": "markdown",
   "metadata": {},
   "source": [
    "### 2.2 Bagging典型应用——随机森林\n",
    "- 随机森林由许多决策树bagging组成的\n",
    "- 采用随机采样构建决策树的特征\n",
    "- 预测结果是由多个决策树输出的结果组合而成"
   ]
  },
  {
   "cell_type": "markdown",
   "metadata": {},
   "source": [
    "### 2.3 使用`BaggingClassifier`构建模型"
   ]
  },
  {
   "cell_type": "markdown",
   "metadata": {},
   "source": [
    "#### 2.3.1 创建自定义数据集\n",
    "使用`sklearn.datasets.make_classification`方法创建数据集"
   ]
  },
  {
   "cell_type": "code",
   "execution_count": 1,
   "metadata": {},
   "outputs": [],
   "source": [
    "from sklearn.datasets import make_classification\n",
    "\n",
    "# 生成特征数为20，其中多信息特征数为10，冗余信息特征数为5，总样本数为1000个的数据集\n",
    "X, y = make_classification(n_samples=1000, n_features=20, n_informative=10,\n",
    "n_redundant=5, random_state=5)"
   ]
  },
  {
   "cell_type": "markdown",
   "metadata": {},
   "source": [
    "#### 2.3.2 对模型评估\n",
    "&emsp;&emsp;使用`sklearn.model_selection.RepeatedStratifiedKFold`对模型进行10层交叉验证（其中重复3次）评估"
   ]
  },
  {
   "cell_type": "code",
   "execution_count": 2,
   "metadata": {},
   "outputs": [],
   "source": [
    "import numpy as np\n",
    "from sklearn.model_selection import cross_val_score\n",
    "from sklearn.model_selection import RepeatedStratifiedKFold\n",
    "from sklearn.ensemble import BaggingClassifier"
   ]
  },
  {
   "cell_type": "code",
   "execution_count": 3,
   "metadata": {},
   "outputs": [
    {
     "name": "stdout",
     "output_type": "stream",
     "text": [
      "模型准确率: 0.898，模型标准差：0.031\n"
     ]
    }
   ],
   "source": [
    "model = BaggingClassifier()\n",
    "\n",
    "cv = RepeatedStratifiedKFold(n_splits=10, n_repeats=3, random_state=1)\n",
    "n_scores = cross_val_score(model, X, y, scoring='accuracy', cv=cv, \n",
    "                           n_jobs=-1, error_score='raise')\n",
    "\n",
    "print('模型准确率: %.3f，模型标准差：%.3f' % (np.mean(n_scores), np.std(n_scores)))"
   ]
  }
 ],
 "metadata": {
  "kernelspec": {
   "display_name": "Python 3",
   "language": "python",
   "name": "python3"
  },
  "language_info": {
   "codemirror_mode": {
    "name": "ipython",
    "version": 3
   },
   "file_extension": ".py",
   "mimetype": "text/x-python",
   "name": "python",
   "nbconvert_exporter": "python",
   "pygments_lexer": "ipython3",
   "version": "3.7.1"
  },
  "toc": {
   "base_numbering": 1,
   "nav_menu": {},
   "number_sections": false,
   "sideBar": true,
   "skip_h1_title": false,
   "title_cell": "Table of Contents",
   "title_sidebar": "Contents",
   "toc_cell": false,
   "toc_position": {},
   "toc_section_display": true,
   "toc_window_display": false
  }
 },
 "nbformat": 4,
 "nbformat_minor": 1
}
