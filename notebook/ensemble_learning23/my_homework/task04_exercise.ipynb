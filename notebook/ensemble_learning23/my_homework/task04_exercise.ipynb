{
 "cells": [
  {
   "cell_type": "markdown",
   "metadata": {
    "collapsed": true
   },
   "source": [
    "# Task04 掌握回归模型的评估及超参数调优\n",
    "\n",
    "## 1 知识梳理"
   ]
  },
  {
   "cell_type": "markdown",
   "metadata": {},
   "source": [
    "### 1.1 参数与超参数\n",
    "- 参数：**使用**最小二乘法或者梯度下降法等最优化算法优化出来的数\n",
    "- 超参数：**无法使用**最小二乘法或者梯度下降法等最优化算法优化出来的数\n",
    "- 对比：\n",
    "|序号|参数|超参数|\n",
    "|:---:|:---|:---|\n",
    "|1|定义了可使用的模型|用于帮助估计模型参数|\n",
    "|2|从数据估计中得到|模型外部的配置，其值无法从数据中估计|\n",
    "|3|不由编程者手动设置|由人工指定，可以使用启发式设置|\n",
    "|4|保存为学习模型的一部分|被调整为给定的预测建模问题|"
   ]
  },
  {
   "cell_type": "markdown",
   "metadata": {},
   "source": [
    "### 1.2 网格搜索\n",
    "- 使用`sklearn.model_selection.GridSearchCV`\n",
    "- 搜索思路：把所有的超参数选择都列出来，分别进行排列组合，针对每组超参数建立一个模型，选择测试误差最小的那组超参数。"
   ]
  },
  {
   "cell_type": "markdown",
   "metadata": {},
   "source": [
    "### 1.3 随机搜索\n",
    "- 使用`sklearn.model_selection.RandomizedSearchCV`\n",
    "- 随机搜索法结果比稀疏化网格法稍好(有时候也会极差，需要权衡)\n",
    "- 参数的随机搜索中的每个参数都是从可能的参数值的分布中采样的\n",
    "- 优点：可以独立于参数数量和可能的值来选择计算成本，添加不影响性能的参数不会降低效率"
   ]
  },
  {
   "cell_type": "markdown",
   "metadata": {},
   "source": [
    "## 2 实战练习\n",
    "\n",
    "使用sklearn内置数据集：糖尿病数据集\n",
    "\n",
    "### 2.1 对未调参的SVR进行评价"
   ]
  },
  {
   "cell_type": "code",
   "execution_count": 1,
   "metadata": {},
   "outputs": [],
   "source": [
    "from sklearn.svm import SVR     # 引入SVR类\n",
    "from sklearn.pipeline import make_pipeline   # 引入管道简化学习流程\n",
    "from sklearn.preprocessing import StandardScaler # 由于SVR基于距离计算，引入对数据进行标准化的类\n",
    "from sklearn.model_selection import GridSearchCV  # 引入网格搜索调优\n",
    "from sklearn.model_selection import cross_val_score # 引入K折交叉验证\n",
    "from sklearn import datasets\n",
    "import numpy as np "
   ]
  },
  {
   "cell_type": "code",
   "execution_count": 2,
   "metadata": {},
   "outputs": [
    {
     "name": "stdout",
     "output_type": "stream",
     "text": [
      "CV accuracy: 0.151 +/- 0.040\n"
     ]
    }
   ],
   "source": [
    "# sklearn内置数据集：糖尿病数据集\n",
    "diabetes = datasets.load_diabetes() \n",
    "X = diabetes.data\n",
    "y = diabetes.target\n",
    "features = diabetes.feature_names\n",
    "pipe_SVR = make_pipeline(StandardScaler(), SVR())\n",
    "# 10折交叉验证\n",
    "score1 = cross_val_score(estimator=pipe_SVR, X = X, y = y, scoring = 'r2', cv = 10)       \n",
    "print(\"CV accuracy: %.3f +/- %.3f\" % ((np.mean(score1)),np.std(score1)))"
   ]
  },
  {
   "cell_type": "markdown",
   "metadata": {},
   "source": [
    "### 2.2 使用网格搜索来对SVR调参"
   ]
  },
  {
   "cell_type": "code",
   "execution_count": 3,
   "metadata": {},
   "outputs": [
    {
     "name": "stdout",
     "output_type": "stream",
     "text": [
      "网格搜索最优得分： 0.4741539611612783\n",
      "网格搜索最优参数组合：\n",
      " {'svr__C': 100.0, 'svr__gamma': 0.01, 'svr__kernel': 'rbf'}\n"
     ]
    }
   ],
   "source": [
    "from sklearn.pipeline import Pipeline\n",
    "pipe_svr = Pipeline([(\"StandardScaler\",StandardScaler()), (\"svr\",SVR())])\n",
    "param_range = [0.0001,0.001,0.01,0.1,1.0,10.0,100.0,1000.0]\n",
    "# 注意__是指两个下划线，一个下划线会报错的\n",
    "param_grid = [{\"svr__C\":param_range,\"svr__kernel\":[\"linear\"]},  \n",
    "              {\"svr__C\":param_range,\"svr__gamma\":param_range,\"svr__kernel\":[\"rbf\"]}]\n",
    "# 10折交叉验证\n",
    "gs = GridSearchCV(estimator=pipe_svr, param_grid = param_grid, scoring = 'r2', cv = 10)\n",
    "gs = gs.fit(X,y)\n",
    "print(\"网格搜索最优得分：\",gs.best_score_)\n",
    "print(\"网格搜索最优参数组合：\\n\",gs.best_params_)"
   ]
  },
  {
   "cell_type": "markdown",
   "metadata": {},
   "source": [
    "### 2.3 使用随机搜索来对SVR调参"
   ]
  },
  {
   "cell_type": "code",
   "execution_count": 4,
   "metadata": {},
   "outputs": [
    {
     "name": "stdout",
     "output_type": "stream",
     "text": [
      "随机搜索最优得分： 0.4638994569085143\n",
      "随机搜索最优参数组合：\n",
      " {'svr__C': 1.3067065834059988, 'svr__gamma': 2.684128235792981, 'svr__kernel': 'linear'}\n"
     ]
    }
   ],
   "source": [
    "from sklearn.model_selection import RandomizedSearchCV\n",
    "from scipy.stats import uniform  # 引入均匀分布设置参数\n",
    "pipe_svr = Pipeline([(\"StandardScaler\",StandardScaler()), (\"svr\",SVR())])\n",
    "# 构建连续参数的分布\n",
    "distributions = dict(svr__C=uniform(loc=1.0, scale=4),    \n",
    "                     svr__kernel=[\"linear\",\"rbf\"],         # 离散参数的集合                          \n",
    "                     svr__gamma=uniform(loc=0, scale=4))\n",
    "# 10折交叉验证\n",
    "rs = RandomizedSearchCV(estimator=pipe_svr, param_distributions = distributions, scoring = 'r2', cv = 10)       \n",
    "rs = rs.fit(X,y)\n",
    "print(\"随机搜索最优得分：\",rs.best_score_)\n",
    "print(\"随机搜索最优参数组合：\\n\",rs.best_params_)"
   ]
  }
 ],
 "metadata": {
  "kernelspec": {
   "display_name": "Python 3",
   "language": "python",
   "name": "python3"
  },
  "language_info": {
   "codemirror_mode": {
    "name": "ipython",
    "version": 3
   },
   "file_extension": ".py",
   "mimetype": "text/x-python",
   "name": "python",
   "nbconvert_exporter": "python",
   "pygments_lexer": "ipython3",
   "version": "3.7.1"
  },
  "toc": {
   "base_numbering": 1,
   "nav_menu": {},
   "number_sections": false,
   "sideBar": true,
   "skip_h1_title": false,
   "title_cell": "Table of Contents",
   "title_sidebar": "Contents",
   "toc_cell": false,
   "toc_position": {},
   "toc_section_display": true,
   "toc_window_display": false
  }
 },
 "nbformat": 4,
 "nbformat_minor": 1
}
