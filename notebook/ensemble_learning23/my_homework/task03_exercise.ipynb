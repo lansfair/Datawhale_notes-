{
 "cells": [
  {
   "cell_type": "markdown",
   "metadata": {
    "collapsed": true
   },
   "source": [
    "# Task03 掌握偏差与方差理论"
   ]
  },
  {
   "cell_type": "markdown",
   "metadata": {},
   "source": [
    "## 1 知识梳理：优化基础模型\n",
    "\n",
    "### 1.1 训练均方误差与测试均方误差\n",
    "- 最常用的评价指标为均方误差：$\\displaystyle \\text{MSE} = \\frac{1}{N}\\sum\\limits_{i=1}^{N}(y_i -\\hat{ f}(x_i))^2$\n",
    "- 如果所用的数据是训练集上的数据，那么这个误差为训练均方误差；如果使用测试集的数据计算均方误差，那么则称为测试均方误差\n",
    "- 一般在训练误差达到最小时，测试均方误差一般很大！容易出现过拟合"
   ]
  },
  {
   "cell_type": "markdown",
   "metadata": {},
   "source": [
    "### 1.2 偏差-方差的权衡\n",
    "$$E\\left(y_0-\\hat{f}(x_0)\\right)^2 = \\text{Var}\\left(\\hat{f}(x_0)\\right)+\\left[\\text{Bias}\\left(\\hat{f}(x_0)\\right)\\right]^2+\\text{Var}(\\varepsilon)$$\n",
    "\n",
    "- $\\text{Var}(\\varepsilon)$称为建模任务的难度，也叫做不可约误差\n",
    "- 模型的方差：用不同的数据集去估计$f$时，估计函数的改变量\n",
    "- 一般来说，模型的复杂度越高，$f$的方差就会越大\n",
    "- 模型的偏差：为了选择一个简单的模型去估计真实函数时所带入的误差\n",
    "- 偏差度量的是单个模型的学习能力，而方差度量的是同一个模型在不同数据集上的稳定性（即鲁棒性）\n",
    "- 目标：偏差和方差都需要小，才能使得测试均方差最小"
   ]
  },
  {
   "cell_type": "markdown",
   "metadata": {},
   "source": [
    "### 1.3 特征提取\n",
    "- 训练误差修正：构造一个特征较多的模型，加入关于特征个数的惩罚，从而对训练误差进行修正  \n",
    "  $C_p = \\frac{1}{N}(RSS  +  2d\\hat{\\sigma}^2)$，其中$d$为模型特征个数，$RSS = \\sum\\limits_{i=1}^{N}(y_i-\\hat{f}(x_i))^2$，$\\hat{\\sigma}^2$为模型预测误差的方差的估计值，即残差的方差。\n",
    "- 交叉验证：$K$折交叉验证是重复$K$次取平均值得到测试误差的一个估计$\\displaystyle CV_{(K)} = \\frac{1}{K}\\sum\\limits_{i=1}^{K}\\text{MSE}_i$\n",
    "- 最优子集选择、向前逐步选择：通过计算RSS进行迭代，每次选择RSS值最小的模型，最后选择测试误差最小的模型作为最优模型"
   ]
  },
  {
   "cell_type": "markdown",
   "metadata": {},
   "source": [
    "### 1.4 压缩估计（正则化）\n",
    "- 岭回归(L2正则化的例子)：在线性回归的损失函数的基础上添加对系数的约束或者惩罚$\\lambda\\sum\\limits_{j=1}^p w_j^2$，通过牺牲线性回归的无偏性降低方差，有可能使得模型整体的测试误差较小，提高模型的泛化能力（**无偏性**的直观意义是样本估计量的数值在参数的真值附近摆动）\n",
    "- Lasso回归(L1正则化的例子)：使用系数向量的L1范数替换岭回归中的L2范数\n",
    "- 由于Lasso回归的RSS曲线与坐标轴相交时，回归系数中的某一个系数会为0，这样就能实现特征提取"
   ]
  },
  {
   "cell_type": "markdown",
   "metadata": {},
   "source": [
    "### 1.5 降维\n",
    "- 主成分分析（PCA）：通过最大投影方差将原始空间进行重构，即由特征相关重构为特征无关，即落在某个方向上的点(投影)的方差最大"
   ]
  },
  {
   "cell_type": "markdown",
   "metadata": {},
   "source": [
    "## 2 实战练习\n",
    "\n",
    "上接Task02，本例使用sklearn内置数据集：糖尿病数据集"
   ]
  },
  {
   "cell_type": "code",
   "execution_count": 1,
   "metadata": {},
   "outputs": [],
   "source": [
    "# 引入相关科学计算包\n",
    "import seaborn as sns\n",
    "import numpy as np\n",
    "import pandas as pd\n",
    "import matplotlib.pyplot as plt\n",
    "%matplotlib inline\n",
    "plt.style.use(\"ggplot\")"
   ]
  },
  {
   "cell_type": "code",
   "execution_count": 2,
   "metadata": {
    "scrolled": true
   },
   "outputs": [
    {
     "data": {
      "text/html": [
       "<div>\n",
       "<style scoped>\n",
       "    .dataframe tbody tr th:only-of-type {\n",
       "        vertical-align: middle;\n",
       "    }\n",
       "\n",
       "    .dataframe tbody tr th {\n",
       "        vertical-align: top;\n",
       "    }\n",
       "\n",
       "    .dataframe thead th {\n",
       "        text-align: right;\n",
       "    }\n",
       "</style>\n",
       "<table border=\"1\" class=\"dataframe\">\n",
       "  <thead>\n",
       "    <tr style=\"text-align: right;\">\n",
       "      <th></th>\n",
       "      <th>age</th>\n",
       "      <th>sex</th>\n",
       "      <th>bmi</th>\n",
       "      <th>bp</th>\n",
       "      <th>s1</th>\n",
       "      <th>s2</th>\n",
       "      <th>s3</th>\n",
       "      <th>s4</th>\n",
       "      <th>s5</th>\n",
       "      <th>s6</th>\n",
       "      <th>disease_progression</th>\n",
       "    </tr>\n",
       "  </thead>\n",
       "  <tbody>\n",
       "    <tr>\n",
       "      <th>0</th>\n",
       "      <td>0.038076</td>\n",
       "      <td>0.050680</td>\n",
       "      <td>0.061696</td>\n",
       "      <td>0.021872</td>\n",
       "      <td>-0.044223</td>\n",
       "      <td>-0.034821</td>\n",
       "      <td>-0.043401</td>\n",
       "      <td>-0.002592</td>\n",
       "      <td>0.019908</td>\n",
       "      <td>-0.017646</td>\n",
       "      <td>151.0</td>\n",
       "    </tr>\n",
       "    <tr>\n",
       "      <th>1</th>\n",
       "      <td>-0.001882</td>\n",
       "      <td>-0.044642</td>\n",
       "      <td>-0.051474</td>\n",
       "      <td>-0.026328</td>\n",
       "      <td>-0.008449</td>\n",
       "      <td>-0.019163</td>\n",
       "      <td>0.074412</td>\n",
       "      <td>-0.039493</td>\n",
       "      <td>-0.068330</td>\n",
       "      <td>-0.092204</td>\n",
       "      <td>75.0</td>\n",
       "    </tr>\n",
       "    <tr>\n",
       "      <th>2</th>\n",
       "      <td>0.085299</td>\n",
       "      <td>0.050680</td>\n",
       "      <td>0.044451</td>\n",
       "      <td>-0.005671</td>\n",
       "      <td>-0.045599</td>\n",
       "      <td>-0.034194</td>\n",
       "      <td>-0.032356</td>\n",
       "      <td>-0.002592</td>\n",
       "      <td>0.002864</td>\n",
       "      <td>-0.025930</td>\n",
       "      <td>141.0</td>\n",
       "    </tr>\n",
       "    <tr>\n",
       "      <th>3</th>\n",
       "      <td>-0.089063</td>\n",
       "      <td>-0.044642</td>\n",
       "      <td>-0.011595</td>\n",
       "      <td>-0.036656</td>\n",
       "      <td>0.012191</td>\n",
       "      <td>0.024991</td>\n",
       "      <td>-0.036038</td>\n",
       "      <td>0.034309</td>\n",
       "      <td>0.022692</td>\n",
       "      <td>-0.009362</td>\n",
       "      <td>206.0</td>\n",
       "    </tr>\n",
       "    <tr>\n",
       "      <th>4</th>\n",
       "      <td>0.005383</td>\n",
       "      <td>-0.044642</td>\n",
       "      <td>-0.036385</td>\n",
       "      <td>0.021872</td>\n",
       "      <td>0.003935</td>\n",
       "      <td>0.015596</td>\n",
       "      <td>0.008142</td>\n",
       "      <td>-0.002592</td>\n",
       "      <td>-0.031991</td>\n",
       "      <td>-0.046641</td>\n",
       "      <td>135.0</td>\n",
       "    </tr>\n",
       "  </tbody>\n",
       "</table>\n",
       "</div>"
      ],
      "text/plain": [
       "        age       sex       bmi        bp        s1        s2        s3  \\\n",
       "0  0.038076  0.050680  0.061696  0.021872 -0.044223 -0.034821 -0.043401   \n",
       "1 -0.001882 -0.044642 -0.051474 -0.026328 -0.008449 -0.019163  0.074412   \n",
       "2  0.085299  0.050680  0.044451 -0.005671 -0.045599 -0.034194 -0.032356   \n",
       "3 -0.089063 -0.044642 -0.011595 -0.036656  0.012191  0.024991 -0.036038   \n",
       "4  0.005383 -0.044642 -0.036385  0.021872  0.003935  0.015596  0.008142   \n",
       "\n",
       "         s4        s5        s6  disease_progression  \n",
       "0 -0.002592  0.019908 -0.017646                151.0  \n",
       "1 -0.039493 -0.068330 -0.092204                 75.0  \n",
       "2 -0.002592  0.002864 -0.025930                141.0  \n",
       "3  0.034309  0.022692 -0.009362                206.0  \n",
       "4 -0.002592 -0.031991 -0.046641                135.0  "
      ]
     },
     "execution_count": 2,
     "metadata": {},
     "output_type": "execute_result"
    }
   ],
   "source": [
    "from sklearn import datasets\n",
    "# sklearn内置数据集：糖尿病数据集\n",
    "# 返回一个类似于字典的类\n",
    "diabetes = datasets.load_diabetes()\n",
    "X = diabetes.data\n",
    "y = diabetes.target\n",
    "features = diabetes.feature_names\n",
    "diabetes_data = pd.DataFrame(X, columns=features)\n",
    "diabetes_data['disease_progression'] = y\n",
    "diabetes_data.head()"
   ]
  },
  {
   "cell_type": "markdown",
   "metadata": {},
   "source": [
    "### 2.1 向前逐步回归"
   ]
  },
  {
   "cell_type": "code",
   "execution_count": 3,
   "metadata": {},
   "outputs": [],
   "source": [
    "# 定义向前逐步回归函数\n",
    "def forward_select(data, target):\n",
    "    variate = set(data.columns)  # 将字段名转换成字典类型\n",
    "    variate.remove(target)  # 去掉因变量的字段名\n",
    "    selected = []\n",
    "    current_score, best_new_score = float('inf'), float(\n",
    "        'inf')  # 目前的分数和最好分数初始值都为无穷大（因为AIC越小越好）\n",
    "    # 循环筛选变量\n",
    "    while variate:\n",
    "        aic_with_variate = []\n",
    "        for candidate in variate:  # 逐个遍历自变量\n",
    "            formula = \"{}~{}\".format(\n",
    "                target, \"+\".join(selected+[candidate]))  # 将自变量名连接起来\n",
    "            aic = ols(formula=formula, data=data).fit().aic  # 利用ols训练模型得出aic值\n",
    "            aic_with_variate.append((aic, candidate))  # 将第每一次的aic值放进空列表\n",
    "        aic_with_variate.sort(reverse=True)  # 降序排序aic值\n",
    "        # 最好的aic值等于删除列表的最后一个值，以及最好的自变量等于列表最后一个自变量\n",
    "        best_new_score, best_candidate = aic_with_variate.pop()\n",
    "        if current_score > best_new_score:  # 如果目前的aic值大于最好的aic值\n",
    "            variate.remove(best_candidate)  # 移除加进来的变量名，即第二次循环时，不考虑此自变量了\n",
    "            selected.append(best_candidate)  # 将此自变量作为加进模型中的自变量\n",
    "            current_score = best_new_score  # 最新的分数等于最好的分数\n",
    "            print(\"aic is {},continuing!\".format(current_score))  # 输出最小的aic值\n",
    "        else:\n",
    "            print(\"for selection over!\")\n",
    "            break\n",
    "    formula = \"{}~{}\".format(target, \"+\".join(selected))  # 最终的模型式子\n",
    "    print(\"final formula is {}\".format(formula))\n",
    "    model = ols(formula=formula, data=data).fit()\n",
    "    return(model)"
   ]
  },
  {
   "cell_type": "code",
   "execution_count": 4,
   "metadata": {},
   "outputs": [
    {
     "name": "stdout",
     "output_type": "stream",
     "text": [
      "aic is 4912.038220667561,continuing!\n",
      "aic is 4828.398482363347,continuing!\n",
      "aic is 4813.225718253229,continuing!\n",
      "aic is 4804.962491886372,continuing!\n",
      "aic is 4800.083415059462,continuing!\n",
      "aic is 4788.602540139351,continuing!\n",
      "for selection over!\n",
      "final formula is disease_progression~bmi+s5+bp+s1+sex+s2\n"
     ]
    },
    {
     "data": {
      "text/plain": [
       "<statsmodels.regression.linear_model.RegressionResultsWrapper at 0x12be18d0408>"
      ]
     },
     "execution_count": 4,
     "metadata": {},
     "output_type": "execute_result"
    }
   ],
   "source": [
    "import statsmodels.api as sm #最小二乘\n",
    "from statsmodels.formula.api import ols #加载ols模型\n",
    "forward_select(data=diabetes_data,target='disease_progression')"
   ]
  },
  {
   "cell_type": "code",
   "execution_count": 5,
   "metadata": {},
   "outputs": [
    {
     "data": {
      "text/html": [
       "<table class=\"simpletable\">\n",
       "<caption>OLS Regression Results</caption>\n",
       "<tr>\n",
       "  <th>Dep. Variable:</th>    <td>disease_progression</td> <th>  R-squared:         </th> <td>   0.515</td>\n",
       "</tr>\n",
       "<tr>\n",
       "  <th>Model:</th>                    <td>OLS</td>         <th>  Adj. R-squared:    </th> <td>   0.508</td>\n",
       "</tr>\n",
       "<tr>\n",
       "  <th>Method:</th>              <td>Least Squares</td>    <th>  F-statistic:       </th> <td>   76.95</td>\n",
       "</tr>\n",
       "<tr>\n",
       "  <th>Date:</th>              <td>Tue, 17 Aug 2021</td>   <th>  Prob (F-statistic):</th> <td>3.01e-65</td>\n",
       "</tr>\n",
       "<tr>\n",
       "  <th>Time:</th>                  <td>11:09:27</td>       <th>  Log-Likelihood:    </th> <td> -2387.3</td>\n",
       "</tr>\n",
       "<tr>\n",
       "  <th>No. Observations:</th>       <td>   442</td>        <th>  AIC:               </th> <td>   4789.</td>\n",
       "</tr>\n",
       "<tr>\n",
       "  <th>Df Residuals:</th>           <td>   435</td>        <th>  BIC:               </th> <td>   4817.</td>\n",
       "</tr>\n",
       "<tr>\n",
       "  <th>Df Model:</th>               <td>     6</td>        <th>                     </th>     <td> </td>   \n",
       "</tr>\n",
       "<tr>\n",
       "  <th>Covariance Type:</th>       <td>nonrobust</td>      <th>                     </th>     <td> </td>   \n",
       "</tr>\n",
       "</table>\n",
       "<table class=\"simpletable\">\n",
       "<tr>\n",
       "      <td></td>         <th>coef</th>     <th>std err</th>      <th>t</th>      <th>P>|t|</th>  <th>[0.025</th>    <th>0.975]</th>  \n",
       "</tr>\n",
       "<tr>\n",
       "  <th>Intercept</th> <td>  152.1335</td> <td>    2.572</td> <td>   59.159</td> <td> 0.000</td> <td>  147.079</td> <td>  157.188</td>\n",
       "</tr>\n",
       "<tr>\n",
       "  <th>bmi</th>       <td>  529.8730</td> <td>   65.620</td> <td>    8.075</td> <td> 0.000</td> <td>  400.901</td> <td>  658.845</td>\n",
       "</tr>\n",
       "<tr>\n",
       "  <th>s5</th>        <td>  804.1923</td> <td>   80.173</td> <td>   10.031</td> <td> 0.000</td> <td>  646.617</td> <td>  961.767</td>\n",
       "</tr>\n",
       "<tr>\n",
       "  <th>bp</th>        <td>  327.2198</td> <td>   62.693</td> <td>    5.219</td> <td> 0.000</td> <td>  204.001</td> <td>  450.439</td>\n",
       "</tr>\n",
       "<tr>\n",
       "  <th>s1</th>        <td> -757.9379</td> <td>  160.435</td> <td>   -4.724</td> <td> 0.000</td> <td>-1073.262</td> <td> -442.614</td>\n",
       "</tr>\n",
       "<tr>\n",
       "  <th>sex</th>       <td> -226.5106</td> <td>   59.857</td> <td>   -3.784</td> <td> 0.000</td> <td> -344.155</td> <td> -108.866</td>\n",
       "</tr>\n",
       "<tr>\n",
       "  <th>s2</th>        <td>  538.5859</td> <td>  146.738</td> <td>    3.670</td> <td> 0.000</td> <td>  250.182</td> <td>  826.989</td>\n",
       "</tr>\n",
       "</table>\n",
       "<table class=\"simpletable\">\n",
       "<tr>\n",
       "  <th>Omnibus:</th>       <td> 1.187</td> <th>  Durbin-Watson:     </th> <td>   2.043</td>\n",
       "</tr>\n",
       "<tr>\n",
       "  <th>Prob(Omnibus):</th> <td> 0.552</td> <th>  Jarque-Bera (JB):  </th> <td>   1.172</td>\n",
       "</tr>\n",
       "<tr>\n",
       "  <th>Skew:</th>          <td> 0.016</td> <th>  Prob(JB):          </th> <td>   0.557</td>\n",
       "</tr>\n",
       "<tr>\n",
       "  <th>Kurtosis:</th>      <td> 2.750</td> <th>  Cond. No.          </th> <td>    85.7</td>\n",
       "</tr>\n",
       "</table><br/><br/>Notes:<br/>[1] Standard Errors assume that the covariance matrix of the errors is correctly specified."
      ],
      "text/plain": [
       "<class 'statsmodels.iolib.summary.Summary'>\n",
       "\"\"\"\n",
       "                             OLS Regression Results                            \n",
       "===============================================================================\n",
       "Dep. Variable:     disease_progression   R-squared:                       0.515\n",
       "Model:                             OLS   Adj. R-squared:                  0.508\n",
       "Method:                  Least Squares   F-statistic:                     76.95\n",
       "Date:                 Tue, 17 Aug 2021   Prob (F-statistic):           3.01e-65\n",
       "Time:                         11:09:27   Log-Likelihood:                -2387.3\n",
       "No. Observations:                  442   AIC:                             4789.\n",
       "Df Residuals:                      435   BIC:                             4817.\n",
       "Df Model:                            6                                         \n",
       "Covariance Type:             nonrobust                                         \n",
       "==============================================================================\n",
       "                 coef    std err          t      P>|t|      [0.025      0.975]\n",
       "------------------------------------------------------------------------------\n",
       "Intercept    152.1335      2.572     59.159      0.000     147.079     157.188\n",
       "bmi          529.8730     65.620      8.075      0.000     400.901     658.845\n",
       "s5           804.1923     80.173     10.031      0.000     646.617     961.767\n",
       "bp           327.2198     62.693      5.219      0.000     204.001     450.439\n",
       "s1          -757.9379    160.435     -4.724      0.000   -1073.262    -442.614\n",
       "sex         -226.5106     59.857     -3.784      0.000    -344.155    -108.866\n",
       "s2           538.5859    146.738      3.670      0.000     250.182     826.989\n",
       "==============================================================================\n",
       "Omnibus:                        1.187   Durbin-Watson:                   2.043\n",
       "Prob(Omnibus):                  0.552   Jarque-Bera (JB):                1.172\n",
       "Skew:                           0.016   Prob(JB):                        0.557\n",
       "Kurtosis:                       2.750   Cond. No.                         85.7\n",
       "==============================================================================\n",
       "\n",
       "Notes:\n",
       "[1] Standard Errors assume that the covariance matrix of the errors is correctly specified.\n",
       "\"\"\""
      ]
     },
     "execution_count": 5,
     "metadata": {},
     "output_type": "execute_result"
    }
   ],
   "source": [
    "lm = ols(\"disease_progression~bmi+s5+bp+s1+sex+s2\", data=diabetes_data).fit()\n",
    "lm.summary()"
   ]
  },
  {
   "cell_type": "markdown",
   "metadata": {},
   "source": [
    "### 2.2 岭回归"
   ]
  },
  {
   "cell_type": "markdown",
   "metadata": {},
   "source": [
    "使用`sklearn.linear_model.ridge_regression`"
   ]
  },
  {
   "cell_type": "code",
   "execution_count": 6,
   "metadata": {},
   "outputs": [
    {
     "name": "stdout",
     "output_type": "stream",
     "text": [
      "糖尿病数据集的岭回归模型得分： 0.48750163913323596\n"
     ]
    }
   ],
   "source": [
    "from sklearn import linear_model\n",
    "reg_rid = linear_model.Ridge(alpha=.5)\n",
    "reg_rid.fit(X, y)\n",
    "print(\"糖尿病数据集的岭回归模型得分：\", reg_rid.score(X, y))"
   ]
  },
  {
   "cell_type": "markdown",
   "metadata": {},
   "source": [
    "### 2.3 Lasso回归\n",
    "使用`sklearn.linear_model.Lasso`"
   ]
  },
  {
   "cell_type": "code",
   "execution_count": 7,
   "metadata": {},
   "outputs": [
    {
     "name": "stdout",
     "output_type": "stream",
     "text": [
      "糖尿病数据集的岭回归模型得分： 0.4552414882734068\n"
     ]
    }
   ],
   "source": [
    "from sklearn import linear_model\n",
    "reg_lasso = linear_model.Lasso(alpha = 0.5)\n",
    "reg_lasso.fit(X,y)\n",
    "print(\"糖尿病数据集的岭回归模型得分：\",reg_lasso.score(X,y)) "
   ]
  }
 ],
 "metadata": {
  "kernelspec": {
   "display_name": "Python 3",
   "language": "python",
   "name": "python3"
  },
  "language_info": {
   "codemirror_mode": {
    "name": "ipython",
    "version": 3
   },
   "file_extension": ".py",
   "mimetype": "text/x-python",
   "name": "python",
   "nbconvert_exporter": "python",
   "pygments_lexer": "ipython3",
   "version": "3.7.9"
  },
  "toc": {
   "base_numbering": 1,
   "nav_menu": {},
   "number_sections": false,
   "sideBar": true,
   "skip_h1_title": false,
   "title_cell": "Table of Contents",
   "title_sidebar": "Contents",
   "toc_cell": false,
   "toc_position": {},
   "toc_section_display": true,
   "toc_window_display": false
  }
 },
 "nbformat": 4,
 "nbformat_minor": 1
}
