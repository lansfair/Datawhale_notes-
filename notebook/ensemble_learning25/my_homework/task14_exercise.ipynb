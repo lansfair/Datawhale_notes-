{
 "cells": [
  {
   "cell_type": "markdown",
   "metadata": {
    "collapsed": true
   },
   "source": [
    "# Task14 集成学习案例一（幸福感预测）"
   ]
  },
  {
   "cell_type": "markdown",
   "metadata": {},
   "source": [
    "## 1 主要思路"
   ]
  },
  {
   "cell_type": "markdown",
   "metadata": {},
   "source": [
    "### 1.1 基本思路\n",
    "1. 导入数据集，并删除幸福感为-8的数据行\n",
    "2. 将训练集的特征列数据和测试集的数据进行合并形成`data`，主要用于数据预处理中利用众数和均值进行缺失值填充\n",
    "3. 数据预处理阶段\n",
    "  - 标记问题数据\n",
    "  - 填充缺失值\n",
    "  - 处理特殊格式的数据\n",
    "  - 按照日常生活处理异常数据\n",
    "  - 使用众数处理异常值\n",
    "  - 使用均值处理异常值\n",
    "4. 数据增广\n",
    " - 添加自定义的特征\n",
    " - 删除数据特别少的和之前用过的特征（263维）\n",
    " - 选择重要的49个特征构建训练集（49维）\n",
    " - 部分特征进行one-hot编码（383维）\n",
    "5. 特征建模：分别对263维、49维、383维特征数据进行建模，训练模型并进行集成学习\n",
    "6. 模型融合：将上述4种模型进行融合，使用集成学习\n",
    "7. 保存结果"
   ]
  },
  {
   "cell_type": "markdown",
   "metadata": {},
   "source": [
    "### 1.2 评价指标\n",
    "最终的评价指标为均方误差MSE，即：\n",
    "$$Score = \\frac{1}{n} \\sum_1 ^n (y_i - y ^*)^2$$"
   ]
  },
  {
   "cell_type": "markdown",
   "metadata": {},
   "source": [
    "## 2 Baseline代码实战"
   ]
  },
  {
   "cell_type": "markdown",
   "metadata": {},
   "source": [
    "### 2.1 导入package"
   ]
  },
  {
   "cell_type": "code",
   "execution_count": 1,
   "metadata": {},
   "outputs": [],
   "source": [
    "import os\n",
    "import time\n",
    "import pandas as pd\n",
    "import numpy as np\n",
    "import seaborn as sns\n",
    "from sklearn.linear_model import LogisticRegression\n",
    "from sklearn.svm import SVC, LinearSVC\n",
    "from sklearn.ensemble import RandomForestClassifier\n",
    "from sklearn.neighbors import KNeighborsClassifier\n",
    "from sklearn.naive_bayes import GaussianNB\n",
    "from sklearn.linear_model import Perceptron\n",
    "from sklearn.linear_model import SGDClassifier\n",
    "from sklearn.tree import DecisionTreeClassifier\n",
    "from sklearn import metrics\n",
    "from datetime import datetime\n",
    "import matplotlib.pyplot as plt\n",
    "from sklearn.metrics import roc_auc_score, roc_curve, mean_squared_error, mean_absolute_error, f1_score\n",
    "import lightgbm as lgb\n",
    "import xgboost as xgb\n",
    "from sklearn.ensemble import RandomForestRegressor as rfr\n",
    "from sklearn.ensemble import ExtraTreesRegressor as etr\n",
    "from sklearn.linear_model import BayesianRidge as br\n",
    "from sklearn.ensemble import GradientBoostingRegressor as gbr\n",
    "from sklearn.linear_model import Ridge\n",
    "from sklearn.linear_model import Lasso\n",
    "from sklearn.linear_model import LinearRegression as lr\n",
    "from sklearn.linear_model import ElasticNet as en\n",
    "from sklearn.kernel_ridge import KernelRidge as kr\n",
    "from sklearn.model_selection import KFold, StratifiedKFold, GroupKFold, RepeatedKFold\n",
    "from sklearn.model_selection import train_test_split\n",
    "from sklearn.model_selection import GridSearchCV\n",
    "from sklearn import preprocessing\n",
    "import logging\n",
    "import warnings\n",
    "\n",
    "warnings.filterwarnings('ignore')  # 消除warning\n",
    "\n",
    "%matplotlib inline"
   ]
  },
  {
   "cell_type": "markdown",
   "metadata": {},
   "source": [
    "### 2.2 导入数据集"
   ]
  },
  {
   "cell_type": "code",
   "execution_count": 2,
   "metadata": {},
   "outputs": [],
   "source": [
    "# latin-1向下兼容ASCII\n",
    "train = pd.read_csv(\n",
    "    \"../assets/ch06/case01/data/train.csv\", parse_dates=['survey_time'], encoding='latin-1')\n",
    "test = pd.read_csv(\n",
    "    \"../assets/ch06/case01/data/test.csv\", parse_dates=['survey_time'], encoding='latin-1')"
   ]
  },
  {
   "cell_type": "code",
   "execution_count": 3,
   "metadata": {},
   "outputs": [
    {
     "data": {
      "text/plain": [
       "array([ 4,  5,  2,  3,  1, -8], dtype=int64)"
      ]
     },
     "execution_count": 3,
     "metadata": {},
     "output_type": "execute_result"
    }
   ],
   "source": [
    "# 查看幸福感\n",
    "train[\"happiness\"].unique()"
   ]
  },
  {
   "cell_type": "markdown",
   "metadata": {},
   "source": [
    "由于个人幸福感为1、2、3、4、5，其中1代表幸福感最低，5代表幸福感最高，可删除幸福感为-8的数据行。"
   ]
  },
  {
   "cell_type": "code",
   "execution_count": 4,
   "metadata": {
    "scrolled": true
   },
   "outputs": [
    {
     "data": {
      "text/plain": [
       "array([4, 5, 2, 3, 1], dtype=int64)"
      ]
     },
     "execution_count": 4,
     "metadata": {},
     "output_type": "execute_result"
    }
   ],
   "source": [
    "# 删除幸福感为-8的数据行\n",
    "train = train[train[\"happiness\"] != -8].reset_index(drop=True)\n",
    "train[\"happiness\"].unique()"
   ]
  },
  {
   "cell_type": "code",
   "execution_count": 5,
   "metadata": {},
   "outputs": [],
   "source": [
    "train_data_copy = train.copy()\n",
    "\n",
    "# 目标列（幸福感的预测列）\n",
    "target_col = \"happiness\"\n",
    "# 获取目标列\n",
    "target = train_data_copy[target_col]\n",
    "# 删除目标列\n",
    "del train_data_copy[target_col]\n",
    "\n",
    "# 将训练集的特征列数据和测试集的数据进行合并，主要用于数据预处理\n",
    "data = pd.concat([train_data_copy, test], axis=0, ignore_index=True)"
   ]
  },
  {
   "cell_type": "markdown",
   "metadata": {},
   "source": [
    "### 2.3 查看数据的基本信息"
   ]
  },
  {
   "cell_type": "code",
   "execution_count": 6,
   "metadata": {},
   "outputs": [
    {
     "data": {
      "text/plain": [
       "count    7988.000000\n",
       "mean        3.867927\n",
       "std         0.818717\n",
       "min         1.000000\n",
       "25%         4.000000\n",
       "50%         4.000000\n",
       "75%         4.000000\n",
       "max         5.000000\n",
       "Name: happiness, dtype: float64"
      ]
     },
     "execution_count": 6,
     "metadata": {},
     "output_type": "execute_result"
    }
   ],
   "source": [
    "# 数据的基本信息\n",
    "train.happiness.describe() "
   ]
  },
  {
   "cell_type": "markdown",
   "metadata": {},
   "source": [
    "可知整个训练集有7988项数据，但是75%的数据都是幸福感4以上，数据有倾斜。"
   ]
  },
  {
   "cell_type": "markdown",
   "metadata": {},
   "source": [
    "### 2.4 数据预处理\n",
    "\n",
    "#### 2.4.1 标记问题数据\n",
    "参考“index.xlsx”文档，通用含义中介绍“-1 = 不适用; -2 = 不知道; -3 = 拒绝回答; -8 = 无法回答”，对数据中出现的负数值进行处理"
   ]
  },
  {
   "cell_type": "code",
   "execution_count": 7,
   "metadata": {},
   "outputs": [],
   "source": [
    "# csv中有负数值：-1、-2、-3、-8，将他们视为有问题的特征，并记录有问题特征的个数，但是不删去\n",
    "def getres1(row):\n",
    "    return len([x for x in row.values if type(x) == int and x < 0])\n",
    "\n",
    "\n",
    "def getres2(row):\n",
    "    return len([x for x in row.values if type(x) == int and x == -8])\n",
    "\n",
    "\n",
    "def getres3(row):\n",
    "    return len([x for x in row.values if type(x) == int and x == -1])\n",
    "\n",
    "\n",
    "def getres4(row):\n",
    "    return len([x for x in row.values if type(x) == int and x == -2])\n",
    "\n",
    "\n",
    "def getres5(row):\n",
    "    return len([x for x in row.values if type(x) == int and x == -3])"
   ]
  },
  {
   "cell_type": "code",
   "execution_count": 8,
   "metadata": {},
   "outputs": [],
   "source": [
    "# 标记数据<0的特征个数\n",
    "data['neg1'] = data[data.columns].apply(lambda row: getres1(row), axis=1)\n",
    "# 平滑处理\n",
    "data.loc[data['neg1'] > 20, 'neg1'] = 20\n",
    "\n",
    "# 标记数据=-8的特征个数\n",
    "data['neg2'] = data[data.columns].apply(lambda row: getres2(row), axis=1)\n",
    "# 标记数据=-1的特征个数\n",
    "data['neg3'] = data[data.columns].apply(lambda row: getres3(row), axis=1)\n",
    "# 标记数据=-2的特征个数\n",
    "data['neg4'] = data[data.columns].apply(lambda row: getres4(row), axis=1)\n",
    "# 标记数据=-3的特征个数\n",
    "data['neg5'] = data[data.columns].apply(lambda row: getres5(row), axis=1)"
   ]
  },
  {
   "cell_type": "markdown",
   "metadata": {},
   "source": [
    "#### 2.4.2 填充缺失值\n",
    "使用`fillna(value)`补全缺失值，其中`value`的数值根据具体的情况来确定。例如将大部分缺失信息认为是零，将家庭成员数认为是1，将家庭收入这个特征认为是66365，即所有家庭的收入平均值。"
   ]
  },
  {
   "cell_type": "code",
   "execution_count": 9,
   "metadata": {},
   "outputs": [
    {
     "data": {
      "text/plain": [
       "Index(['edu_other', 'edu_status', 'edu_yr', 'join_party', 'property_other',\n",
       "       'hukou_loc', 'social_neighbor', 'social_friend', 'work_status',\n",
       "       'work_yr', 'work_type', 'work_manage', 'family_income', 'invest_other',\n",
       "       'minor_child', 'marital_1st', 's_birth', 'marital_now', 's_edu',\n",
       "       's_political', 's_hukou', 's_income', 's_work_exper', 's_work_status',\n",
       "       's_work_type'],\n",
       "      dtype='object')"
      ]
     },
     "execution_count": 9,
     "metadata": {},
     "output_type": "execute_result"
    }
   ],
   "source": [
    "# 筛选出有缺失值的特征列\n",
    "data.T[data.T.isna().T.any()].index"
   ]
  },
  {
   "cell_type": "markdown",
   "metadata": {},
   "source": [
    "其中edu_other，join_party，property_other，invest_other这4列不进行处理\n",
    "\n",
    "|变量名|问题描述|\n",
    "|:--|:--|\n",
    "|edu_other|您目前的最高教育程度是-其他|\n",
    "|join_party|您目前政治面貌是共产党员，入党时间|\n",
    "|property_other|您现在这座房子的产权属于-其他，请注明|\n",
    "|invest_other|您家目前是否从事以下投资活动-其他，请注明|"
   ]
  },
  {
   "cell_type": "code",
   "execution_count": 10,
   "metadata": {},
   "outputs": [],
   "source": [
    "data['work_status'] = data['work_status'].fillna(0)\n",
    "data['work_yr'] = data['work_yr'].fillna(0)\n",
    "data['work_manage'] = data['work_manage'].fillna(0)\n",
    "data['work_type'] = data['work_type'].fillna(0)\n",
    "\n",
    "data['edu_yr'] = data['edu_yr'].fillna(0)\n",
    "data['edu_status'] = data['edu_status'].fillna(0)\n",
    "\n",
    "data['s_work_type'] = data['s_work_type'].fillna(0)\n",
    "data['s_work_status'] = data['s_work_status'].fillna(0)\n",
    "data['s_political'] = data['s_political'].fillna(0)\n",
    "data['s_hukou'] = data['s_hukou'].fillna(0)\n",
    "data['s_income'] = data['s_income'].fillna(0)\n",
    "data['s_birth'] = data['s_birth'].fillna(0)\n",
    "data['s_edu'] = data['s_edu'].fillna(0)\n",
    "data['s_work_exper'] = data['s_work_exper'].fillna(0)\n",
    "\n",
    "data['minor_child'] = data['minor_child'].fillna(0)\n",
    "data['marital_now'] = data['marital_now'].fillna(0)\n",
    "data['marital_1st'] = data['marital_1st'].fillna(0)\n",
    "data['social_neighbor'] = data['social_neighbor'].fillna(0)\n",
    "data['social_friend'] = data['social_friend'].fillna(0)"
   ]
  },
  {
   "cell_type": "code",
   "execution_count": 11,
   "metadata": {},
   "outputs": [
    {
     "data": {
      "text/plain": [
       "1.0    8038\n",
       "2.0    1800\n",
       "3.0    1074\n",
       "4.0      40\n",
       "NaN       4\n",
       "Name: hukou_loc, dtype: int64"
      ]
     },
     "execution_count": 11,
     "metadata": {},
     "output_type": "execute_result"
    }
   ],
   "source": [
    "data['hukou_loc'].value_counts(dropna=False)"
   ]
  },
  {
   "cell_type": "code",
   "execution_count": 12,
   "metadata": {},
   "outputs": [],
   "source": [
    "# 该缺失值填充为1，默认值：当前户口登记地为本乡（镇、街道）\n",
    "data['hukou_loc'] = data['hukou_loc'].fillna(1)"
   ]
  },
  {
   "cell_type": "code",
   "execution_count": 13,
   "metadata": {},
   "outputs": [],
   "source": [
    "# 取去年全年家庭总收入的平均值\n",
    "family_income_mean = int(data['family_income'].mean())\n",
    "data['family_income'] = data['family_income'].fillna(family_income_mean)"
   ]
  },
  {
   "cell_type": "markdown",
   "metadata": {},
   "source": [
    "#### 2.4.3 处理特殊格式的数据\n",
    "比如与时间有关的信息，这里主要分为两部分进行处理：首先是将“连续”的年龄，进行分层处理，即划分年龄段，可将年龄分为了6个区间。其次是计算具体的年龄，在Excel表格中，只有出生年月以及调查时间等信息，根据此计算出每一位调查者的真实年龄。"
   ]
  },
  {
   "cell_type": "code",
   "execution_count": 14,
   "metadata": {},
   "outputs": [],
   "source": [
    "# 防止时间格式不同的报错errors='coerce'\n",
    "data['survey_time'] = pd.to_datetime(\n",
    "    data['survey_time'], format='%Y-%m-%d', errors='coerce')\n",
    "# 仅仅取year，方便计算年龄\n",
    "data['survey_time'] = data['survey_time'].dt.year\n",
    "data['age'] = data['survey_time'] - data['birth']"
   ]
  },
  {
   "cell_type": "code",
   "execution_count": 15,
   "metadata": {
    "scrolled": true
   },
   "outputs": [
    {
     "data": {
      "text/plain": [
       "array([18, 19, 20, 21, 22, 23, 24, 25, 26, 27, 28, 29, 30, 31, 32, 33, 34,\n",
       "       35, 36, 37, 38, 39, 40, 41, 42, 43, 44, 45, 46, 47, 48, 49, 50, 51,\n",
       "       52, 53, 54, 55, 56, 57, 58, 59, 60, 61, 62, 63, 64, 65, 66, 67, 68,\n",
       "       69, 70, 71, 72, 73, 74, 75, 76, 77, 78, 79, 80, 81, 82, 83, 84, 85,\n",
       "       86, 87, 88, 89, 90, 91, 92, 93, 94, 95], dtype=int64)"
      ]
     },
     "execution_count": 15,
     "metadata": {},
     "output_type": "execute_result"
    }
   ],
   "source": [
    "# 查看年龄的分布\n",
    "age_value = data['age'].unique()\n",
    "age_value.sort()\n",
    "age_value"
   ]
  },
  {
   "cell_type": "code",
   "execution_count": 16,
   "metadata": {},
   "outputs": [],
   "source": [
    "# 将年龄分为6个区间\n",
    "bins = [0, 17, 26, 34, 50, 63, 100]\n",
    "data['age_bin'] = pd.cut(data['age'], bins, labels=[0, 1, 2, 3, 4, 5])"
   ]
  },
  {
   "cell_type": "markdown",
   "metadata": {},
   "source": [
    "#### 2.4.4 按照日常生活情况处理异常数据"
   ]
  },
  {
   "cell_type": "markdown",
   "metadata": {},
   "source": [
    "使用我们日常生活中的真实情况，例如“宗教信息”特征为负数的认为是“不信仰宗教”，并认为“参加宗教活动的频率”为1，即没有参加过宗教活动，主观的进行补全。就像自己填表一样，这里可按照填表人的想法自行进行缺省值的补全。"
   ]
  },
  {
   "cell_type": "code",
   "execution_count": 17,
   "metadata": {},
   "outputs": [],
   "source": [
    "# 对宗教处理\n",
    "# 宗教信仰：1为不信仰宗教\n",
    "data.loc[data['religion'] < 0, 'religion'] = 1\n",
    "# 参加宗教活动的频率：1为从来没有参加过\n",
    "data.loc[data['religion_freq'] < 0, 'religion_freq'] = 1\n",
    "\n",
    "# 对教育程度处理\n",
    "# 最高教育程度：基于教育现状，至少都是初中\n",
    "data.loc[data['edu'] < 0, 'edu'] = 4  # 初中\n",
    "# 最高教育程度的状态：可跳过为0\n",
    "data.loc[data['edu_status'] < 0, 'edu_status'] = 0\n",
    "# 已经完成的最高学历是哪一年获得的：可为0\n",
    "data.loc[data['edu_yr'] < 0, 'edu_yr'] = 0\n",
    "\n",
    "# 对个人收入处理\n",
    "# 个人去年全年总收入：可为0，认为无收入\n",
    "data.loc[data['income'] < 0, 'income'] = 0\n",
    "\n",
    "# 对政治面貌处理\n",
    "# 可为1，认为是群众\n",
    "data.loc[data['political'] < 0, 'political'] = 1\n",
    "\n",
    "# 对体重处理\n",
    "# 身高大于160cm，体重应该不会小于80斤，需要处理\n",
    "data.loc[(data['weight_jin'] <= 80) & (data['height_cm'] >= 160),\n",
    "         'weight_jin'] = data['weight_jin'] * 2\n",
    "# 体重小于60斤，需要处理\n",
    "data.loc[data['weight_jin'] <= 60, 'weight_jin'] = data['weight_jin'] * 2\n",
    "\n",
    "# 对身高处理\n",
    "# 成年人的实际情况，普遍在150cm以上\n",
    "data.loc[data['height_cm'] < 150, 'height_cm'] = 150\n",
    "\n",
    "# 对健康处理\n",
    "# 可为4，默认是比较健康\n",
    "data.loc[data['health'] < 0, 'health'] = 4\n",
    "# 在过去的四周中，由于健康问题影响到您的工作或其他日常活动的频繁程度是：可为4，默认是很少\n",
    "data.loc[data['health_problem'] < 0, 'health_problem'] = 4\n",
    "\n",
    "# 对沮丧处理\n",
    "# 可为4，默认是很少\n",
    "data.loc[data['depression'] < 0, 'depression'] = 4\n",
    "\n",
    "# 对媒体处理\n",
    "# 可都为1，默认是从不\n",
    "data.loc[data['media_1'] < 0, 'media_1'] = 1\n",
    "data.loc[data['media_2'] < 0, 'media_2'] = 1\n",
    "data.loc[data['media_3'] < 0, 'media_3'] = 1\n",
    "data.loc[data['media_4'] < 0, 'media_4'] = 1\n",
    "data.loc[data['media_5'] < 0, 'media_5'] = 1\n",
    "data.loc[data['media_6'] < 0, 'media_6'] = 1\n",
    "\n",
    "# 对空闲活动处理\n",
    "# 可按照自己的想法来填补异常数据\n",
    "data.loc[data['leisure_1'] < 0, 'leisure_1'] = 1\n",
    "data.loc[data['leisure_2'] < 0, 'leisure_2'] = 5\n",
    "data.loc[data['leisure_3'] < 0, 'leisure_3'] = 3"
   ]
  },
  {
   "cell_type": "markdown",
   "metadata": {},
   "source": [
    "#### 2.4.5 使用众数处理异常值"
   ]
  },
  {
   "cell_type": "markdown",
   "metadata": {},
   "source": [
    "使用众数（代码中使用`mode()`来实现异常值的修正），由于这里的特征是空闲活动，所以采用众数对于缺失值进行处理比较合理。"
   ]
  },
  {
   "cell_type": "code",
   "execution_count": 18,
   "metadata": {},
   "outputs": [],
   "source": [
    "# 对空闲活动处理，取众数\n",
    "data.loc[data['leisure_4'] < 0, 'leisure_4'] = data['leisure_4'].mode()\n",
    "data.loc[data['leisure_5'] < 0, 'leisure_5'] = data['leisure_5'].mode()\n",
    "data.loc[data['leisure_6'] < 0, 'leisure_6'] = data['leisure_6'].mode()\n",
    "data.loc[data['leisure_7'] < 0, 'leisure_7'] = data['leisure_7'].mode()\n",
    "data.loc[data['leisure_8'] < 0, 'leisure_8'] = data['leisure_8'].mode()\n",
    "data.loc[data['leisure_9'] < 0, 'leisure_9'] = data['leisure_9'].mode()\n",
    "data.loc[data['leisure_10'] < 0, 'leisure_10'] = data['leisure_10'].mode()\n",
    "data.loc[data['leisure_11'] < 0, 'leisure_11'] = data['leisure_11'].mode()\n",
    "data.loc[data['leisure_12'] < 0, 'leisure_12'] = data['leisure_12'].mode()\n",
    "data.loc[data['socialize'] < 0, 'socialize'] = 2\n",
    "data.loc[data['relax'] < 0, 'relax'] = 4\n",
    "data.loc[data['learn'] < 0, 'learn'] = 1\n",
    "\n",
    "# 对社交处理\n",
    "data.loc[data['social_neighbor'] < 0, 'social_neighbor'] = 0\n",
    "data.loc[data['social_friend'] < 0, 'social_friend'] = 0\n",
    "data.loc[data['socia_outing'] < 0, 'socia_outing'] = 1\n",
    "data.loc[data['neighbor_familiarity'] < 0, 'social_neighbor'] = 4\n",
    "\n",
    "# 对社会公平性处理\n",
    "data.loc[data['equity'] < 0, 'equity'] = 4\n",
    "\n",
    "# 对社会等级处理\n",
    "data.loc[data['class_10_before'] < 0, 'class_10_before'] = 3\n",
    "data.loc[data['class'] < 0, 'class'] = 5\n",
    "data.loc[data['class_10_after'] < 0, 'class_10_after'] = 5\n",
    "data.loc[data['class_14'] < 0, 'class_14'] = 2\n",
    "\n",
    "# 对工作情况处理\n",
    "data.loc[data['work_status'] < 0, 'work_status'] = 0\n",
    "data.loc[data['work_yr'] < 0, 'work_yr'] = 0\n",
    "data.loc[data['work_manage'] < 0, 'work_manage'] = 0\n",
    "data.loc[data['work_type'] < 0, 'work_type'] = 0\n",
    "\n",
    "# 对社会保障处理\n",
    "data.loc[data['insur_1'] < 0, 'insur_1'] = 1\n",
    "data.loc[data['insur_2'] < 0, 'insur_2'] = 1\n",
    "data.loc[data['insur_3'] < 0, 'insur_3'] = 1\n",
    "data.loc[data['insur_4'] < 0, 'insur_4'] = 1\n",
    "data.loc[data['insur_1'] == 0, 'insur_1'] = 0\n",
    "data.loc[data['insur_2'] == 0, 'insur_2'] = 0\n",
    "data.loc[data['insur_3'] == 0, 'insur_3'] = 0\n",
    "data.loc[data['insur_4'] == 0, 'insur_4'] = 0"
   ]
  },
  {
   "cell_type": "markdown",
   "metadata": {},
   "source": [
    "#### 2.4.6 使用均值处理异常值 \n",
    "取均值进行缺失值的补全（代码实现为`means()`），在这里因为家庭的收入是连续值，所以不能再使用取众数的方法进行处理，这里就直接使用了均值进行缺失值的补全。"
   ]
  },
  {
   "cell_type": "code",
   "execution_count": 19,
   "metadata": {},
   "outputs": [],
   "source": [
    "# 对家庭情况处理\n",
    "family_income_mean = data['family_income'].mean()\n",
    "data.loc[data['family_income'] < 0, 'family_income'] = family_income_mean\n",
    "data.loc[data['family_m'] < 0, 'family_m'] = 2\n",
    "data.loc[data['family_status'] < 0, 'family_status'] = 3\n",
    "data.loc[data['house'] < 0, 'house'] = 1\n",
    "data.loc[data['car'] < 0, 'car'] = 0\n",
    "data.loc[data['car'] == 2, 'car'] = 0  # 变为0和1\n",
    "data.loc[data['son'] < 0, 'son'] = 1\n",
    "data.loc[data['daughter'] < 0, 'daughter'] = 0\n",
    "data.loc[data['minor_child'] < 0, 'minor_child'] = 0\n",
    "# 对‘婚姻’处理\n",
    "data.loc[data['marital_1st'] < 0, 'marital_1st'] = 0\n",
    "data.loc[data['marital_now'] < 0, 'marital_now'] = 0\n",
    "# 对‘配偶’处理\n",
    "data.loc[data['s_birth'] < 0, 's_birth'] = 0\n",
    "data.loc[data['s_edu'] < 0, 's_edu'] = 0\n",
    "data.loc[data['s_political'] < 0, 's_political'] = 0\n",
    "data.loc[data['s_hukou'] < 0, 's_hukou'] = 0\n",
    "data.loc[data['s_income'] < 0, 's_income'] = 0\n",
    "data.loc[data['s_work_type'] < 0, 's_work_type'] = 0\n",
    "data.loc[data['s_work_status'] < 0, 's_work_status'] = 0\n",
    "data.loc[data['s_work_exper'] < 0, 's_work_exper'] = 0\n",
    "# 对‘父母情况’处理\n",
    "data.loc[data['f_birth'] < 0, 'f_birth'] = 1945\n",
    "data.loc[data['f_edu'] < 0, 'f_edu'] = 1\n",
    "data.loc[data['f_political'] < 0, 'f_political'] = 1\n",
    "data.loc[data['f_work_14'] < 0, 'f_work_14'] = 2\n",
    "data.loc[data['m_birth'] < 0, 'm_birth'] = 1940\n",
    "data.loc[data['m_edu'] < 0, 'm_edu'] = 1\n",
    "data.loc[data['m_political'] < 0, 'm_political'] = 1\n",
    "data.loc[data['m_work_14'] < 0, 'm_work_14'] = 2\n",
    "# 和同龄人相比社会经济地位\n",
    "data.loc[data['status_peer'] < 0, 'status_peer'] = 2\n",
    "# 和3年前比社会经济地位\n",
    "data.loc[data['status_3_before'] < 0, 'status_3_before'] = 2\n",
    "# 对‘观点’处理\n",
    "data.loc[data['view'] < 0, 'view'] = 4\n",
    "# 对期望年收入处理\n",
    "data.loc[data['inc_ability'] <= 0, 'inc_ability'] = 2\n",
    "inc_exp_mean = data['inc_exp'].mean()\n",
    "data.loc[data['inc_exp'] <= 0, 'inc_exp'] = inc_exp_mean  # 取均值\n",
    "\n",
    "# 部分特征处理，取众数（首先去除缺失值的数据）\n",
    "for i in range(1, 9+1):\n",
    "    data.loc[data['public_service_'+str(i)] < 0, 'public_service_'+str(\n",
    "        i)] = data['public_service_'+str(i)].dropna().mode()[0]\n",
    "for i in range(1, 13+1):\n",
    "    data.loc[data['trust_'+str(i)] < 0, 'trust_'+str(i)\n",
    "             ] = data['trust_'+str(i)].dropna().mode()[0]"
   ]
  },
  {
   "cell_type": "markdown",
   "metadata": {},
   "source": [
    "### 2.5 数据增广\n",
    "\n",
    "#### 2.5.1 添加自动义特征\n",
    "需要进一步分析每一个特征之间的关系，从而进行数据增广。经过思考，添加了如下的特征：\n",
    "  - 第一次结婚年龄\n",
    "  - 最近结婚年龄\n",
    "  - 是否再婚\n",
    "  - 配偶年龄\n",
    "  - 配偶年龄差\n",
    "  - 各种收入比（与配偶之间的收入比、十年后预期收入与现在收入之比等等）\n",
    "  - 收入与住房面积比（其中也包括10年后期望收入等等各种情况）\n",
    "  - 社会阶级（10年后的社会阶级、14年后的社会阶级等等）\n",
    "  - 悠闲指数\n",
    "  - 满意指数 \n",
    "  - 信任指数\n",
    "  - 同一省、市、县进行了归一化（同一省市内的收入的平均值）\n",
    "  - 一个个体相对于同省、市、县其他人的各个指标的情况\n",
    "  - 同龄人之间的相互比较（即在同龄人中的收入情况、健康情况等等）"
   ]
  },
  {
   "cell_type": "code",
   "execution_count": 20,
   "metadata": {},
   "outputs": [],
   "source": [
    "# 第一次结婚年龄\n",
    "data['marital_1stbir'] = data['marital_1st'] - data['birth']\n",
    "# 最近结婚年龄\n",
    "data['marital_nowtbir'] = data['marital_now'] - data['birth']\n",
    "# 是否再婚\n",
    "data['mar'] = data['marital_nowtbir'] - data['marital_1stbir']\n",
    "# 配偶年龄\n",
    "data['marital_sbir'] = data['marital_now']-data['s_birth']\n",
    "# 配偶年龄差\n",
    "data['age_'] = data['marital_nowtbir'] - data['marital_sbir']\n",
    "\n",
    "# 收入比\n",
    "data['income/s_income'] = data['income']/(data['s_income']+1)  # 同居伴侣\n",
    "data['income+s_income'] = data['income']+(data['s_income']+1)\n",
    "data['income/family_income'] = data['income']/(data['family_income']+1)\n",
    "data['all_income/family_income'] = (data['income'] +\n",
    "                                    data['s_income'])/(data['family_income']+1)\n",
    "data['income/inc_exp'] = data['income']/(data['inc_exp']+1)\n",
    "data['family_income/m'] = data['family_income']/(data['family_m']+0.01)\n",
    "data['income/m'] = data['income']/(data['family_m']+0.01)\n",
    "\n",
    "# 收入/面积比\n",
    "data['income/floor_area'] = data['income']/(data['floor_area']+0.01)\n",
    "data['all_income/floor_area'] = (data['income'] +\n",
    "                                 data['s_income'])/(data['floor_area']+0.01)\n",
    "data['family_income/floor_area'] = data['family_income'] / \\\n",
    "    (data['floor_area']+0.01)\n",
    "data['floor_area/m'] = data['floor_area']/(data['family_m']+0.01)\n",
    "\n",
    "# class\n",
    "data['class_10_diff'] = (data['class_10_after'] - data['class'])\n",
    "data['class_diff'] = data['class'] - data['class_10_before']\n",
    "data['class_14_diff'] = data['class'] - data['class_14']\n",
    "# 悠闲指数，进行leisure的累加\n",
    "leisure_fea_lis = ['leisure_'+str(i) for i in range(1, 13)]\n",
    "data['leisure_sum'] = data[leisure_fea_lis].sum(axis=1)  # skew\n",
    "# 满意指数，进行public_service的累加\n",
    "public_service_fea_lis = ['public_service_'+str(i) for i in range(1, 10)]\n",
    "data['public_service_sum'] = data[public_service_fea_lis].sum(axis=1)  # skew\n",
    "\n",
    "# 信任指数\n",
    "trust_fea_lis = ['trust_'+str(i) for i in range(1, 14)]\n",
    "data['trust_sum'] = data[trust_fea_lis].sum(axis=1)  # skew\n",
    "\n",
    "# province mean\n",
    "data['province_income_mean'] = data.groupby(\n",
    "    ['province'])['income'].transform('mean').values\n",
    "data['province_family_income_mean'] = data.groupby(\n",
    "    ['province'])['family_income'].transform('mean').values\n",
    "data['province_equity_mean'] = data.groupby(\n",
    "    ['province'])['equity'].transform('mean').values\n",
    "data['province_depression_mean'] = data.groupby(\n",
    "    ['province'])['depression'].transform('mean').values\n",
    "data['province_floor_area_mean'] = data.groupby(\n",
    "    ['province'])['floor_area'].transform('mean').values\n",
    "data['province_health_mean'] = data.groupby(\n",
    "    ['province'])['health'].transform('mean').values\n",
    "data['province_class_10_diff_mean'] = data.groupby(\n",
    "    ['province'])['class_10_diff'].transform('mean').values\n",
    "data['province_class_mean'] = data.groupby(\n",
    "    ['province'])['class'].transform('mean').values\n",
    "data['province_health_problem_mean'] = data.groupby(\n",
    "    ['province'])['health_problem'].transform('mean').values\n",
    "data['province_family_status_mean'] = data.groupby(\n",
    "    ['province'])['family_status'].transform('mean').values\n",
    "data['province_leisure_sum_mean'] = data.groupby(\n",
    "    ['province'])['leisure_sum'].transform('mean').values\n",
    "data['province_public_service_sum_mean'] = data.groupby(\n",
    "    ['province'])['public_service_sum'].transform('mean').values\n",
    "data['province_trust_sum_mean'] = data.groupby(\n",
    "    ['province'])['trust_sum'].transform('mean').values\n",
    "\n",
    "# city mean\n",
    "data['city_income_mean'] = data.groupby(\n",
    "    ['city'])['income'].transform('mean').values  # 按照city分组\n",
    "data['city_family_income_mean'] = data.groupby(\n",
    "    ['city'])['family_income'].transform('mean').values\n",
    "data['city_equity_mean'] = data.groupby(\n",
    "    ['city'])['equity'].transform('mean').values\n",
    "data['city_depression_mean'] = data.groupby(\n",
    "    ['city'])['depression'].transform('mean').values\n",
    "data['city_floor_area_mean'] = data.groupby(\n",
    "    ['city'])['floor_area'].transform('mean').values\n",
    "data['city_health_mean'] = data.groupby(\n",
    "    ['city'])['health'].transform('mean').values\n",
    "data['city_class_10_diff_mean'] = data.groupby(\n",
    "    ['city'])['class_10_diff'].transform('mean').values\n",
    "data['city_class_mean'] = data.groupby(\n",
    "    ['city'])['class'].transform('mean').values\n",
    "data['city_health_problem_mean'] = data.groupby(\n",
    "    ['city'])['health_problem'].transform('mean').values\n",
    "data['city_family_status_mean'] = data.groupby(\n",
    "    ['city'])['family_status'].transform('mean').values\n",
    "data['city_leisure_sum_mean'] = data.groupby(\n",
    "    ['city'])['leisure_sum'].transform('mean').values\n",
    "data['city_public_service_sum_mean'] = data.groupby(\n",
    "    ['city'])['public_service_sum'].transform('mean').values\n",
    "data['city_trust_sum_mean'] = data.groupby(\n",
    "    ['city'])['trust_sum'].transform('mean').values\n",
    "\n",
    "# county mean\n",
    "data['county_income_mean'] = data.groupby(\n",
    "    ['county'])['income'].transform('mean').values\n",
    "data['county_family_income_mean'] = data.groupby(\n",
    "    ['county'])['family_income'].transform('mean').values\n",
    "data['county_equity_mean'] = data.groupby(\n",
    "    ['county'])['equity'].transform('mean').values\n",
    "data['county_depression_mean'] = data.groupby(\n",
    "    ['county'])['depression'].transform('mean').values\n",
    "data['county_floor_area_mean'] = data.groupby(\n",
    "    ['county'])['floor_area'].transform('mean').values\n",
    "data['county_health_mean'] = data.groupby(\n",
    "    ['county'])['health'].transform('mean').values\n",
    "data['county_class_10_diff_mean'] = data.groupby(\n",
    "    ['county'])['class_10_diff'].transform('mean').values\n",
    "data['county_class_mean'] = data.groupby(\n",
    "    ['county'])['class'].transform('mean').values\n",
    "data['county_health_problem_mean'] = data.groupby(\n",
    "    ['county'])['health_problem'].transform('mean').values\n",
    "data['county_family_status_mean'] = data.groupby(\n",
    "    ['county'])['family_status'].transform('mean').values\n",
    "data['county_leisure_sum_mean'] = data.groupby(\n",
    "    ['county'])['leisure_sum'].transform('mean').values\n",
    "data['county_public_service_sum_mean'] = data.groupby(\n",
    "    ['county'])['public_service_sum'].transform('mean').values\n",
    "data['county_trust_sum_mean'] = data.groupby(\n",
    "    ['county'])['trust_sum'].transform('mean').values\n",
    "\n",
    "# ratio 相比同省\n",
    "data['income/province'] = data['income']/(data['province_income_mean'])\n",
    "data['family_income/province'] = data['family_income'] / \\\n",
    "    (data['province_family_income_mean'])\n",
    "data['equity/province'] = data['equity']/(data['province_equity_mean'])\n",
    "data['depression/province'] = data['depression'] / \\\n",
    "    (data['province_depression_mean'])\n",
    "data['floor_area/province'] = data['floor_area'] / \\\n",
    "    (data['province_floor_area_mean'])\n",
    "data['health/province'] = data['health']/(data['province_health_mean'])\n",
    "data['class_10_diff/province'] = data['class_10_diff'] / \\\n",
    "    (data['province_class_10_diff_mean'])\n",
    "data['class/province'] = data['class']/(data['province_class_mean'])\n",
    "data['health_problem/province'] = data['health_problem'] / \\\n",
    "    (data['province_health_problem_mean'])\n",
    "data['family_status/province'] = data['family_status'] / \\\n",
    "    (data['province_family_status_mean'])\n",
    "data['leisure_sum/province'] = data['leisure_sum'] / \\\n",
    "    (data['province_leisure_sum_mean'])\n",
    "data['public_service_sum/province'] = data['public_service_sum'] / \\\n",
    "    (data['province_public_service_sum_mean'])\n",
    "data['trust_sum/province'] = data['trust_sum'] / \\\n",
    "    (data['province_trust_sum_mean']+1)\n",
    "\n",
    "# ratio 相比同市\n",
    "data['income/city'] = data['income']/(data['city_income_mean'])\n",
    "data['family_income/city'] = data['family_income'] / \\\n",
    "    (data['city_family_income_mean'])\n",
    "data['equity/city'] = data['equity']/(data['city_equity_mean'])\n",
    "data['depression/city'] = data['depression']/(data['city_depression_mean'])\n",
    "data['floor_area/city'] = data['floor_area']/(data['city_floor_area_mean'])\n",
    "data['health/city'] = data['health']/(data['city_health_mean'])\n",
    "data['class_10_diff/city'] = data['class_10_diff'] / \\\n",
    "    (data['city_class_10_diff_mean'])\n",
    "data['class/city'] = data['class']/(data['city_class_mean'])\n",
    "data['health_problem/city'] = data['health_problem'] / \\\n",
    "    (data['city_health_problem_mean'])\n",
    "data['family_status/city'] = data['family_status'] / \\\n",
    "    (data['city_family_status_mean'])\n",
    "data['leisure_sum/city'] = data['leisure_sum']/(data['city_leisure_sum_mean'])\n",
    "data['public_service_sum/city'] = data['public_service_sum'] / \\\n",
    "    (data['city_public_service_sum_mean'])\n",
    "data['trust_sum/city'] = data['trust_sum']/(data['city_trust_sum_mean'])\n",
    "\n",
    "# ratio 相比同个地区\n",
    "data['income/county'] = data['income']/(data['county_income_mean'])\n",
    "data['family_income/county'] = data['family_income'] / \\\n",
    "    (data['county_family_income_mean'])\n",
    "data['equity/county'] = data['equity']/(data['county_equity_mean'])\n",
    "data['depression/county'] = data['depression']/(data['county_depression_mean'])\n",
    "data['floor_area/county'] = data['floor_area']/(data['county_floor_area_mean'])\n",
    "data['health/county'] = data['health']/(data['county_health_mean'])\n",
    "data['class_10_diff/county'] = data['class_10_diff'] / \\\n",
    "    (data['county_class_10_diff_mean'])\n",
    "data['class/county'] = data['class']/(data['county_class_mean'])\n",
    "data['health_problem/county'] = data['health_problem'] / \\\n",
    "    (data['county_health_problem_mean'])\n",
    "data['family_status/county'] = data['family_status'] / \\\n",
    "    (data['county_family_status_mean'])\n",
    "data['leisure_sum/county'] = data['leisure_sum'] / \\\n",
    "    (data['county_leisure_sum_mean'])\n",
    "data['public_service_sum/county'] = data['public_service_sum'] / \\\n",
    "    (data['county_public_service_sum_mean'])\n",
    "data['trust_sum/county'] = data['trust_sum']/(data['county_trust_sum_mean'])\n",
    "\n",
    "# age mean\n",
    "data['age_income_mean'] = data.groupby(\n",
    "    ['age'])['income'].transform('mean').values\n",
    "data['age_family_income_mean'] = data.groupby(\n",
    "    ['age'])['family_income'].transform('mean').values\n",
    "data['age_equity_mean'] = data.groupby(\n",
    "    ['age'])['equity'].transform('mean').values\n",
    "data['age_depression_mean'] = data.groupby(\n",
    "    ['age'])['depression'].transform('mean').values\n",
    "data['age_floor_area_mean'] = data.groupby(\n",
    "    ['age'])['floor_area'].transform('mean').values\n",
    "data['age_health_mean'] = data.groupby(\n",
    "    ['age'])['health'].transform('mean').values\n",
    "data['age_class_10_diff_mean'] = data.groupby(\n",
    "    ['age'])['class_10_diff'].transform('mean').values\n",
    "data['age_class_mean'] = data.groupby(\n",
    "    ['age'])['class'].transform('mean').values\n",
    "data['age_health_problem_mean'] = data.groupby(\n",
    "    ['age'])['health_problem'].transform('mean').values\n",
    "data['age_family_status_mean'] = data.groupby(\n",
    "    ['age'])['family_status'].transform('mean').values\n",
    "data['age_leisure_sum_mean'] = data.groupby(\n",
    "    ['age'])['leisure_sum'].transform('mean').values\n",
    "data['age_public_service_sum_mean'] = data.groupby(\n",
    "    ['age'])['public_service_sum'].transform('mean').values\n",
    "data['age_trust_sum_mean'] = data.groupby(\n",
    "    ['age'])['trust_sum'].transform('mean').values\n",
    "\n",
    "# 和同龄人相比\n",
    "data['income/age'] = data['income']/(data['age_income_mean'])\n",
    "data['family_income/age'] = data['family_income'] / \\\n",
    "    (data['age_family_income_mean'])\n",
    "data['equity/age'] = data['equity']/(data['age_equity_mean'])\n",
    "data['depression/age'] = data['depression']/(data['age_depression_mean'])\n",
    "data['floor_area/age'] = data['floor_area']/(data['age_floor_area_mean'])\n",
    "data['health/age'] = data['health']/(data['age_health_mean'])\n",
    "data['class_10_diff/age'] = data['class_10_diff'] / \\\n",
    "    (data['age_class_10_diff_mean'])\n",
    "data['class/age'] = data['class']/(data['age_class_mean'])\n",
    "data['health_problem/age'] = data['health_problem'] / \\\n",
    "    (data['age_health_problem_mean'])\n",
    "data['family_status/age'] = data['family_status'] / \\\n",
    "    (data['age_family_status_mean'])\n",
    "data['leisure_sum/age'] = data['leisure_sum']/(data['age_leisure_sum_mean'])\n",
    "data['public_service_sum/age'] = data['public_service_sum'] / \\\n",
    "    (data['age_public_service_sum_mean'])\n",
    "data['trust_sum/age'] = data['trust_sum']/(data['age_trust_sum_mean'])"
   ]
  },
  {
   "cell_type": "code",
   "execution_count": 21,
   "metadata": {},
   "outputs": [
    {
     "name": "stdout",
     "output_type": "stream",
     "text": [
      "shape (10956, 272)\n"
     ]
    },
    {
     "data": {
      "text/html": [
       "<div>\n",
       "<style scoped>\n",
       "    .dataframe tbody tr th:only-of-type {\n",
       "        vertical-align: middle;\n",
       "    }\n",
       "\n",
       "    .dataframe tbody tr th {\n",
       "        vertical-align: top;\n",
       "    }\n",
       "\n",
       "    .dataframe thead th {\n",
       "        text-align: right;\n",
       "    }\n",
       "</style>\n",
       "<table border=\"1\" class=\"dataframe\">\n",
       "  <thead>\n",
       "    <tr style=\"text-align: right;\">\n",
       "      <th></th>\n",
       "      <th>id</th>\n",
       "      <th>survey_type</th>\n",
       "      <th>province</th>\n",
       "      <th>city</th>\n",
       "      <th>county</th>\n",
       "      <th>survey_time</th>\n",
       "      <th>gender</th>\n",
       "      <th>birth</th>\n",
       "      <th>nationality</th>\n",
       "      <th>religion</th>\n",
       "      <th>...</th>\n",
       "      <th>depression/age</th>\n",
       "      <th>floor_area/age</th>\n",
       "      <th>health/age</th>\n",
       "      <th>class_10_diff/age</th>\n",
       "      <th>class/age</th>\n",
       "      <th>health_problem/age</th>\n",
       "      <th>family_status/age</th>\n",
       "      <th>leisure_sum/age</th>\n",
       "      <th>public_service_sum/age</th>\n",
       "      <th>trust_sum/age</th>\n",
       "    </tr>\n",
       "  </thead>\n",
       "  <tbody>\n",
       "    <tr>\n",
       "      <th>0</th>\n",
       "      <td>1</td>\n",
       "      <td>1</td>\n",
       "      <td>12</td>\n",
       "      <td>32</td>\n",
       "      <td>59</td>\n",
       "      <td>2015</td>\n",
       "      <td>1</td>\n",
       "      <td>1959</td>\n",
       "      <td>1</td>\n",
       "      <td>1</td>\n",
       "      <td>...</td>\n",
       "      <td>1.285211</td>\n",
       "      <td>0.410351</td>\n",
       "      <td>0.848837</td>\n",
       "      <td>0.000000</td>\n",
       "      <td>0.683307</td>\n",
       "      <td>0.521429</td>\n",
       "      <td>0.733668</td>\n",
       "      <td>0.724620</td>\n",
       "      <td>0.666638</td>\n",
       "      <td>0.925941</td>\n",
       "    </tr>\n",
       "    <tr>\n",
       "      <th>1</th>\n",
       "      <td>2</td>\n",
       "      <td>2</td>\n",
       "      <td>18</td>\n",
       "      <td>52</td>\n",
       "      <td>85</td>\n",
       "      <td>2015</td>\n",
       "      <td>1</td>\n",
       "      <td>1992</td>\n",
       "      <td>1</td>\n",
       "      <td>1</td>\n",
       "      <td>...</td>\n",
       "      <td>0.733333</td>\n",
       "      <td>0.952824</td>\n",
       "      <td>1.179337</td>\n",
       "      <td>1.012552</td>\n",
       "      <td>1.344444</td>\n",
       "      <td>0.891344</td>\n",
       "      <td>1.359551</td>\n",
       "      <td>1.011792</td>\n",
       "      <td>1.130778</td>\n",
       "      <td>1.188442</td>\n",
       "    </tr>\n",
       "    <tr>\n",
       "      <th>2</th>\n",
       "      <td>3</td>\n",
       "      <td>2</td>\n",
       "      <td>29</td>\n",
       "      <td>83</td>\n",
       "      <td>126</td>\n",
       "      <td>2015</td>\n",
       "      <td>2</td>\n",
       "      <td>1967</td>\n",
       "      <td>1</td>\n",
       "      <td>0</td>\n",
       "      <td>...</td>\n",
       "      <td>1.343537</td>\n",
       "      <td>0.972328</td>\n",
       "      <td>1.150485</td>\n",
       "      <td>1.190955</td>\n",
       "      <td>1.195762</td>\n",
       "      <td>1.055679</td>\n",
       "      <td>1.190955</td>\n",
       "      <td>0.966470</td>\n",
       "      <td>1.193204</td>\n",
       "      <td>0.803693</td>\n",
       "    </tr>\n",
       "    <tr>\n",
       "      <th>3</th>\n",
       "      <td>4</td>\n",
       "      <td>2</td>\n",
       "      <td>10</td>\n",
       "      <td>28</td>\n",
       "      <td>51</td>\n",
       "      <td>2015</td>\n",
       "      <td>2</td>\n",
       "      <td>1943</td>\n",
       "      <td>1</td>\n",
       "      <td>1</td>\n",
       "      <td>...</td>\n",
       "      <td>1.111663</td>\n",
       "      <td>0.642329</td>\n",
       "      <td>1.276353</td>\n",
       "      <td>4.977778</td>\n",
       "      <td>1.199143</td>\n",
       "      <td>1.188329</td>\n",
       "      <td>1.162630</td>\n",
       "      <td>0.899346</td>\n",
       "      <td>1.153810</td>\n",
       "      <td>1.300950</td>\n",
       "    </tr>\n",
       "    <tr>\n",
       "      <th>4</th>\n",
       "      <td>5</td>\n",
       "      <td>1</td>\n",
       "      <td>7</td>\n",
       "      <td>18</td>\n",
       "      <td>36</td>\n",
       "      <td>2015</td>\n",
       "      <td>2</td>\n",
       "      <td>1994</td>\n",
       "      <td>1</td>\n",
       "      <td>1</td>\n",
       "      <td>...</td>\n",
       "      <td>0.750000</td>\n",
       "      <td>0.587284</td>\n",
       "      <td>1.177106</td>\n",
       "      <td>0.000000</td>\n",
       "      <td>0.236957</td>\n",
       "      <td>1.116803</td>\n",
       "      <td>1.093645</td>\n",
       "      <td>1.045313</td>\n",
       "      <td>0.728161</td>\n",
       "      <td>1.117428</td>\n",
       "    </tr>\n",
       "  </tbody>\n",
       "</table>\n",
       "<p>5 rows × 272 columns</p>\n",
       "</div>"
      ],
      "text/plain": [
       "   id  survey_type  province  city  county  survey_time  gender  birth  \\\n",
       "0   1            1        12    32      59         2015       1   1959   \n",
       "1   2            2        18    52      85         2015       1   1992   \n",
       "2   3            2        29    83     126         2015       2   1967   \n",
       "3   4            2        10    28      51         2015       2   1943   \n",
       "4   5            1         7    18      36         2015       2   1994   \n",
       "\n",
       "   nationality  religion  ...  depression/age  floor_area/age health/age  \\\n",
       "0            1         1  ...        1.285211        0.410351   0.848837   \n",
       "1            1         1  ...        0.733333        0.952824   1.179337   \n",
       "2            1         0  ...        1.343537        0.972328   1.150485   \n",
       "3            1         1  ...        1.111663        0.642329   1.276353   \n",
       "4            1         1  ...        0.750000        0.587284   1.177106   \n",
       "\n",
       "   class_10_diff/age  class/age  health_problem/age  family_status/age  \\\n",
       "0           0.000000   0.683307            0.521429           0.733668   \n",
       "1           1.012552   1.344444            0.891344           1.359551   \n",
       "2           1.190955   1.195762            1.055679           1.190955   \n",
       "3           4.977778   1.199143            1.188329           1.162630   \n",
       "4           0.000000   0.236957            1.116803           1.093645   \n",
       "\n",
       "   leisure_sum/age  public_service_sum/age  trust_sum/age  \n",
       "0         0.724620                0.666638       0.925941  \n",
       "1         1.011792                1.130778       1.188442  \n",
       "2         0.966470                1.193204       0.803693  \n",
       "3         0.899346                1.153810       1.300950  \n",
       "4         1.045313                0.728161       1.117428  \n",
       "\n",
       "[5 rows x 272 columns]"
      ]
     },
     "execution_count": 21,
     "metadata": {},
     "output_type": "execute_result"
    }
   ],
   "source": [
    "print('shape',data.shape)\n",
    "data.head()"
   ]
  },
  {
   "cell_type": "markdown",
   "metadata": {},
   "source": [
    "#### 2.5.2 删除数值特别少的和之前用过的特征\n",
    "删去有效样本数很少的特征，例如负值太多的特征或者是缺失值太多的特征，这里一共删除了包括“目前的最高教育程度”在内的9类特征。"
   ]
  },
  {
   "cell_type": "code",
   "execution_count": 22,
   "metadata": {},
   "outputs": [
    {
     "data": {
      "text/plain": [
       "(7988, 263)"
      ]
     },
     "execution_count": 22,
     "metadata": {},
     "output_type": "execute_result"
    }
   ],
   "source": [
    "del_list = ['id', 'survey_time', 'edu_other', 'invest_other',\n",
    "            'property_other', 'join_party', 'province', 'city', 'county']\n",
    "# 已删除指定特征之后的特征\n",
    "use_feature = [clo for clo in data.columns if clo not in del_list]\n",
    "# 对缺失数据进行补0\n",
    "data.fillna(0, inplace=True)\n",
    "# 训练集的数据量\n",
    "train_shape = train.shape[0]\n",
    "# 删除后所有的特征\n",
    "features = data[use_feature].columns\n",
    "# 263维训练集的特征列数据\n",
    "X_train_263 = data[:train_shape][use_feature].values\n",
    "# 263维训练集的预测列数据\n",
    "y_train = target\n",
    "# 263维测试集的特征列数据\n",
    "X_test_263 = data[train_shape:][use_feature].values\n",
    "# 最终得到263个特征\n",
    "X_train_263.shape"
   ]
  },
  {
   "cell_type": "markdown",
   "metadata": {},
   "source": [
    "#### 2.5.3 选择重要的49个特征"
   ]
  },
  {
   "cell_type": "code",
   "execution_count": 23,
   "metadata": {},
   "outputs": [
    {
     "data": {
      "text/plain": [
       "(7988, 49)"
      ]
     },
     "execution_count": 23,
     "metadata": {},
     "output_type": "execute_result"
    }
   ],
   "source": [
    "imp_fea_49 = ['equity', 'depression', 'health', 'class', 'family_status', 'health_problem', 'class_10_after',\n",
    "              'equity/province', 'equity/city', 'equity/county',\n",
    "              'depression/province', 'depression/city', 'depression/county',\n",
    "              'health/province', 'health/city', 'health/county',\n",
    "              'class/province', 'class/city', 'class/county',\n",
    "              'family_status/province', 'family_status/city', 'family_status/county',\n",
    "              'family_income/province', 'family_income/city', 'family_income/county',\n",
    "              'floor_area/province', 'floor_area/city', 'floor_area/county',\n",
    "              'leisure_sum/province', 'leisure_sum/city', 'leisure_sum/county',\n",
    "              'public_service_sum/province', 'public_service_sum/city', 'public_service_sum/county',\n",
    "              'trust_sum/province', 'trust_sum/city', 'trust_sum/county',\n",
    "              'income/m', 'public_service_sum', 'class_diff', 'status_3_before', 'age_income_mean', 'age_floor_area_mean',\n",
    "              'weight_jin', 'height_cm',\n",
    "              'health/age', 'depression/age', 'equity/age', 'leisure_sum/age'\n",
    "              ]\n",
    "train_shape = train.shape[0]\n",
    "X_train_49 = data[:train_shape][imp_fea_49].values\n",
    "X_test_49 = data[train_shape:][imp_fea_49].values\n",
    "# 最重要的49个特征\n",
    "X_train_49.shape"
   ]
  },
  {
   "cell_type": "markdown",
   "metadata": {},
   "source": [
    "#### 2.5.4 进行one-hot编码\n",
    "使用One-hot进行编码的原因：有部分特征为分离值，例如性别中男女，男为1，女为2，通过使用One-hot将其变为男为0，女为1，来增强机器学习算法的鲁棒性能；再如民族这个特征，原本是1-56这56个数值，如果直接分类会让分类器的鲁棒性变差，所以使用One-hot编码将其变为6个特征进行非零即一的处理。"
   ]
  },
  {
   "cell_type": "code",
   "execution_count": 24,
   "metadata": {
    "scrolled": true
   },
   "outputs": [
    {
     "data": {
      "text/plain": [
       "(7988, 383)"
      ]
     },
     "execution_count": 24,
     "metadata": {},
     "output_type": "execute_result"
    }
   ],
   "source": [
    "# 已经是0、1的值不需要onehot\n",
    "cat_fea = ['survey_type', 'gender', 'nationality', 'edu_status', 'political', 'hukou', 'hukou_loc', 'work_exper', 'work_status', 'work_type',\n",
    "           'work_manage', 'marital', 's_political', 's_hukou', 's_work_exper', 's_work_status', 's_work_type', 'f_political', 'f_work_14',\n",
    "           'm_political', 'm_work_14']\n",
    "noc_fea = [clo for clo in use_feature if clo not in cat_fea]\n",
    "\n",
    "onehot_data = data[cat_fea].values\n",
    "enc = preprocessing.OneHotEncoder(categories='auto')\n",
    "# 变为onehot编码格式\n",
    "oh_data = enc.fit_transform(onehot_data).toarray()\n",
    "\n",
    "X_train_oh = oh_data[:train_shape, :]\n",
    "X_test_oh = oh_data[train_shape:, :]\n",
    "\n",
    "# 先是noc，再是cat_fea\n",
    "X_train_383 = np.column_stack(\n",
    "    [data[:train_shape][noc_fea].values, X_train_oh])\n",
    "X_test_383 = np.column_stack([data[train_shape:][noc_fea].values, X_test_oh])\n",
    "X_train_383.shape"
   ]
  },
  {
   "cell_type": "markdown",
   "metadata": {},
   "source": [
    "### 2.6 特征建模"
   ]
  },
  {
   "cell_type": "markdown",
   "metadata": {},
   "source": [
    "#### 2.6.1 对one-hot编码之前的特征（263维）进行建模\n",
    "\n",
    "##### 1. LightGBM"
   ]
  },
  {
   "cell_type": "code",
   "execution_count": 25,
   "metadata": {
    "scrolled": false
   },
   "outputs": [
    {
     "name": "stdout",
     "output_type": "stream",
     "text": [
      "fold n°1\n",
      "Training until validation scores don't improve for 800 rounds\n",
      "[500]\ttraining's l2: 0.499759\tvalid_1's l2: 0.532511\n",
      "[1000]\ttraining's l2: 0.451528\tvalid_1's l2: 0.499127\n",
      "[1500]\ttraining's l2: 0.425443\tvalid_1's l2: 0.485366\n",
      "[2000]\ttraining's l2: 0.407389\tvalid_1's l2: 0.479308\n",
      "[2500]\ttraining's l2: 0.393001\tvalid_1's l2: 0.475557\n",
      "[3000]\ttraining's l2: 0.380766\tvalid_1's l2: 0.473685\n",
      "[3500]\ttraining's l2: 0.370009\tvalid_1's l2: 0.47256\n",
      "[4000]\ttraining's l2: 0.36022\tvalid_1's l2: 0.471582\n",
      "[4500]\ttraining's l2: 0.35124\tvalid_1's l2: 0.470863\n",
      "[5000]\ttraining's l2: 0.342828\tvalid_1's l2: 0.470557\n",
      "[5500]\ttraining's l2: 0.334901\tvalid_1's l2: 0.470027\n",
      "[6000]\ttraining's l2: 0.327379\tvalid_1's l2: 0.469945\n",
      "[6500]\ttraining's l2: 0.320136\tvalid_1's l2: 0.469929\n",
      "Early stopping, best iteration is:\n",
      "[6113]\ttraining's l2: 0.325685\tvalid_1's l2: 0.469866\n",
      "fold n°2\n",
      "Training until validation scores don't improve for 800 rounds\n",
      "[500]\ttraining's l2: 0.504322\tvalid_1's l2: 0.513628\n",
      "[1000]\ttraining's l2: 0.454889\tvalid_1's l2: 0.47926\n",
      "[1500]\ttraining's l2: 0.428782\tvalid_1's l2: 0.465975\n",
      "[2000]\ttraining's l2: 0.410927\tvalid_1's l2: 0.459213\n",
      "[2500]\ttraining's l2: 0.397259\tvalid_1's l2: 0.455058\n",
      "[3000]\ttraining's l2: 0.385427\tvalid_1's l2: 0.45243\n",
      "[3500]\ttraining's l2: 0.374843\tvalid_1's l2: 0.45074\n",
      "[4000]\ttraining's l2: 0.365255\tvalid_1's l2: 0.449343\n",
      "[4500]\ttraining's l2: 0.356341\tvalid_1's l2: 0.448434\n",
      "[5000]\ttraining's l2: 0.348006\tvalid_1's l2: 0.447479\n",
      "[5500]\ttraining's l2: 0.339997\tvalid_1's l2: 0.446742\n",
      "[6000]\ttraining's l2: 0.332342\tvalid_1's l2: 0.446239\n",
      "[6500]\ttraining's l2: 0.325096\tvalid_1's l2: 0.445999\n",
      "[7000]\ttraining's l2: 0.318177\tvalid_1's l2: 0.445795\n",
      "[7500]\ttraining's l2: 0.31147\tvalid_1's l2: 0.445203\n",
      "[8000]\ttraining's l2: 0.305186\tvalid_1's l2: 0.444816\n",
      "[8500]\ttraining's l2: 0.299023\tvalid_1's l2: 0.444776\n",
      "[9000]\ttraining's l2: 0.293044\tvalid_1's l2: 0.444549\n",
      "[9500]\ttraining's l2: 0.287267\tvalid_1's l2: 0.444302\n",
      "[10000]\ttraining's l2: 0.281737\tvalid_1's l2: 0.444043\n",
      "Did not meet early stopping. Best iteration is:\n",
      "[10000]\ttraining's l2: 0.281737\tvalid_1's l2: 0.444043\n",
      "fold n°3\n",
      "Training until validation scores don't improve for 800 rounds\n",
      "[500]\ttraining's l2: 0.503169\tvalid_1's l2: 0.518027\n",
      "[1000]\ttraining's l2: 0.455063\tvalid_1's l2: 0.480538\n",
      "[1500]\ttraining's l2: 0.429865\tvalid_1's l2: 0.46407\n",
      "[2000]\ttraining's l2: 0.412415\tvalid_1's l2: 0.455411\n",
      "[2500]\ttraining's l2: 0.39818\tvalid_1's l2: 0.449859\n",
      "[3000]\ttraining's l2: 0.386272\tvalid_1's l2: 0.446564\n",
      "[3500]\ttraining's l2: 0.375497\tvalid_1's l2: 0.444636\n",
      "[4000]\ttraining's l2: 0.365709\tvalid_1's l2: 0.442973\n",
      "[4500]\ttraining's l2: 0.356724\tvalid_1's l2: 0.442256\n",
      "[5000]\ttraining's l2: 0.348307\tvalid_1's l2: 0.441686\n",
      "[5500]\ttraining's l2: 0.34018\tvalid_1's l2: 0.441066\n",
      "[6000]\ttraining's l2: 0.332494\tvalid_1's l2: 0.440792\n",
      "[6500]\ttraining's l2: 0.325101\tvalid_1's l2: 0.440477\n",
      "[7000]\ttraining's l2: 0.318142\tvalid_1's l2: 0.440624\n",
      "Early stopping, best iteration is:\n",
      "[6645]\ttraining's l2: 0.323027\tvalid_1's l2: 0.440355\n",
      "fold n°4\n",
      "Training until validation scores don't improve for 800 rounds\n",
      "[500]\ttraining's l2: 0.504278\tvalid_1's l2: 0.512194\n",
      "[1000]\ttraining's l2: 0.455536\tvalid_1's l2: 0.477492\n",
      "[1500]\ttraining's l2: 0.429192\tvalid_1's l2: 0.465315\n",
      "[2000]\ttraining's l2: 0.411059\tvalid_1's l2: 0.459404\n",
      "[2500]\ttraining's l2: 0.396757\tvalid_1's l2: 0.45599\n",
      "[3000]\ttraining's l2: 0.384704\tvalid_1's l2: 0.453799\n",
      "[3500]\ttraining's l2: 0.374064\tvalid_1's l2: 0.452263\n",
      "[4000]\ttraining's l2: 0.364263\tvalid_1's l2: 0.451174\n",
      "[4500]\ttraining's l2: 0.35523\tvalid_1's l2: 0.450311\n",
      "[5000]\ttraining's l2: 0.346777\tvalid_1's l2: 0.4498\n",
      "[5500]\ttraining's l2: 0.338868\tvalid_1's l2: 0.449091\n",
      "[6000]\ttraining's l2: 0.331341\tvalid_1's l2: 0.448833\n",
      "[6500]\ttraining's l2: 0.324036\tvalid_1's l2: 0.448504\n",
      "[7000]\ttraining's l2: 0.317199\tvalid_1's l2: 0.448216\n",
      "[7500]\ttraining's l2: 0.310577\tvalid_1's l2: 0.448083\n",
      "[8000]\ttraining's l2: 0.304131\tvalid_1's l2: 0.448229\n",
      "Early stopping, best iteration is:\n",
      "[7370]\ttraining's l2: 0.312295\tvalid_1's l2: 0.448006\n",
      "fold n°5\n",
      "Training until validation scores don't improve for 800 rounds\n",
      "[500]\ttraining's l2: 0.503075\tvalid_1's l2: 0.519874\n",
      "[1000]\ttraining's l2: 0.454635\tvalid_1's l2: 0.484866\n",
      "[1500]\ttraining's l2: 0.428716\tvalid_1's l2: 0.47116\n",
      "[2000]\ttraining's l2: 0.410711\tvalid_1's l2: 0.465009\n",
      "[2500]\ttraining's l2: 0.39625\tvalid_1's l2: 0.461581\n",
      "[3000]\ttraining's l2: 0.383981\tvalid_1's l2: 0.459275\n",
      "[3500]\ttraining's l2: 0.372984\tvalid_1's l2: 0.45812\n",
      "[4000]\ttraining's l2: 0.362999\tvalid_1's l2: 0.45749\n",
      "[4500]\ttraining's l2: 0.35375\tvalid_1's l2: 0.457329\n",
      "[5000]\ttraining's l2: 0.345103\tvalid_1's l2: 0.457353\n",
      "[5500]\ttraining's l2: 0.337024\tvalid_1's l2: 0.45702\n",
      "[6000]\ttraining's l2: 0.329495\tvalid_1's l2: 0.457015\n",
      "[6500]\ttraining's l2: 0.322073\tvalid_1's l2: 0.457128\n",
      "Early stopping, best iteration is:\n",
      "[5850]\ttraining's l2: 0.331719\tvalid_1's l2: 0.456903\n",
      "CV score: 0.45183444\n"
     ]
    }
   ],
   "source": [
    "##### lgb_263 #\n",
    "# lightGBM决策树\n",
    "lgb_263_param = {\n",
    "    'num_leaves': 7,\n",
    "    'min_data_in_leaf': 20,  # 叶子可能具有的最小记录数\n",
    "    'objective': 'regression',\n",
    "    'max_depth': -1,\n",
    "    'learning_rate': 0.003,\n",
    "    \"boosting\": \"gbdt\",  # 用gbdt算法\n",
    "    \"feature_fraction\": 0.18,  # 例如 0.18时，意味着在每次迭代中随机选择18％的参数来建树\n",
    "    \"bagging_freq\": 1,\n",
    "    \"bagging_fraction\": 0.55,  # 每次迭代时用的数据比例\n",
    "    \"bagging_seed\": 14,\n",
    "    \"metric\": 'mse',\n",
    "    \"lambda_l1\": 0.1,\n",
    "    \"lambda_l2\": 0.2,\n",
    "    \"verbosity\": -1}\n",
    "\n",
    "# 使用5折交叉验证\n",
    "folds = StratifiedKFold(n_splits=5, shuffle=True, random_state=4)\n",
    "oof_lgb_263 = np.zeros(len(X_train_263))\n",
    "predictions_lgb_263 = np.zeros(len(X_test_263))\n",
    "\n",
    "for fold_, (trn_idx, val_idx) in enumerate(folds.split(X_train_263, y_train)):\n",
    "    print(\"fold n°{}\".format(fold_+1))\n",
    "    trn_data = lgb.Dataset(X_train_263[trn_idx], y_train[trn_idx])\n",
    "    val_data = lgb.Dataset(\n",
    "        X_train_263[val_idx], y_train[val_idx])  # train:val=4:1\n",
    "\n",
    "    num_round = 10000\n",
    "    lgb_263 = lgb.train(lgb_263_param, trn_data, num_round, valid_sets=[\n",
    "                        trn_data, val_data], verbose_eval=500, early_stopping_rounds=800)\n",
    "    oof_lgb_263[val_idx] = lgb_263.predict(\n",
    "        X_train_263[val_idx], num_iteration=lgb_263.best_iteration)\n",
    "    predictions_lgb_263 += lgb_263.predict(\n",
    "        X_test_263, num_iteration=lgb_263.best_iteration) / folds.n_splits\n",
    "\n",
    "print(\"CV score: {:<8.8f}\".format(mean_squared_error(oof_lgb_263, target)))"
   ]
  },
  {
   "cell_type": "markdown",
   "metadata": {},
   "source": [
    "接着，使用已经训练完的lightGBM的模型进行特征重要性的判断以及可视化，从结果可以看出，排在重要性第一位的是health/age，就是同龄人中的健康程度，与我们主观的看法基本一致。"
   ]
  },
  {
   "cell_type": "code",
   "execution_count": 26,
   "metadata": {
    "scrolled": false
   },
   "outputs": [
    {
     "data": {
      "image/png": "[encoded data removed]",
      "text/plain": [
       "<Figure size 1008x2016 with 1 Axes>"
      ]
     },
     "metadata": {
      "needs_background": "light"
     },
     "output_type": "display_data"
    }
   ],
   "source": [
    "# ---------------特征重要性\n",
    "pd.set_option('display.max_columns', None)\n",
    "# 显示所有行\n",
    "pd.set_option('display.max_rows', None)\n",
    "# 设置value的显示长度为100，默认为50\n",
    "pd.set_option('max_colwidth', 100)\n",
    "df = pd.DataFrame(data[use_feature].columns.tolist(), columns=['feature'])\n",
    "# 得到特征的重要性\n",
    "df['importance'] = list(lgb_263.feature_importance())\n",
    "# 进行从高到低的排序\n",
    "df = df.sort_values(by='importance', ascending=False)\n",
    "plt.figure(figsize=(14, 28))\n",
    "# 使用条形图展示\n",
    "sns.barplot(x=\"importance\", y=\"feature\", data=df.head(50))\n",
    "plt.title('Features importance (averaged/folds)')\n",
    "plt.tight_layout()"
   ]
  },
  {
   "cell_type": "markdown",
   "metadata": {},
   "source": [
    "##### 2. XGBoost"
   ]
  },
  {
   "cell_type": "code",
   "execution_count": 27,
   "metadata": {},
   "outputs": [
    {
     "name": "stdout",
     "output_type": "stream",
     "text": [
      "fold n°1\n",
      "[0]\ttrain-rmse:3.39998\tvalid_data-rmse:3.40012\n",
      "[500]\ttrain-rmse:0.40684\tvalid_data-rmse:0.68586\n",
      "[1000]\ttrain-rmse:0.27447\tvalid_data-rmse:0.68726\n",
      "[1180]\ttrain-rmse:0.23710\tvalid_data-rmse:0.68750\n",
      "fold n°2\n",
      "[0]\ttrain-rmse:3.40000\tvalid_data-rmse:3.40010\n",
      "[500]\ttrain-rmse:0.41147\tvalid_data-rmse:0.67776\n",
      "[1000]\ttrain-rmse:0.27467\tvalid_data-rmse:0.67695\n",
      "[1413]\ttrain-rmse:0.19707\tvalid_data-rmse:0.67919\n",
      "fold n°3\n",
      "[0]\ttrain-rmse:3.40001\tvalid_data-rmse:3.40035\n",
      "[500]\ttrain-rmse:0.40949\tvalid_data-rmse:0.67102\n",
      "[1000]\ttrain-rmse:0.27413\tvalid_data-rmse:0.67200\n",
      "[1155]\ttrain-rmse:0.24179\tvalid_data-rmse:0.67261\n",
      "fold n°4\n",
      "[0]\ttrain-rmse:3.40003\tvalid_data-rmse:3.40045\n",
      "[500]\ttrain-rmse:0.40928\tvalid_data-rmse:0.66992\n",
      "[1000]\ttrain-rmse:0.27661\tvalid_data-rmse:0.67019\n",
      "[1247]\ttrain-rmse:0.22801\tvalid_data-rmse:0.67058\n",
      "fold n°5\n",
      "[0]\ttrain-rmse:3.40024\tvalid_data-rmse:3.39999\n",
      "[500]\ttrain-rmse:0.40821\tvalid_data-rmse:0.66303\n",
      "[1000]\ttrain-rmse:0.27369\tvalid_data-rmse:0.66565\n",
      "[1075]\ttrain-rmse:0.25714\tvalid_data-rmse:0.66587\n",
      "CV score: 0.45235743\n"
     ]
    }
   ],
   "source": [
    "# xgb_263\n",
    "# xgboost\n",
    "xgb_263_params = {'eta': 0.02,  # lr\n",
    "                  'max_depth': 6,\n",
    "                  'min_child_weight': 3,  # 最小叶子节点样本权重和\n",
    "                  'gamma': 0,  # 指定节点分裂所需的最小损失函数下降值。\n",
    "                  'subsample': 0.7,  # 控制对于每棵树，随机采样的比例\n",
    "                  'colsample_bytree': 0.3,  # 用来控制每棵随机采样的列数的占比 (每一列是一个特征)。\n",
    "                  'lambda': 2,\n",
    "                  'objective': 'reg:linear',\n",
    "                  'objective': 'reg:squarederror',\n",
    "                  'eval_metric': 'rmse',\n",
    "                  'nthread': -1}\n",
    "\n",
    "# 同样使用5折交叉验证\n",
    "folds = StratifiedKFold(n_splits=5, shuffle=True, random_state=2019)\n",
    "oof_xgb_263 = np.zeros(len(X_train_263))\n",
    "predictions_xgb_263 = np.zeros(len(X_test_263))\n",
    "\n",
    "for fold_, (trn_idx, val_idx) in enumerate(folds.split(X_train_263, y_train)):\n",
    "    print(\"fold n°{}\".format(fold_+1))\n",
    "    trn_data = xgb.DMatrix(X_train_263[trn_idx], y_train[trn_idx])\n",
    "    val_data = xgb.DMatrix(X_train_263[val_idx], y_train[val_idx])\n",
    "\n",
    "    watchlist = [(trn_data, 'train'), (val_data, 'valid_data')]\n",
    "    xgb_263 = xgb.train(dtrain=trn_data, num_boost_round=3000, evals=watchlist,\n",
    "                        early_stopping_rounds=600, verbose_eval=500, params=xgb_263_params)\n",
    "    oof_xgb_263[val_idx] = xgb_263.predict(xgb.DMatrix(\n",
    "        X_train_263[val_idx]), ntree_limit=xgb_263.best_ntree_limit)\n",
    "    predictions_xgb_263 += xgb_263.predict(xgb.DMatrix(\n",
    "        X_test_263), ntree_limit=xgb_263.best_ntree_limit) / folds.n_splits\n",
    "\n",
    "print(\"CV score: {:<8.8f}\".format(mean_squared_error(oof_xgb_263, target)))"
   ]
  },
  {
   "cell_type": "markdown",
   "metadata": {},
   "source": [
    "##### 3.RandomForestRegressor随机森林"
   ]
  },
  {
   "cell_type": "code",
   "execution_count": 28,
   "metadata": {},
   "outputs": [
    {
     "name": "stdout",
     "output_type": "stream",
     "text": [
      "fold n°1\n",
      "fold n°2\n",
      "fold n°3\n",
      "fold n°4\n",
      "fold n°5\n",
      "CV score: 0.47793348\n"
     ]
    }
   ],
   "source": [
    "# RandomForestRegressor随机森林\n",
    "folds = KFold(n_splits=5, shuffle=True, random_state=2019)\n",
    "oof_rfr_263 = np.zeros(len(X_train_263))\n",
    "predictions_rfr_263 = np.zeros(len(X_test_263))\n",
    "\n",
    "for fold_, (trn_idx, val_idx) in enumerate(folds.split(X_train_263, y_train)):\n",
    "    print(\"fold n°{}\".format(fold_+1))\n",
    "    tr_x = X_train_263[trn_idx]\n",
    "    tr_y = y_train[trn_idx]\n",
    "    # verbose = 0 为不在标准输出流输出日志信息\n",
    "    # verbose = 1 为输出进度条记录\n",
    "    # verbose = 2 为每个epoch输出一行记录\n",
    "    rfr_263 = rfr(n_estimators=1600, max_depth=9, min_samples_leaf=9, min_weight_fraction_leaf=0.0,\n",
    "                  max_features=0.25, verbose=0, n_jobs=-1)  # 并行化\n",
    "\n",
    "    rfr_263.fit(tr_x, tr_y)\n",
    "    oof_rfr_263[val_idx] = rfr_263.predict(X_train_263[val_idx])\n",
    "\n",
    "    predictions_rfr_263 += rfr_263.predict(X_test_263) / folds.n_splits\n",
    "\n",
    "print(\"CV score: {:<8.8f}\".format(mean_squared_error(oof_rfr_263, target)))"
   ]
  },
  {
   "cell_type": "markdown",
   "metadata": {},
   "source": [
    "##### 4.GradientBoostingRegressor梯度提升决策树"
   ]
  },
  {
   "cell_type": "code",
   "execution_count": 29,
   "metadata": {},
   "outputs": [
    {
     "name": "stdout",
     "output_type": "stream",
     "text": [
      "fold n°1\n",
      "fold n°2\n",
      "fold n°3\n",
      "fold n°4\n",
      "fold n°5\n",
      "CV score: 0.45699559\n"
     ]
    }
   ],
   "source": [
    "# GradientBoostingRegressor梯度提升决策树\n",
    "folds = StratifiedKFold(n_splits=5, shuffle=True, random_state=2018)\n",
    "oof_gbr_263 = np.zeros(train_shape)\n",
    "predictions_gbr_263 = np.zeros(len(X_test_263))\n",
    "\n",
    "for fold_, (trn_idx, val_idx) in enumerate(folds.split(X_train_263, y_train)):\n",
    "    print(\"fold n°{}\".format(fold_+1))\n",
    "    tr_x = X_train_263[trn_idx]\n",
    "    tr_y = y_train[trn_idx]\n",
    "    gbr_263 = gbr(n_estimators=400, learning_rate=0.01, subsample=0.65, max_depth=7, min_samples_leaf=20,\n",
    "                  max_features=0.22, verbose=0)\n",
    "    gbr_263.fit(tr_x, tr_y)\n",
    "    oof_gbr_263[val_idx] = gbr_263.predict(X_train_263[val_idx])\n",
    "\n",
    "    predictions_gbr_263 += gbr_263.predict(X_test_263) / folds.n_splits\n",
    "\n",
    "print(\"CV score: {:<8.8f}\".format(mean_squared_error(oof_gbr_263, target)))"
   ]
  },
  {
   "cell_type": "markdown",
   "metadata": {},
   "source": [
    "##### 5.ExtraTreesRegressor 极端随机森林回归"
   ]
  },
  {
   "cell_type": "code",
   "execution_count": 30,
   "metadata": {
    "scrolled": false
   },
   "outputs": [
    {
     "name": "stdout",
     "output_type": "stream",
     "text": [
      "fold n°1\n",
      "fold n°2\n",
      "fold n°3\n",
      "fold n°4\n",
      "fold n°5\n",
      "CV score: 0.48610236\n"
     ]
    }
   ],
   "source": [
    "# ExtraTreesRegressor 极端随机森林回归\n",
    "folds = KFold(n_splits=5, shuffle=True, random_state=13)\n",
    "oof_etr_263 = np.zeros(train_shape)\n",
    "predictions_etr_263 = np.zeros(len(X_test_263))\n",
    "\n",
    "for fold_, (trn_idx, val_idx) in enumerate(folds.split(X_train_263, y_train)):\n",
    "    print(\"fold n°{}\".format(fold_+1))\n",
    "    tr_x = X_train_263[trn_idx]\n",
    "    tr_y = y_train[trn_idx]\n",
    "    etr_263 = etr(n_estimators=1000, max_depth=8, min_samples_leaf=12, min_weight_fraction_leaf=0.0,\n",
    "                  max_features=0.4, verbose=0, n_jobs=-1)  # max_feature：划分时考虑的最大特征数\n",
    "    etr_263.fit(tr_x, tr_y)\n",
    "    oof_etr_263[val_idx] = etr_263.predict(X_train_263[val_idx])\n",
    "\n",
    "    predictions_etr_263 += etr_263.predict(X_test_263) / folds.n_splits\n",
    "\n",
    "print(\"CV score: {:<8.8f}\".format(mean_squared_error(oof_etr_263, target)))"
   ]
  },
  {
   "cell_type": "markdown",
   "metadata": {},
   "source": [
    "得到了以上5种模型的预测结果以及模型架构及参数。其中在每一种特征工程中，进行5折的交叉验证，并重复两次（Kernel Ridge Regression，核脊回归），取得每一个特征数下的模型的结果。"
   ]
  },
  {
   "cell_type": "code",
   "execution_count": 31,
   "metadata": {},
   "outputs": [
    {
     "name": "stdout",
     "output_type": "stream",
     "text": [
      "fold 0\n",
      "fold 1\n",
      "fold 2\n",
      "fold 3\n",
      "fold 4\n",
      "fold 5\n",
      "fold 6\n",
      "fold 7\n",
      "fold 8\n",
      "fold 9\n"
     ]
    },
    {
     "data": {
      "text/plain": [
       "0.44808285995555786"
      ]
     },
     "execution_count": 31,
     "metadata": {},
     "output_type": "execute_result"
    }
   ],
   "source": [
    "train_stack2 = np.vstack(\n",
    "    [oof_lgb_263, oof_xgb_263, oof_gbr_263, oof_rfr_263, oof_etr_263]).transpose()\n",
    "# transpose()函数的作用就是调换x,y,z的位置,也就是数组的索引值\n",
    "test_stack2 = np.vstack([predictions_lgb_263, predictions_xgb_263,\n",
    "                        predictions_gbr_263, predictions_rfr_263, predictions_etr_263]).transpose()\n",
    "\n",
    "# 交叉验证:5折，重复2次\n",
    "folds_stack = RepeatedKFold(n_splits=5, n_repeats=2, random_state=7)\n",
    "oof_stack2 = np.zeros(train_stack2.shape[0])\n",
    "predictions_lr2 = np.zeros(test_stack2.shape[0])\n",
    "\n",
    "for fold_, (trn_idx, val_idx) in enumerate(folds_stack.split(train_stack2, target)):\n",
    "    print(\"fold {}\".format(fold_))\n",
    "    trn_data, trn_y = train_stack2[trn_idx], target.iloc[trn_idx].values\n",
    "    val_data, val_y = train_stack2[val_idx], target.iloc[val_idx].values\n",
    "    # Kernel Ridge Regression\n",
    "    lr2 = kr()\n",
    "    lr2.fit(trn_data, trn_y)\n",
    "\n",
    "    oof_stack2[val_idx] = lr2.predict(val_data)\n",
    "    # 除以10是因为重复2次的5折交叉验证，共10次\n",
    "    predictions_lr2 += lr2.predict(test_stack2) / 10\n",
    "\n",
    "mean_squared_error(target.values, oof_stack2)"
   ]
  },
  {
   "cell_type": "markdown",
   "metadata": {},
   "source": [
    "#### 2.6.2 对重要的特征（49维）进行建模"
   ]
  },
  {
   "cell_type": "markdown",
   "metadata": {},
   "source": [
    "##### 1.LightGBM"
   ]
  },
  {
   "cell_type": "code",
   "execution_count": 32,
   "metadata": {},
   "outputs": [
    {
     "name": "stdout",
     "output_type": "stream",
     "text": [
      "fold n°1\n",
      "Training until validation scores don't improve for 1000 rounds\n",
      "[1000]\ttraining's l2: 0.471019\tvalid_1's l2: 0.494326\n",
      "[2000]\ttraining's l2: 0.430666\tvalid_1's l2: 0.474748\n",
      "[3000]\ttraining's l2: 0.408207\tvalid_1's l2: 0.469893\n",
      "[4000]\ttraining's l2: 0.390556\tvalid_1's l2: 0.46828\n",
      "[5000]\ttraining's l2: 0.375144\tvalid_1's l2: 0.46747\n",
      "[6000]\ttraining's l2: 0.361309\tvalid_1's l2: 0.467255\n",
      "Early stopping, best iteration is:\n",
      "[5457]\ttraining's l2: 0.368666\tvalid_1's l2: 0.467017\n",
      "fold n°2\n",
      "Training until validation scores don't improve for 1000 rounds\n",
      "[1000]\ttraining's l2: 0.471402\tvalid_1's l2: 0.493843\n",
      "[2000]\ttraining's l2: 0.43052\tvalid_1's l2: 0.474481\n",
      "[3000]\ttraining's l2: 0.407758\tvalid_1's l2: 0.469914\n",
      "[4000]\ttraining's l2: 0.389637\tvalid_1's l2: 0.46848\n",
      "[5000]\ttraining's l2: 0.374293\tvalid_1's l2: 0.467984\n",
      "[6000]\ttraining's l2: 0.360368\tvalid_1's l2: 0.46791\n",
      "[7000]\ttraining's l2: 0.347628\tvalid_1's l2: 0.468419\n",
      "Early stopping, best iteration is:\n",
      "[6259]\ttraining's l2: 0.356974\tvalid_1's l2: 0.467782\n",
      "fold n°3\n",
      "Training until validation scores don't improve for 1000 rounds\n",
      "[1000]\ttraining's l2: 0.474022\tvalid_1's l2: 0.487747\n",
      "[2000]\ttraining's l2: 0.433151\tvalid_1's l2: 0.464339\n",
      "[3000]\ttraining's l2: 0.410082\tvalid_1's l2: 0.460623\n",
      "[4000]\ttraining's l2: 0.392208\tvalid_1's l2: 0.460245\n",
      "Early stopping, best iteration is:\n",
      "[3588]\ttraining's l2: 0.399063\tvalid_1's l2: 0.459916\n",
      "fold n°4\n",
      "Training until validation scores don't improve for 1000 rounds\n",
      "[1000]\ttraining's l2: 0.467292\tvalid_1's l2: 0.508077\n",
      "[2000]\ttraining's l2: 0.427587\tvalid_1's l2: 0.489703\n",
      "[3000]\ttraining's l2: 0.405916\tvalid_1's l2: 0.48449\n",
      "[4000]\ttraining's l2: 0.388609\tvalid_1's l2: 0.48129\n",
      "[5000]\ttraining's l2: 0.373794\tvalid_1's l2: 0.479316\n",
      "[6000]\ttraining's l2: 0.360553\tvalid_1's l2: 0.477517\n",
      "[7000]\ttraining's l2: 0.348442\tvalid_1's l2: 0.476095\n",
      "[8000]\ttraining's l2: 0.337103\tvalid_1's l2: 0.474862\n",
      "[9000]\ttraining's l2: 0.326261\tvalid_1's l2: 0.474065\n",
      "[10000]\ttraining's l2: 0.31619\tvalid_1's l2: 0.47324\n",
      "[11000]\ttraining's l2: 0.306605\tvalid_1's l2: 0.47275\n",
      "[12000]\ttraining's l2: 0.297541\tvalid_1's l2: 0.472706\n",
      "Did not meet early stopping. Best iteration is:\n",
      "[12000]\ttraining's l2: 0.297541\tvalid_1's l2: 0.472706\n",
      "fold n°5\n",
      "Training until validation scores don't improve for 1000 rounds\n",
      "[1000]\ttraining's l2: 0.468538\tvalid_1's l2: 0.504093\n",
      "[2000]\ttraining's l2: 0.428006\tvalid_1's l2: 0.486731\n",
      "[3000]\ttraining's l2: 0.405601\tvalid_1's l2: 0.482439\n",
      "[4000]\ttraining's l2: 0.387814\tvalid_1's l2: 0.480658\n",
      "[5000]\ttraining's l2: 0.372535\tvalid_1's l2: 0.479483\n",
      "[6000]\ttraining's l2: 0.358699\tvalid_1's l2: 0.479134\n",
      "[7000]\ttraining's l2: 0.346094\tvalid_1's l2: 0.479209\n",
      "Early stopping, best iteration is:\n",
      "[6272]\ttraining's l2: 0.355147\tvalid_1's l2: 0.479113\n",
      "CV score: 0.46930531\n"
     ]
    }
   ],
   "source": [
    "# lgb_49\n",
    "# 一个叶子上数据的最小数量 \\ feature_fraction将会在每棵树训练之前选择 45% 的特征。可以用来加速训练，可以用来处理过拟合。\n",
    "# bagging_fraction不进行重采样的情况下随机选择部分数据。可以用来加速训练，可以用来处理过拟合。\n",
    "lgb_49_param = {\n",
    "    'num_leaves': 9,\n",
    "    'min_data_in_leaf': 23,\n",
    "    'objective': 'regression',\n",
    "    'max_depth': -1,\n",
    "    'learning_rate': 0.002,\n",
    "    \"boosting\": \"gbdt\",\n",
    "    \"feature_fraction\": 0.45,\n",
    "    \"bagging_freq\": 1,\n",
    "    \"bagging_fraction\": 0.65,\n",
    "    \"bagging_seed\": 15,\n",
    "    \"metric\": 'mse',\n",
    "    \"lambda_l2\": 0.2,\n",
    "    \"verbosity\": -1,\n",
    "    \"force_col_wise\": True}\n",
    "folds = StratifiedKFold(n_splits=5, shuffle=True, random_state=9)\n",
    "oof_lgb_49 = np.zeros(len(X_train_49))\n",
    "predictions_lgb_49 = np.zeros(len(X_test_49))\n",
    "\n",
    "for fold_, (trn_idx, val_idx) in enumerate(folds.split(X_train_49, y_train)):\n",
    "    print(\"fold n°{}\".format(fold_+1))\n",
    "    trn_data = lgb.Dataset(X_train_49[trn_idx], y_train[trn_idx])\n",
    "    val_data = lgb.Dataset(X_train_49[val_idx], y_train[val_idx])\n",
    "\n",
    "    num_round = 12000\n",
    "    lgb_49 = lgb.train(lgb_49_param, trn_data, num_round, valid_sets=[\n",
    "                       trn_data, val_data], verbose_eval=1000, early_stopping_rounds=1000)\n",
    "    oof_lgb_49[val_idx] = lgb_49.predict(\n",
    "        X_train_49[val_idx], num_iteration=lgb_49.best_iteration)\n",
    "    predictions_lgb_49 += lgb_49.predict(X_test_49,\n",
    "                                         num_iteration=lgb_49.best_iteration) / folds.n_splits\n",
    "\n",
    "print(\"CV score: {:<8.8f}\".format(mean_squared_error(oof_lgb_49, target)))"
   ]
  },
  {
   "cell_type": "markdown",
   "metadata": {},
   "source": [
    "##### 2.XGBoost"
   ]
  },
  {
   "cell_type": "code",
   "execution_count": 33,
   "metadata": {},
   "outputs": [
    {
     "name": "stdout",
     "output_type": "stream",
     "text": [
      "fold n°1\n",
      "[0]\ttrain-rmse:3.40422\tvalid_data-rmse:3.38325\n",
      "[500]\ttrain-rmse:0.52669\tvalid_data-rmse:0.71888\n",
      "[1000]\ttrain-rmse:0.43538\tvalid_data-rmse:0.72006\n",
      "[1201]\ttrain-rmse:0.40366\tvalid_data-rmse:0.72215\n",
      "fold n°2\n",
      "[0]\ttrain-rmse:3.39826\tvalid_data-rmse:3.40774\n",
      "[500]\ttrain-rmse:0.52848\tvalid_data-rmse:0.70257\n",
      "[1000]\ttrain-rmse:0.43896\tvalid_data-rmse:0.70373\n",
      "[1200]\ttrain-rmse:0.40824\tvalid_data-rmse:0.70477\n",
      "fold n°3\n",
      "[0]\ttrain-rmse:3.40193\tvalid_data-rmse:3.39292\n",
      "[500]\ttrain-rmse:0.53210\tvalid_data-rmse:0.66724\n",
      "[1000]\ttrain-rmse:0.43940\tvalid_data-rmse:0.66994\n",
      "[1057]\ttrain-rmse:0.43049\tvalid_data-rmse:0.67011\n",
      "fold n°4\n",
      "[0]\ttrain-rmse:3.40244\tvalid_data-rmse:3.39011\n",
      "[500]\ttrain-rmse:0.53292\tvalid_data-rmse:0.68121\n",
      "[1000]\ttrain-rmse:0.44117\tvalid_data-rmse:0.68323\n",
      "[1067]\ttrain-rmse:0.43054\tvalid_data-rmse:0.68362\n",
      "fold n°5\n",
      "[0]\ttrain-rmse:3.39341\tvalid_data-rmse:3.42628\n",
      "[500]\ttrain-rmse:0.53509\tvalid_data-rmse:0.66088\n",
      "[1000]\ttrain-rmse:0.44116\tvalid_data-rmse:0.66250\n",
      "[1132]\ttrain-rmse:0.42087\tvalid_data-rmse:0.66347\n",
      "CV score: 0.47024327\n"
     ]
    }
   ],
   "source": [
    "# xgb_49\n",
    "xgb_49_params = {'eta': 0.02,\n",
    "                 'max_depth': 5,\n",
    "                 'min_child_weight': 3,\n",
    "                 'gamma': 0,\n",
    "                 'subsample': 0.7,\n",
    "                 'colsample_bytree': 0.35,\n",
    "                 'lambda': 2,\n",
    "                 'objective': 'reg:linear',\n",
    "                 'objective': 'reg:squarederror',\n",
    "                 'eval_metric': 'rmse',\n",
    "                 'nthread': -1}\n",
    "\n",
    "\n",
    "folds = KFold(n_splits=5, shuffle=True, random_state=2019)\n",
    "oof_xgb_49 = np.zeros(len(X_train_49))\n",
    "predictions_xgb_49 = np.zeros(len(X_test_49))\n",
    "\n",
    "for fold_, (trn_idx, val_idx) in enumerate(folds.split(X_train_49, y_train)):\n",
    "    print(\"fold n°{}\".format(fold_+1))\n",
    "    trn_data = xgb.DMatrix(X_train_49[trn_idx], y_train[trn_idx])\n",
    "    val_data = xgb.DMatrix(X_train_49[val_idx], y_train[val_idx])\n",
    "\n",
    "    watchlist = [(trn_data, 'train'), (val_data, 'valid_data')]\n",
    "    xgb_49 = xgb.train(dtrain=trn_data, num_boost_round=3000, evals=watchlist,\n",
    "                       early_stopping_rounds=600, verbose_eval=500, params=xgb_49_params)\n",
    "    oof_xgb_49[val_idx] = xgb_49.predict(xgb.DMatrix(\n",
    "        X_train_49[val_idx]), ntree_limit=xgb_49.best_ntree_limit)\n",
    "    predictions_xgb_49 += xgb_49.predict(xgb.DMatrix(X_test_49),\n",
    "                                         ntree_limit=xgb_49.best_ntree_limit) / folds.n_splits\n",
    "\n",
    "print(\"CV score: {:<8.8f}\".format(mean_squared_error(oof_xgb_49, target)))"
   ]
  },
  {
   "cell_type": "markdown",
   "metadata": {},
   "source": [
    "##### 3.GradientBoostingRegressor梯度提升决策树"
   ]
  },
  {
   "cell_type": "code",
   "execution_count": 34,
   "metadata": {},
   "outputs": [
    {
     "name": "stdout",
     "output_type": "stream",
     "text": [
      "fold n°1\n",
      "fold n°2\n",
      "fold n°3\n",
      "fold n°4\n",
      "fold n°5\n",
      "CV score: 0.47133568\n"
     ]
    }
   ],
   "source": [
    "folds = StratifiedKFold(n_splits=5, shuffle=True, random_state=2018)\n",
    "oof_gbr_49 = np.zeros(train_shape)\n",
    "predictions_gbr_49 = np.zeros(len(X_test_49))\n",
    "\n",
    "# GradientBoostingRegressor梯度提升决策树\n",
    "for fold_, (trn_idx, val_idx) in enumerate(folds.split(X_train_49, y_train)):\n",
    "    print(\"fold n°{}\".format(fold_+1))\n",
    "    tr_x = X_train_49[trn_idx]\n",
    "    tr_y = y_train[trn_idx]\n",
    "    gbr_49 = gbr(n_estimators=600, learning_rate=0.01, subsample=0.65, max_depth=6, min_samples_leaf=20,\n",
    "                 max_features=0.35, verbose=0)\n",
    "    gbr_49.fit(tr_x, tr_y)\n",
    "    oof_gbr_49[val_idx] = gbr_49.predict(X_train_49[val_idx])\n",
    "\n",
    "    predictions_gbr_49 += gbr_49.predict(X_test_49) / folds.n_splits\n",
    "\n",
    "print(\"CV score: {:<8.8f}\".format(mean_squared_error(oof_gbr_49, target)))"
   ]
  },
  {
   "cell_type": "markdown",
   "metadata": {},
   "source": [
    "至此，得到了以上3种模型的基于49个特征的预测结果、模型以及参数。其中在每一种特征工程中，进行5折的交叉验证，并重复两次（Kernel Ridge Regression，核脊回归），取得每一个特征下的模型结果。"
   ]
  },
  {
   "cell_type": "code",
   "execution_count": 35,
   "metadata": {},
   "outputs": [
    {
     "name": "stdout",
     "output_type": "stream",
     "text": [
      "fold 0\n",
      "fold 1\n",
      "fold 2\n",
      "fold 3\n",
      "fold 4\n",
      "fold 5\n",
      "fold 6\n",
      "fold 7\n",
      "fold 8\n",
      "fold 9\n"
     ]
    },
    {
     "data": {
      "text/plain": [
       "0.4674133026936052"
      ]
     },
     "execution_count": 35,
     "metadata": {},
     "output_type": "execute_result"
    }
   ],
   "source": [
    "train_stack3 = np.vstack([oof_lgb_49, oof_xgb_49, oof_gbr_49]).transpose()\n",
    "test_stack3 = np.vstack(\n",
    "    [predictions_lgb_49, predictions_xgb_49, predictions_gbr_49]).transpose()\n",
    "\n",
    "folds_stack = RepeatedKFold(n_splits=5, n_repeats=2, random_state=7)\n",
    "oof_stack3 = np.zeros(train_stack3.shape[0])\n",
    "predictions_lr3 = np.zeros(test_stack3.shape[0])\n",
    "\n",
    "# 交叉验证:5折，重复2次\n",
    "for fold_, (trn_idx, val_idx) in enumerate(folds_stack.split(train_stack3, target)):\n",
    "    print(\"fold {}\".format(fold_))\n",
    "    trn_data, trn_y = train_stack3[trn_idx], target.iloc[trn_idx].values\n",
    "    val_data, val_y = train_stack3[val_idx], target.iloc[val_idx].values\n",
    "    # Kernel Ridge Regression\n",
    "    lr3 = kr()\n",
    "    lr3.fit(trn_data, trn_y)\n",
    "\n",
    "    oof_stack3[val_idx] = lr3.predict(val_data)\n",
    "    predictions_lr3 += lr3.predict(test_stack3) / 10\n",
    "\n",
    "mean_squared_error(target.values, oof_stack3)"
   ]
  },
  {
   "cell_type": "markdown",
   "metadata": {},
   "source": [
    "#### 2.6.3 对one-hot编码之后的特征（383维）进行建模\n",
    "\n",
    "##### 1.Kernel Ridge Regression 基于核的岭回归"
   ]
  },
  {
   "cell_type": "code",
   "execution_count": 36,
   "metadata": {},
   "outputs": [
    {
     "name": "stdout",
     "output_type": "stream",
     "text": [
      "fold n°1\n",
      "fold n°2\n",
      "fold n°3\n",
      "fold n°4\n",
      "fold n°5\n",
      "CV score: 0.52582616\n"
     ]
    }
   ],
   "source": [
    "folds = KFold(n_splits=5, shuffle=True, random_state=13)\n",
    "oof_kr_383 = np.zeros(train_shape)\n",
    "predictions_kr_383 = np.zeros(len(X_test_383))\n",
    "\n",
    "for fold_, (trn_idx, val_idx) in enumerate(folds.split(X_train_383, y_train)):\n",
    "    print(\"fold n°{}\".format(fold_+1))\n",
    "    tr_x = X_train_383[trn_idx]\n",
    "    tr_y = y_train[trn_idx]\n",
    "    \n",
    "    # Kernel Ridge Regression 岭回归\n",
    "    kr_383 = kr()\n",
    "    kr_383.fit(tr_x, tr_y)\n",
    "    oof_kr_383[val_idx] = kr_383.predict(X_train_383[val_idx])\n",
    "\n",
    "    predictions_kr_383 += kr_383.predict(X_test_383) / folds.n_splits\n",
    "\n",
    "print(\"CV score: {:<8.8f}\".format(mean_squared_error(oof_kr_383, target)))"
   ]
  },
  {
   "cell_type": "markdown",
   "metadata": {},
   "source": [
    "##### 2.普通岭回归"
   ]
  },
  {
   "cell_type": "code",
   "execution_count": 37,
   "metadata": {},
   "outputs": [
    {
     "name": "stdout",
     "output_type": "stream",
     "text": [
      "fold n°1\n",
      "fold n°2\n",
      "fold n°3\n",
      "fold n°4\n",
      "fold n°5\n",
      "CV score: 0.48687670\n"
     ]
    }
   ],
   "source": [
    "folds = KFold(n_splits=5, shuffle=True, random_state=13)\n",
    "oof_ridge_383 = np.zeros(train_shape)\n",
    "predictions_ridge_383 = np.zeros(len(X_test_383))\n",
    "\n",
    "for fold_, (trn_idx, val_idx) in enumerate(folds.split(X_train_383, y_train)):\n",
    "    print(\"fold n°{}\".format(fold_+1))\n",
    "    tr_x = X_train_383[trn_idx]\n",
    "    tr_y = y_train[trn_idx]\n",
    "    # 使用岭回归\n",
    "    ridge_383 = Ridge(alpha=1200)\n",
    "    ridge_383.fit(tr_x, tr_y)\n",
    "    oof_ridge_383[val_idx] = ridge_383.predict(X_train_383[val_idx])\n",
    "\n",
    "    predictions_ridge_383 += ridge_383.predict(X_test_383) / folds.n_splits\n",
    "\n",
    "print(\"CV score: {:<8.8f}\".format(mean_squared_error(oof_ridge_383, target)))"
   ]
  },
  {
   "cell_type": "markdown",
   "metadata": {},
   "source": [
    "##### 3.ElasticNet 弹性网络"
   ]
  },
  {
   "cell_type": "code",
   "execution_count": 38,
   "metadata": {},
   "outputs": [
    {
     "name": "stdout",
     "output_type": "stream",
     "text": [
      "fold n°1\n",
      "fold n°2\n",
      "fold n°3\n",
      "fold n°4\n",
      "fold n°5\n",
      "CV score: 0.53296555\n"
     ]
    }
   ],
   "source": [
    "folds = KFold(n_splits=5, shuffle=True, random_state=13)\n",
    "oof_en_383 = np.zeros(train_shape)\n",
    "predictions_en_383 = np.zeros(len(X_test_383))\n",
    "\n",
    "for fold_, (trn_idx, val_idx) in enumerate(folds.split(X_train_383, y_train)):\n",
    "    print(\"fold n°{}\".format(fold_+1))\n",
    "    tr_x = X_train_383[trn_idx]\n",
    "    tr_y = y_train[trn_idx]\n",
    "    # ElasticNet 弹性网络\n",
    "    en_383 = en(alpha=1.0, l1_ratio=0.06)\n",
    "    en_383.fit(tr_x, tr_y)\n",
    "    oof_en_383[val_idx] = en_383.predict(X_train_383[val_idx])\n",
    "\n",
    "    predictions_en_383 += en_383.predict(X_test_383) / folds.n_splits\n",
    "\n",
    "print(\"CV score: {:<8.8f}\".format(mean_squared_error(oof_en_383, target)))"
   ]
  },
  {
   "cell_type": "markdown",
   "metadata": {},
   "source": [
    "##### 4.BayesianRidge贝叶斯岭回归"
   ]
  },
  {
   "cell_type": "code",
   "execution_count": 39,
   "metadata": {},
   "outputs": [
    {
     "name": "stdout",
     "output_type": "stream",
     "text": [
      "fold n°1\n",
      "fold n°2\n",
      "fold n°3\n",
      "fold n°4\n",
      "fold n°5\n",
      "CV score: 0.48717330\n"
     ]
    }
   ],
   "source": [
    "folds = KFold(n_splits=5, shuffle=True, random_state=13)\n",
    "oof_br_383 = np.zeros(train_shape)\n",
    "predictions_br_383 = np.zeros(len(X_test_383))\n",
    "\n",
    "for fold_, (trn_idx, val_idx) in enumerate(folds.split(X_train_383, y_train)):\n",
    "    print(\"fold n°{}\".format(fold_+1))\n",
    "    tr_x = X_train_383[trn_idx]\n",
    "    tr_y = y_train[trn_idx]\n",
    "    # BayesianRidge 贝叶斯回归\n",
    "    br_383 = br()\n",
    "    br_383.fit(tr_x, tr_y)\n",
    "    oof_br_383[val_idx] = br_383.predict(X_train_383[val_idx])\n",
    "\n",
    "    predictions_br_383 += br_383.predict(X_test_383) / folds.n_splits\n",
    "\n",
    "print(\"CV score: {:<8.8f}\".format(mean_squared_error(oof_br_383, target)))"
   ]
  },
  {
   "cell_type": "markdown",
   "metadata": {},
   "source": [
    "至此，得到了以上4种模型的基于383个特征的预测结果、模型及参数。其中在每一种特征工程中，进行5折的交叉验证，并重复两次（LinearRegression简单的线性回归），取得每一个特征下的模型结果。"
   ]
  },
  {
   "cell_type": "code",
   "execution_count": 40,
   "metadata": {},
   "outputs": [
    {
     "name": "stdout",
     "output_type": "stream",
     "text": [
      "fold 0\n",
      "fold 1\n",
      "fold 2\n",
      "fold 3\n",
      "fold 4\n",
      "fold 5\n",
      "fold 6\n",
      "fold 7\n",
      "fold 8\n",
      "fold 9\n"
     ]
    },
    {
     "data": {
      "text/plain": [
       "0.4879737673389125"
      ]
     },
     "execution_count": 40,
     "metadata": {},
     "output_type": "execute_result"
    }
   ],
   "source": [
    "train_stack1 = np.vstack(\n",
    "    [oof_br_383, oof_kr_383, oof_en_383, oof_ridge_383]).transpose()\n",
    "test_stack1 = np.vstack([predictions_br_383, predictions_kr_383,\n",
    "                        predictions_en_383, predictions_ridge_383]).transpose()\n",
    "\n",
    "folds_stack = RepeatedKFold(n_splits=5, n_repeats=2, random_state=7)\n",
    "oof_stack1 = np.zeros(train_stack1.shape[0])\n",
    "predictions_lr1 = np.zeros(test_stack1.shape[0])\n",
    "\n",
    "for fold_, (trn_idx, val_idx) in enumerate(folds_stack.split(train_stack1, target)):\n",
    "    print(\"fold {}\".format(fold_))\n",
    "    trn_data, trn_y = train_stack1[trn_idx], target.iloc[trn_idx].values\n",
    "    val_data, val_y = train_stack1[val_idx], target.iloc[val_idx].values\n",
    "    # LinearRegression简单的线性回归\n",
    "    lr1 = lr()\n",
    "    lr1.fit(trn_data, trn_y)\n",
    "\n",
    "    oof_stack1[val_idx] = lr1.predict(val_data)\n",
    "    predictions_lr1 += lr1.predict(test_stack1) / 10\n",
    "\n",
    "mean_squared_error(target.values, oof_stack1)"
   ]
  },
  {
   "cell_type": "markdown",
   "metadata": {},
   "source": [
    "#### 2.6.4 对重要的特征（49维）进行更多的建模\n",
    "\n",
    "##### 1.KernelRidge核岭回归"
   ]
  },
  {
   "cell_type": "code",
   "execution_count": 41,
   "metadata": {},
   "outputs": [
    {
     "name": "stdout",
     "output_type": "stream",
     "text": [
      "fold n°1\n",
      "fold n°2\n",
      "fold n°3\n",
      "fold n°4\n",
      "fold n°5\n",
      "CV score: 0.50255991\n"
     ]
    }
   ],
   "source": [
    "folds = KFold(n_splits=5, shuffle=True, random_state=13)\n",
    "oof_kr_49 = np.zeros(train_shape)\n",
    "predictions_kr_49 = np.zeros(len(X_test_49))\n",
    "\n",
    "for fold_, (trn_idx, val_idx) in enumerate(folds.split(X_train_49, y_train)):\n",
    "    print(\"fold n°{}\".format(fold_+1))\n",
    "    tr_x = X_train_49[trn_idx]\n",
    "    tr_y = y_train[trn_idx]\n",
    "    kr_49 = kr()\n",
    "    kr_49.fit(tr_x, tr_y)\n",
    "    oof_kr_49[val_idx] = kr_49.predict(X_train_49[val_idx])\n",
    "\n",
    "    predictions_kr_49 += kr_49.predict(X_test_49) / folds.n_splits\n",
    "\n",
    "print(\"CV score: {:<8.8f}\".format(mean_squared_error(oof_kr_49, target)))"
   ]
  },
  {
   "cell_type": "markdown",
   "metadata": {},
   "source": [
    "##### 2.Ridge岭回归"
   ]
  },
  {
   "cell_type": "code",
   "execution_count": 42,
   "metadata": {},
   "outputs": [
    {
     "name": "stdout",
     "output_type": "stream",
     "text": [
      "fold n°1\n",
      "fold n°2\n",
      "fold n°3\n",
      "fold n°4\n",
      "fold n°5\n",
      "CV score: 0.49451286\n"
     ]
    }
   ],
   "source": [
    "folds = KFold(n_splits=5, shuffle=True, random_state=13)\n",
    "oof_ridge_49 = np.zeros(train_shape)\n",
    "predictions_ridge_49 = np.zeros(len(X_test_49))\n",
    "\n",
    "for fold_, (trn_idx, val_idx) in enumerate(folds.split(X_train_49, y_train)):\n",
    "    print(\"fold n°{}\".format(fold_+1))\n",
    "    tr_x = X_train_49[trn_idx]\n",
    "    tr_y = y_train[trn_idx]\n",
    "    ridge_49 = Ridge(alpha=6)\n",
    "    ridge_49.fit(tr_x, tr_y)\n",
    "    oof_ridge_49[val_idx] = ridge_49.predict(X_train_49[val_idx])\n",
    "\n",
    "    predictions_ridge_49 += ridge_49.predict(X_test_49) / folds.n_splits\n",
    "\n",
    "print(\"CV score: {:<8.8f}\".format(mean_squared_error(oof_ridge_49, target)))"
   ]
  },
  {
   "cell_type": "markdown",
   "metadata": {},
   "source": [
    "##### 3.BayesianRidge贝叶斯岭回归"
   ]
  },
  {
   "cell_type": "code",
   "execution_count": 43,
   "metadata": {},
   "outputs": [
    {
     "name": "stdout",
     "output_type": "stream",
     "text": [
      "fold n°1\n",
      "fold n°2\n",
      "fold n°3\n",
      "fold n°4\n",
      "fold n°5\n",
      "CV score: 0.49534595\n"
     ]
    }
   ],
   "source": [
    "folds = KFold(n_splits=5, shuffle=True, random_state=13)\n",
    "oof_br_49 = np.zeros(train_shape)\n",
    "predictions_br_49 = np.zeros(len(X_test_49))\n",
    "\n",
    "for fold_, (trn_idx, val_idx) in enumerate(folds.split(X_train_49, y_train)):\n",
    "    print(\"fold n°{}\".format(fold_+1))\n",
    "    tr_x = X_train_49[trn_idx]\n",
    "    tr_y = y_train[trn_idx]\n",
    "    br_49 = br()\n",
    "    br_49.fit(tr_x,tr_y)\n",
    "    oof_br_49[val_idx] = br_49.predict(X_train_49[val_idx])\n",
    "    \n",
    "    predictions_br_49 += br_49.predict(X_test_49) / folds.n_splits\n",
    "\n",
    "print(\"CV score: {:<8.8f}\".format(mean_squared_error(oof_br_49, target)))"
   ]
  },
  {
   "cell_type": "markdown",
   "metadata": {},
   "source": [
    "##### 4.ElasticNet弹性网络"
   ]
  },
  {
   "cell_type": "code",
   "execution_count": 44,
   "metadata": {},
   "outputs": [
    {
     "name": "stdout",
     "output_type": "stream",
     "text": [
      "fold n°1\n",
      "fold n°2\n",
      "fold n°3\n",
      "fold n°4\n",
      "fold n°5\n",
      "CV score: 0.53841695\n"
     ]
    }
   ],
   "source": [
    "folds = KFold(n_splits=5, shuffle=True, random_state=13)\n",
    "oof_en_49 = np.zeros(train_shape)\n",
    "predictions_en_49 = np.zeros(len(X_test_49))\n",
    "\n",
    "for fold_, (trn_idx, val_idx) in enumerate(folds.split(X_train_49, y_train)):\n",
    "    print(\"fold n°{}\".format(fold_+1))\n",
    "    tr_x = X_train_49[trn_idx]\n",
    "    tr_y = y_train[trn_idx]\n",
    "    en_49 = en(alpha=1.0, l1_ratio=0.05)\n",
    "    en_49.fit(tr_x, tr_y)\n",
    "    oof_en_49[val_idx] = en_49.predict(X_train_49[val_idx])\n",
    "\n",
    "    predictions_en_49 += en_49.predict(X_test_49) / folds.n_splits\n",
    "\n",
    "print(\"CV score: {:<8.8f}\".format(mean_squared_error(oof_en_49, target)))"
   ]
  },
  {
   "cell_type": "markdown",
   "metadata": {},
   "source": [
    "可得到了以上4种新模型的基于49个特征的预测结果、模型及参数。其中在每一种特征工程中，进行5折的交叉验证，并重复两次（LinearRegression简单的线性回归），取得每一个特征下的模型结果。"
   ]
  },
  {
   "cell_type": "code",
   "execution_count": 45,
   "metadata": {},
   "outputs": [
    {
     "name": "stdout",
     "output_type": "stream",
     "text": [
      "fold 0\n",
      "fold 1\n",
      "fold 2\n",
      "fold 3\n",
      "fold 4\n",
      "fold 5\n",
      "fold 6\n",
      "fold 7\n",
      "fold 8\n",
      "fold 9\n"
     ]
    },
    {
     "data": {
      "text/plain": [
       "0.49491522644555636"
      ]
     },
     "execution_count": 45,
     "metadata": {},
     "output_type": "execute_result"
    }
   ],
   "source": [
    "train_stack4 = np.vstack(\n",
    "    [oof_br_49, oof_kr_49, oof_en_49, oof_ridge_49]).transpose()\n",
    "test_stack4 = np.vstack([predictions_br_49, predictions_kr_49,\n",
    "                        predictions_en_49, predictions_ridge_49]).transpose()\n",
    "\n",
    "folds_stack = RepeatedKFold(n_splits=5, n_repeats=2, random_state=7)\n",
    "oof_stack4 = np.zeros(train_stack4.shape[0])\n",
    "predictions_lr4 = np.zeros(test_stack4.shape[0])\n",
    "\n",
    "for fold_, (trn_idx, val_idx) in enumerate(folds_stack.split(train_stack4, target)):\n",
    "    print(\"fold {}\".format(fold_))\n",
    "    trn_data, trn_y = train_stack4[trn_idx], target.iloc[trn_idx].values\n",
    "    val_data, val_y = train_stack4[val_idx], target.iloc[val_idx].values\n",
    "    # LinearRegression\n",
    "    lr4 = lr()\n",
    "    lr4.fit(trn_data, trn_y)\n",
    "\n",
    "    oof_stack4[val_idx] = lr4.predict(val_data)\n",
    "    predictions_lr4 += lr4.predict(test_stack1) / 10\n",
    "\n",
    "mean_squared_error(target.values, oof_stack4)"
   ]
  },
  {
   "cell_type": "markdown",
   "metadata": {},
   "source": [
    "### 2.7 模型融合"
   ]
  },
  {
   "cell_type": "markdown",
   "metadata": {},
   "source": [
    "将以上的4种集成学习模型再次进行集成学习的训练，可直接使用LinearRegression简单线性回归的进行集成。"
   ]
  },
  {
   "cell_type": "code",
   "execution_count": 46,
   "metadata": {},
   "outputs": [
    {
     "name": "stdout",
     "output_type": "stream",
     "text": [
      "fold 0\n",
      "fold 1\n",
      "fold 2\n",
      "fold 3\n",
      "fold 4\n",
      "fold 5\n",
      "fold 6\n",
      "fold 7\n",
      "fold 8\n",
      "fold 9\n"
     ]
    },
    {
     "data": {
      "text/plain": [
       "0.44806916574215994"
      ]
     },
     "execution_count": 46,
     "metadata": {},
     "output_type": "execute_result"
    }
   ],
   "source": [
    "train_stack5 = np.vstack(\n",
    "    [oof_stack1, oof_stack2, oof_stack3, oof_stack4]).transpose()\n",
    "test_stack5 = np.vstack([predictions_lr1, predictions_lr2,\n",
    "                        predictions_lr3, predictions_lr4]).transpose()\n",
    "\n",
    "folds_stack = RepeatedKFold(n_splits=5, n_repeats=2, random_state=7)\n",
    "oof_stack5 = np.zeros(train_stack5.shape[0])\n",
    "predictions_lr5 = np.zeros(test_stack5.shape[0])\n",
    "\n",
    "for fold_, (trn_idx, val_idx) in enumerate(folds_stack.split(train_stack5, target)):\n",
    "    print(\"fold {}\".format(fold_))\n",
    "    trn_data, trn_y = train_stack5[trn_idx], target.iloc[trn_idx].values\n",
    "    val_data, val_y = train_stack5[val_idx], target.iloc[val_idx].values\n",
    "    # LinearRegression\n",
    "    lr5 = lr()\n",
    "    lr5.fit(trn_data, trn_y)\n",
    "\n",
    "    oof_stack5[val_idx] = lr5.predict(val_data)\n",
    "    predictions_lr5 += lr5.predict(test_stack5) / 10\n",
    "\n",
    "mean_squared_error(target.values, oof_stack5)"
   ]
  },
  {
   "cell_type": "markdown",
   "metadata": {},
   "source": [
    "### 2.8 保存结果"
   ]
  },
  {
   "cell_type": "code",
   "execution_count": 47,
   "metadata": {},
   "outputs": [
    {
     "data": {
      "text/plain": [
       "array([3.82311463, 2.87474409, 3.47787113, ..., 4.00686539, 3.99606513,\n",
       "       4.90726537])"
      ]
     },
     "execution_count": 47,
     "metadata": {},
     "output_type": "execute_result"
    }
   ],
   "source": [
    "predictions_lr5"
   ]
  },
  {
   "cell_type": "code",
   "execution_count": 48,
   "metadata": {},
   "outputs": [
    {
     "data": {
      "text/plain": [
       "count    2968.000000\n",
       "mean        3.880071\n",
       "std         0.462741\n",
       "min         1.683506\n",
       "25%         3.669306\n",
       "50%         3.951973\n",
       "75%         4.187723\n",
       "max         5.036309\n",
       "Name: happiness, dtype: float64"
      ]
     },
     "execution_count": 48,
     "metadata": {},
     "output_type": "execute_result"
    }
   ],
   "source": [
    "# 读取样例文件，用于得到提交格式\n",
    "submit_example = pd.read_csv('../assets/ch06/case01/submit_example.csv', sep=',', encoding='latin-1')\n",
    "# 将预测结果赋值给预测列\n",
    "submit_example['happiness'] = predictions_lr5\n",
    "# 查看幸福感分布\n",
    "submit_example.happiness.describe()"
   ]
  },
  {
   "cell_type": "markdown",
   "metadata": {},
   "source": [
    "由于预测结果是1-5的连续值，但是需要的是整数值，必须进行整数解的近似，并保存到了csv文件中。"
   ]
  },
  {
   "cell_type": "code",
   "execution_count": 49,
   "metadata": {},
   "outputs": [
    {
     "data": {
      "text/plain": [
       "count    2968.000000\n",
       "mean        3.866577\n",
       "std         0.484740\n",
       "min         2.000000\n",
       "25%         4.000000\n",
       "50%         4.000000\n",
       "75%         4.000000\n",
       "max         5.000000\n",
       "Name: happiness, dtype: float64"
      ]
     },
     "execution_count": 49,
     "metadata": {},
     "output_type": "execute_result"
    }
   ],
   "source": [
    "submit_example['happiness'] = submit_example['happiness'].apply(\n",
    "    lambda val: np.around(val))\n",
    "\n",
    "submit_example.to_csv(\"submision.csv\", index=False)\n",
    "submit_example.happiness.describe()"
   ]
  }
 ],
 "metadata": {
  "kernelspec": {
   "display_name": "Python 3",
   "language": "python",
   "name": "python3"
  },
  "language_info": {
   "codemirror_mode": {
    "name": "ipython",
    "version": 3
   },
   "file_extension": ".py",
   "mimetype": "text/x-python",
   "name": "python",
   "nbconvert_exporter": "python",
   "pygments_lexer": "ipython3",
   "version": "3.7.9"
  },
  "toc": {
   "base_numbering": 1,
   "nav_menu": {},
   "number_sections": false,
   "sideBar": true,
   "skip_h1_title": false,
   "title_cell": "Table of Contents",
   "title_sidebar": "Contents",
   "toc_cell": false,
   "toc_position": {
    "height": "calc(100% - 180px)",
    "left": "10px",
    "top": "150px",
    "width": "382.448px"
   },
   "toc_section_display": true,
   "toc_window_display": false
  }
 },
 "nbformat": 4,
 "nbformat_minor": 1
}
