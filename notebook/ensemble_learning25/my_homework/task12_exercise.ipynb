{
 "cells": [
  {
   "cell_type": "markdown",
   "metadata": {
    "collapsed": true
   },
   "source": [
    "# Task12 Blending集成学习算法"
   ]
  },
  {
   "cell_type": "markdown",
   "metadata": {},
   "source": [
    "## 1 知识梳理"
   ]
  },
  {
   "cell_type": "markdown",
   "metadata": {},
   "source": [
    "### 1.1 Blending集成学习思路\n",
    "1. 将数据按照一定比例划分为训练集和测试集，其中训练集按照一定比例再次划分为训练集和验证集\n",
    "2. 创建第一层的多个同质或异质模型\n",
    "3. 使用训练集数据对第一层模型进行训练，然后使用验证集和测试集进行模型验证和测试，得到`val_predict`，`test_predict`\n",
    "4. 创建第二层的模型（一般是线性模型），使用`val_predict`作为第二层模型的训练集\n",
    "5. 使用训练好的第二层模型对`test_predict`进行预测，将得到的结果作为整个测试集的结果\n",
    "\n",
    "![jupyter](../assets/ch05/3.jpg)"
   ]
  },
  {
   "cell_type": "markdown",
   "metadata": {},
   "source": [
    "### 1.2 Blending集成学习的优劣\n",
    "- 优点：方法简单，使用传递的方法进行训练、验证、测试\n",
    "- 缺点：只使用一部分数据集进行模型验证"
   ]
  },
  {
   "cell_type": "markdown",
   "metadata": {},
   "source": [
    "## 2 实战练习"
   ]
  },
  {
   "cell_type": "markdown",
   "metadata": {},
   "source": [
    "### 2.1 Blending集成学习自编程"
   ]
  },
  {
   "cell_type": "code",
   "execution_count": 1,
   "metadata": {},
   "outputs": [],
   "source": [
    "import numpy as np\n",
    "from sklearn.metrics import accuracy_score\n",
    "from sklearn.linear_model import LogisticRegression\n",
    "\n",
    "\n",
    "class Blending:\n",
    "    def __init__(self, X_train, X_val, y_train, y_val, models):\n",
    "        self.X_train = X_train\n",
    "        self.X_val = X_val\n",
    "        self.y_train = y_train\n",
    "        self.y_val = y_val\n",
    "        self.models = models\n",
    "\n",
    "    def fit_ensemble(self):\n",
    "        y_predict = list()\n",
    "        for name, model in self.models:\n",
    "            model.fit(self.X_train, self.y_train)\n",
    "            yhat = model.predict_proba(self.X_val)\n",
    "            # 将得到的预测值作为blending的第二层模型输入\n",
    "            y_predict.append(yhat)\n",
    "\n",
    "        y_predict = np.hstack(y_predict)\n",
    "        # 构建第二层模型\n",
    "        self.blender = LogisticRegression()\n",
    "        # 训练第二层模型\n",
    "        self.blender.fit(y_predict, y_val)\n",
    "\n",
    "    def predict_ensemble(self, X_test):\n",
    "        meta_X = list()\n",
    "        for name, model in self.models:\n",
    "            # 第一层模型预测\n",
    "            yhat = model.predict_proba(X_test)\n",
    "            meta_X.append(yhat)\n",
    "        meta_X = np.hstack(meta_X)\n",
    "        # 第二层模型预测\n",
    "        self.y_predict = self.blender.predict(meta_X)\n",
    "        return self.y_predict\n",
    "\n",
    "    @staticmethod\n",
    "    def score(y_test, yhat):\n",
    "        score = accuracy_score(y_test, yhat)\n",
    "        print('Blending Accuracy: %.3f' % (score * 100))"
   ]
  },
  {
   "cell_type": "markdown",
   "metadata": {},
   "source": [
    "### 2.1 教程例题"
   ]
  },
  {
   "cell_type": "code",
   "execution_count": 2,
   "metadata": {},
   "outputs": [
    {
     "name": "stdout",
     "output_type": "stream",
     "text": [
      "Train: (5600, 2), Val: (2400, 2), Test: (2000, 2)\n",
      "交叉验证结果： [1. 1. 1. 1. 1.]\n",
      "Blending Accuracy: 100.000\n"
     ]
    }
   ],
   "source": [
    "from sklearn.datasets import make_blobs\n",
    "from sklearn.ensemble import RandomForestClassifier\n",
    "from sklearn.neighbors import KNeighborsClassifier\n",
    "from sklearn.svm import SVC\n",
    "from sklearn.model_selection import train_test_split, cross_val_score\n",
    "\n",
    "\n",
    "def get_models():\n",
    "    models = list()\n",
    "    models.append(('svm', SVC(probability=True)))\n",
    "    models.append(('rfc', RandomForestClassifier(\n",
    "        n_estimators=5, n_jobs=-1, criterion='gini')))\n",
    "    models.append(('knn', KNeighborsClassifier()))\n",
    "    return models\n",
    "\n",
    "\n",
    "def train_test_val_split(X, y):\n",
    "    # 划分训练集和测试集\n",
    "    X_train_full, X_test, y_train_full, y_test = train_test_split(\n",
    "        X, y, test_size=0.2, random_state=1)\n",
    "    X_train, X_val, y_train, y_val = train_test_split(\n",
    "        X_train_full, y_train_full, test_size=0.3, random_state=1)\n",
    "    print('Train: %s, Val: %s, Test: %s' %\n",
    "          (X_train.shape, X_val.shape, X_test.shape))\n",
    "    return X_train, X_val, y_train, y_val, X_test, y_test\n",
    "\n",
    "\n",
    "X, y = make_blobs(n_samples=10000, centers=2, random_state=1, cluster_std=1.0)\n",
    "# 划分训练集、验证集、测试集\n",
    "X_train, X_val, y_train, y_val, X_test, y_test = train_test_val_split(X, y)\n",
    "# 构建第一层模型\n",
    "models = get_models()\n",
    "# 构建Blending对象\n",
    "blending = Blending(X_train, X_val, y_train, y_val, models)\n",
    "blending.fit_ensemble()\n",
    "yhat = blending.predict_ensemble(X_test)\n",
    "\n",
    "# 进行5次交叉验证\n",
    "print(\"交叉验证结果：\", cross_val_score(\n",
    "    blending.blender, yhat.reshape(-1, 1), y_test, cv=5))\n",
    "\n",
    "# 评估预测效果\n",
    "blending.score(y_test, yhat)"
   ]
  },
  {
   "cell_type": "markdown",
   "metadata": {},
   "source": [
    "### 2.2 使用iris数据集"
   ]
  },
  {
   "cell_type": "code",
   "execution_count": 3,
   "metadata": {},
   "outputs": [],
   "source": [
    "from sklearn.preprocessing import LabelEncoder\n",
    "import pandas as pd\n",
    "from sklearn import datasets\n",
    "\n",
    "iris = datasets.load_iris()\n",
    "X = iris.data\n",
    "y = iris.target\n",
    "features = iris.feature_names\n",
    "iris_data = pd.DataFrame(X, columns=features)\n",
    "iris_data['target'] = y\n",
    "# 数据预处理\n",
    "# 仅仅考虑0，1类鸢尾花\n",
    "iris_data = iris_data.loc[iris_data.target.isin([0, 2])]\n",
    "y = iris_data['target'].values\n",
    "X = iris_data[['sepal length (cm)', 'sepal width (cm)']].values\n",
    "\n",
    "# 将分类标签变成二进制编码：\n",
    "\n",
    "le = LabelEncoder()\n",
    "y = le.fit_transform(y)"
   ]
  },
  {
   "cell_type": "code",
   "execution_count": 4,
   "metadata": {},
   "outputs": [
    {
     "name": "stdout",
     "output_type": "stream",
     "text": [
      "Train: (56, 2), Val: (24, 2), Test: (20, 2)\n",
      "Blending Accuracy: 95.000\n"
     ]
    }
   ],
   "source": [
    "# 划分训练集、验证集、测试集\n",
    "X_train, X_val, y_train, y_val, X_test, y_test = train_test_val_split(X, y)\n",
    "# 构建第一层模型\n",
    "models = get_models()\n",
    "# 构建Blending对象\n",
    "blending = Blending(X_train, X_val, y_train, y_val, models)\n",
    "blending.fit_ensemble()\n",
    "yhat = blending.predict_ensemble(X_test)\n",
    "\n",
    "# 评估预测效果\n",
    "blending.score(y_test, yhat)"
   ]
  },
  {
   "cell_type": "code",
   "execution_count": 5,
   "metadata": {},
   "outputs": [
    {
     "data": {
      "image/png": "[encoded data removed]",
      "text/plain": [
       "<Figure size 432x288 with 1 Axes>"
      ]
     },
     "metadata": {},
     "output_type": "display_data"
    }
   ],
   "source": [
    "import matplotlib.pyplot as plt\n",
    "%matplotlib inline\n",
    "\n",
    "plt.style.use(\"ggplot\")\n",
    "\n",
    "# 画出Blending的决策边界\n",
    "x_min = X_test[:, 0].min() - 1\n",
    "x_max = X_test[:, 0].max() + 1\n",
    "y_min = X_test[:, 1].min() - 1\n",
    "y_max = X_test[:, 1].max() + 1\n",
    "xx, yy = np.meshgrid(np.arange(x_min, x_max, 0.1),\n",
    "                     np.arange(y_min, y_max, 0.1))\n",
    "yhat = blending.predict_ensemble(np.c_[xx.ravel(), yy.ravel()])\n",
    "Z = yhat.reshape(-1, 1).reshape(xx.shape)\n",
    "\n",
    "plt.contourf(xx, yy, Z, alpha=0.3)\n",
    "plt.scatter(X_test[y_test == 0, 0],\n",
    "            X_test[y_test == 0, 1], c='blue', marker='^')\n",
    "plt.scatter(X_test[y_test == 1, 0],\n",
    "            X_test[y_test == 1, 1], c='red', marker='o')\n",
    "plt.title('Blending')\n",
    "plt.ylabel('sepal length (cm)')\n",
    "plt.xlabel('sepal width (cm)')\n",
    "plt.show()"
   ]
  }
 ],
 "metadata": {
  "kernelspec": {
   "display_name": "Python 3",
   "language": "python",
   "name": "python3"
  },
  "language_info": {
   "codemirror_mode": {
    "name": "ipython",
    "version": 3
   },
   "file_extension": ".py",
   "mimetype": "text/x-python",
   "name": "python",
   "nbconvert_exporter": "python",
   "pygments_lexer": "ipython3",
   "version": "3.7.9"
  },
  "toc": {
   "base_numbering": 1,
   "nav_menu": {},
   "number_sections": false,
   "sideBar": true,
   "skip_h1_title": false,
   "title_cell": "Table of Contents",
   "title_sidebar": "Contents",
   "toc_cell": false,
   "toc_position": {},
   "toc_section_display": true,
   "toc_window_display": false
  }
 },
 "nbformat": 4,
 "nbformat_minor": 1
}
