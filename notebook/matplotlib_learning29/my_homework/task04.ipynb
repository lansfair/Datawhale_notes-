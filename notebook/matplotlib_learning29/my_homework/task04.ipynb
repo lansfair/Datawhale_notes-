{
 "cells": [
  {
   "cell_type": "markdown",
   "metadata": {
    "collapsed": true
   },
   "source": [
    "# Task04 文字图例尽眉目"
   ]
  },
  {
   "cell_type": "markdown",
   "metadata": {},
   "source": [
    "## 1 知识梳理"
   ]
  },
  {
   "cell_type": "markdown",
   "metadata": {},
   "source": [
    "### 1.1 Figure和Axes上的文本"
   ]
  },
  {
   "cell_type": "markdown",
   "metadata": {},
   "source": [
    "1. text方法\n",
    "   - pyplot API：matplotlib.pyplot.text(x, y, s, fontdict=None, \\*\\*kwargs)  \n",
    "   - OO API：Axes.text(self, x, y, s, fontdict=None, \\*\\*kwargs)\n",
    "   - 相关参数：\n",
    "      - s：此参数是要添加的文本。  \n",
    "      - xy：此参数是放置文本的点(x，y)。  \n",
    "      - fontdict：此参数是一个可选参数，并且是一个覆盖默认文本属性的字典。如果fontdict为None，则由rcParams确定默认值。"
   ]
  },
  {
   "cell_type": "markdown",
   "metadata": {},
   "source": [
    "2. title和set_title方法\n",
    "   - pyplot API：matplotlib.pyplot.title(label, fontdict=None, loc=None, pad=None, \\*, y=None, \\*\\*kwargs)  \n",
    "   - OO API：Axes.set_title(self, label, fontdict=None, loc=None, pad=None, \\*, y=None, \\*\\*kwargs)\n",
    "   - 相关参数：\n",
    "      - label：str，此参数是要添加的文本  \n",
    "      - fontdict：dict，此参数是控制title文本的外观，默认fontdict如下：\n",
    "          ```python\n",
    "          {'fontsize': rcParams['axes.titlesize'],\n",
    "          'fontweight': rcParams['axes.titleweight'],\n",
    "          'color': rcParams['axes.titlecolor'],\n",
    "          'verticalalignment': 'baseline',\n",
    "          'horizontalalignment': loc}\n",
    "          ```\n",
    "      - loc：str，{'center', 'left', 'right'}默认为center  \n",
    "      - pad：float，该参数是指标题偏离图表顶部的距离，默认为6。  \n",
    "      - y：float，该参数是title所在axes垂向的位置。默认值为1，即title位于axes的顶部。  \n",
    "      - kwargs：该参数是指可以设置的一些奇特文本的属性。"
   ]
  },
  {
   "cell_type": "markdown",
   "metadata": {},
   "source": [
    "3. figtext方法\n",
    "   - pyplot API：matplotlib.pyplot.figtext(x, y, s, fontdict=None, \\*\\*kwargs)  \n",
    "   - OO API：text(self, x, y, s, fontdict=None,\\*\\*kwargs)\n",
    "   - 相关参数：\n",
    "      - x,y：float，此参数是指在figure中放置文本的位置。一般取值是在$[0,1]$范围内。使用transform关键字可以更改坐标系。  \n",
    "      - s：str，此参数是指文本  \n",
    "      - fontdict：dict，此参数是一个可选参数，并且是一个覆盖默认文本属性的字典。如果fontdict为None，则由rcParams确定默认值。"
   ]
  },
  {
   "cell_type": "markdown",
   "metadata": {},
   "source": [
    "4. suptitle方法\n",
    "   - pyplot API：matplotlib.pyplot.suptitle(t, \\*\\*kwargs)  \n",
    "   - OO API：suptitle(self, t, \\*\\*kwargs)\n",
    "   - 相关参数：\n",
    "      - t：str，标题的文本  \n",
    "      - x：float，默认值是0.5。该参数是指文本在figure坐标系下的x坐标  \n",
    "      - y：float，默认值是0.95。该参数是指文本在figure坐标系下的y坐标  \n",
    "      - horizontalalignment, ha：该参数是指选择文本水平对齐方式，有三种选择{'center', 'left', right'}，默认值是 'center'  \n",
    "      - verticalalignment, va：该参数是指选择文本垂直对齐方式，有四种选择{'top', 'center', 'bottom', 'baseline'}，默认值是 'top'  \n",
    "      - fontsize, size：该参数是指文本的大小，默认值是依据rcParams的设置：rcParams[\"figure.titlesize\"] (default: 'large')  \n",
    "      - fontweight, weight：该参数是用来设置字重。默认值是依据rcParams的设置：rcParams[\"figure.titleweight\"] (default: 'normal')  \n",
    "      - [fontproperties](https://matplotlib.org/api/font_manager_api.html#matplotlib.font_manager.FontProperties)：None or dict，该参数是可选参数，如果该参数被指定，字体的大小将从该参数的默认值中提取。"
   ]
  },
  {
   "cell_type": "markdown",
   "metadata": {},
   "source": [
    "5. xlabel和ylabel\n",
    "   - yplot API：  \n",
    "    matplotlib.pyplot.xlabel(xlabel, fontdict=None, labelpad=None, \\*, loc=None, \\*\\*kwargs)  \n",
    "    matplotlib.pyplot.ylabel(ylabel, fontdict=None, labelpad=None, \\*, loc=None, \\*\\*kwargs) \n",
    "   - OO API：   \n",
    "    Axes.set_xlabel(self, xlabel, fontdict=None, labelpad=None, \\*, loc=None, \\*\\*kwargs)   \n",
    "    Axes.set_ylabel(self, ylabel, fontdict=None, labelpad=None, \\*, loc=None, \\*\\*kwargs) \n",
    "   - 相关参数：\n",
    "       - xlabel或者ylabel：label的文本  \n",
    "       - labelpad：设置label距离轴(axis)的距离  \n",
    "       - loc：{'left', 'center', 'right'},默认为center  \n",
    "       - \\*\\*kwargs：[文本](https://matplotlib.org/api/text_api.html#matplotlib.text.Text)属性"
   ]
  },
  {
   "cell_type": "markdown",
   "metadata": {},
   "source": [
    "6. 字体属性的设置\n",
    "   - 全局字体设置：使用`plt.rcParams`进行设置\n",
    "   - 局部字体设置：在方法中直接使用`fontproperties`进行设置"
   ]
  },
  {
   "cell_type": "markdown",
   "metadata": {},
   "source": [
    "### 1.2 Tick上的文本"
   ]
  },
  {
   "cell_type": "markdown",
   "metadata": {},
   "source": [
    "1. 简单模式\n",
    "   - 使用axis的`set_ticks`方法设置标签位置\n",
    "   - 使用axis的`set_ticklabels`方法设置标签格式\n",
    "   - 使用axis的`set_ticks_position`方法设置刻度所在位置"
   ]
  },
  {
   "cell_type": "markdown",
   "metadata": {},
   "source": [
    "2. Tick Formatters\n",
    "   - 使用axis实例的`set_major_formatter`和`set_minor_formatter`方法设置标签格式\n",
    "      - 字符串格式：`matplotlib.ticker.StrMethodFormatter`\n",
    "      - 函数参数：`matplotlib.ticker.FuncFormatter`    "
   ]
  },
  {
   "cell_type": "markdown",
   "metadata": {},
   "source": [
    "3. Tick Locators\n",
    "  - 使用axis实例的`set_major_locator`和`set_minor_locator`方法设置标签位置\n",
    "  - 设置locator类型：\n",
    "    ```python\n",
    "    locator=plt.MaxNLocator(nbins=7)  \n",
    "    # 直接指定刻度所在的位置  \n",
    "    locator=plt.FixedLocator(locs=[0,0.5,1.5,2.5,3.5,4.5,5.5,6])\n",
    "    # 自动分配刻度值的位置\n",
    "    locator=plt.AutoLocator()\n",
    "    # 面元间距是1，从0.5开始\n",
    "    locator=plt.IndexLocator(offset=0.5, base=1)\n",
    "    # 将刻度的标签设置为1.5的倍数\n",
    "    locator=plt.MultipleLocator(1.5)  \n",
    "    # 线性划分5等分，4个刻度\n",
    "    locator=plt.LinearLocator(numticks=5)  \n",
    "    ```"
   ]
  },
  {
   "cell_type": "markdown",
   "metadata": {},
   "source": [
    "### 1.3 legend（图例）"
   ]
  },
  {
   "cell_type": "markdown",
   "metadata": {},
   "source": [
    "常用的几个参数：\n",
    "\n",
    "1. 设置图列位置\n",
    "\n",
    "plt.legend(loc='upper center') 等同于plt.legend(loc=9)\n",
    "\n",
    "| |  |  |\n",
    "| --- | --- | ------ |\n",
    "|  0: ‘best'  \n",
    "1: ‘upper right'  \n",
    "2: ‘upper left'  \n",
    "3: ‘lower left' |   \n",
    "4: ‘lower right'  \n",
    "5: ‘right'  \n",
    "6: ‘center left'                                           |    \n",
    "7: ‘center right'  \n",
    "8: ‘lower center'  \n",
    "9: ‘upper center'  \n",
    "10: ‘center' |  "
   ]
  },
  {
   "cell_type": "markdown",
   "metadata": {},
   "source": [
    "2. 设置图例字体大小  \n",
    "fontsize : int or float or {‘xx-small’, ‘x-small’, ‘small’, ‘medium’, ‘large’, ‘x-large’, ‘xx-large’}"
   ]
  },
  {
   "cell_type": "markdown",
   "metadata": {},
   "source": [
    "3. 设置图例边框及背景  \n",
    "plt.legend(loc='best',frameon=False) #去掉图例边框  \n",
    "plt.legend(loc='best',edgecolor='blue') #设置图例边框颜色  \n",
    "plt.legend(loc='best',facecolor='blue') #设置图例背景颜色,若无边框,参数无效"
   ]
  },
  {
   "cell_type": "markdown",
   "metadata": {},
   "source": [
    "4. 设置图例标题  \n",
    "legend = plt.legend([\"CH\", \"US\"], title='China VS Us')"
   ]
  },
  {
   "cell_type": "markdown",
   "metadata": {},
   "source": [
    "5. 设置图例名字及对应关系  \n",
    "legend = plt.legend([p1, p2], [\"CH\", \"US\"])"
   ]
  },
  {
   "cell_type": "markdown",
   "metadata": {},
   "source": [
    "## 2 实战练习"
   ]
  },
  {
   "cell_type": "markdown",
   "metadata": {},
   "source": [
    "### 2.1 Figure和Axes上的文本应用"
   ]
  },
  {
   "cell_type": "code",
   "execution_count": 1,
   "metadata": {},
   "outputs": [
    {
     "data": {
      "image/png": "[encoded data removed]",
      "text/plain": [
       "<Figure size 432x288 with 1 Axes>"
      ]
     },
     "metadata": {
      "needs_background": "light"
     },
     "output_type": "display_data"
    }
   ],
   "source": [
    "import matplotlib\n",
    "import matplotlib.pyplot as plt\n",
    "\n",
    "fig = plt.figure()\n",
    "ax = fig.add_subplot(111)\n",
    "fig.subplots_adjust(top=0.85)\n",
    "\n",
    "# 分别在figure和subplot上设置title\n",
    "fig.suptitle('bold figure suptitle', fontsize=14, fontweight='bold')\n",
    "ax.set_title('axes title')\n",
    "\n",
    "ax.set_xlabel('xlabel')\n",
    "ax.set_ylabel('ylabel')\n",
    "\n",
    "# 设置x-axis和y-axis的范围都是[0, 10]\n",
    "ax.axis([0, 10, 0, 10])\n",
    "\n",
    "ax.text(3, 8, 'boxed italics text in data coords', style='italic',\n",
    "        bbox={'facecolor': 'red', 'alpha': 0.5, 'pad': 10})\n",
    "\n",
    "ax.text(2, 6, r'an equation: $E=mc^2$', fontsize=15)\n",
    "font1 = {'family': 'Times New Roman',\n",
    "        'color':  'purple',\n",
    "        'weight': 'normal',\n",
    "        'size': 10,\n",
    "        }\n",
    "ax.text(3, 2, 'unicode: Institut für Festkörperphysik',fontdict=font1)\n",
    "ax.text(0.95, 0.01, 'colored text in axes coords',\n",
    "        verticalalignment='bottom', horizontalalignment='right',\n",
    "        transform=ax.transAxes,\n",
    "        color='green', fontsize=15)\n",
    "\n",
    "plt.show()"
   ]
  },
  {
   "cell_type": "markdown",
   "metadata": {},
   "source": [
    "### 2.2 Tick上的文本应用"
   ]
  },
  {
   "cell_type": "code",
   "execution_count": 2,
   "metadata": {},
   "outputs": [
    {
     "data": {
      "image/png": "[encoded data removed]",
      "text/plain": [
       "<Figure size 432x288 with 1 Axes>"
      ]
     },
     "metadata": {
      "needs_background": "light"
     },
     "output_type": "display_data"
    }
   ],
   "source": [
    "import matplotlib.pyplot as plt\n",
    "import numpy as np\n",
    "\n",
    "x = np.linspace(-3, 3, 50)\n",
    "y1 = 2*x+1\n",
    "y2 = x**2\n",
    "plt.figure()\n",
    "\n",
    "# 绘制y2\n",
    "plt.plot(x, y2)\n",
    "# 绘制y1，红色，线宽为1，虚线\n",
    "plt.plot(x, y1, color='red', linewidth=1.0, linestyle='--')\n",
    "# 设置横纵轴的范围\n",
    "plt.xlim((-3, 5))\n",
    "plt.ylim((-3, 5))\n",
    "# 设置标签\n",
    "plt.xlabel('x')\n",
    "plt.ylabel('y')\n",
    "\n",
    "# 设置新刻度\n",
    "new_ticks1 = np.linspace(-3, 5, 5)\n",
    "plt.xticks(new_ticks1)\n",
    "plt.yticks([-2, 0, 2, 5], [r'$one\\ shu$', r'$\\alpha$', r'$three$', r'four'])\n",
    "'''\n",
    "上一行代码是将y轴上的小标改成文字,其中，空格需要增加\\，即'\\ ',$可将格式更改成数字模式，如果需要输入数学形式的α，则需要用\\转换，即\\alpha\n",
    "如果使用面向对象的命令进行画图，那么下面两行代码可以实现与 plt.yticks([-2,0,2,5],[r'$one\\ shu$',r'$\\alpha$',r'$three$',r'four']) 同样的功能\n",
    "axs.set_yticks([-2,0,2,5])\n",
    "axs.set_yticklabels([r'$one\\ shu$',r'$\\alpha$',r'$three$',r'four'])\n",
    "'''\n",
    "\n",
    "# gca = 'get current axes' 获取现在的轴\n",
    "ax = plt.gca()  \n",
    "'''\n",
    "ax = plt.gca()是获取当前的axes，其中gca代表的是get current axes。\n",
    "fig=plt.gcf是获取当前的figure，其中gcf代表的是get current figure。\n",
    "\n",
    "许多函数都是对当前的Figure或Axes对象进行处理，\n",
    "例如plt.plot()实际上会通过plt.gca()获得当前的Axes对象ax，然后再调用ax.plot()方法实现真正的绘图。\n",
    "'''\n",
    "\n",
    "'''\n",
    "而在本例中则可以通过ax.spines方法获得当前顶部和右边的轴并将其颜色设置为不可见\n",
    "然后将左边轴和底部的轴所在的位置重新设置\n",
    "最后再通过set_ticks_position方法设置ticks在x轴或y轴的位置，本示例中因所设置的bottom和left是ticks在x轴或y轴的默认值，所以这两行的代码也可以不写\n",
    "'''\n",
    "ax.spines['top'].set_color('none')\n",
    "ax.spines['right'].set_color('none')\n",
    "ax.spines['left'].set_position(('data', 0))\n",
    "ax.spines['bottom'].set_position(('data', 0))  # axes 百分比\n",
    "ax.xaxis.set_ticks_position('bottom')  # 设置ticks在x轴的位置\n",
    "ax.yaxis.set_ticks_position('left')  # 设置ticks在y轴的位置\n",
    "plt.show()"
   ]
  },
  {
   "cell_type": "markdown",
   "metadata": {},
   "source": [
    "### 2.3 多图例应用"
   ]
  },
  {
   "cell_type": "code",
   "execution_count": 3,
   "metadata": {},
   "outputs": [
    {
     "data": {
      "text/plain": [
       "<matplotlib.legend.Legend at 0x17662530288>"
      ]
     },
     "execution_count": 3,
     "metadata": {},
     "output_type": "execute_result"
    },
    {
     "data": {
      "image/png": "[encoded data removed]",
      "text/plain": [
       "<Figure size 432x288 with 1 Axes>"
      ]
     },
     "metadata": {
      "needs_background": "light"
     },
     "output_type": "display_data"
    }
   ],
   "source": [
    "import matplotlib.pyplot as plt\n",
    "import numpy as np\n",
    "\n",
    "x = np.random.uniform(-1, 1, 4)\n",
    "y = np.random.uniform(-1, 1, 4)\n",
    "# 绘制直线p1\n",
    "p1, = plt.plot([1, 2, 3])\n",
    "# 绘制直线p2\n",
    "p2, = plt.plot([3, 2, 1])\n",
    "# 绘制图例\n",
    "l1 = plt.legend([p2, p1], [\"line 2\", \"line 1\"], loc='upper left')\n",
    "\n",
    "# 绘制散点图p3\n",
    "p3 = plt.scatter(x[0:2], y[0:2], marker='D', color='r')\n",
    "# 绘制散点图p4\n",
    "p4 = plt.scatter(x[2:], y[2:], marker='D', color='g')\n",
    "# 添加了新的legend，将l1从legend中给移除\n",
    "plt.legend([p3, p4], ['label', 'label1'], loc='lower right', scatterpoints=1)\n",
    "# 为了保留之前的l1这个legend，必须要通过plt.gca()获得当前的axes，\n",
    "# 然后将l1作为单独的artist\n",
    "plt.gca().add_artist(l1)"
   ]
  },
  {
   "cell_type": "markdown",
   "metadata": {},
   "source": [
    "## 3 总结"
   ]
  },
  {
   "cell_type": "markdown",
   "metadata": {},
   "source": [
    "&emsp;&emsp;本次任务，主要介绍了Figure、Axes和Tick上的文本应用，以及legend图例的使用。详细讲解了`text`、`title`、`set_title`、`figtext`、`subtitle`、`xlabel`、`ylabel`和字体的属性设置；Tick上的文本主要分为Locators（标签位置）和Formatters（标签格式化）的应用；通过讲解legend（图例）的常用参数，展示了多图例的使用方式。"
   ]
  }
 ],
 "metadata": {
  "kernelspec": {
   "display_name": "Python 3",
   "language": "python",
   "name": "python3"
  },
  "language_info": {
   "codemirror_mode": {
    "name": "ipython",
    "version": 3
   },
   "file_extension": ".py",
   "mimetype": "text/x-python",
   "name": "python",
   "nbconvert_exporter": "python",
   "pygments_lexer": "ipython3",
   "version": "3.7.9"
  },
  "toc": {
   "base_numbering": 1,
   "nav_menu": {},
   "number_sections": false,
   "sideBar": true,
   "skip_h1_title": false,
   "title_cell": "Table of Contents",
   "title_sidebar": "Contents",
   "toc_cell": false,
   "toc_position": {},
   "toc_section_display": true,
   "toc_window_display": false
  }
 },
 "nbformat": 4,
 "nbformat_minor": 1
}
